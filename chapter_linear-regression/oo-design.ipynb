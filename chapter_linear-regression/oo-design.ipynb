{
 "cells": [
  {
   "cell_type": "markdown",
   "id": "6f119926",
   "metadata": {},
   "source": [
    "The following additional libraries are needed to run this\n",
    "notebook. Note that running on Colab is experimental, please report a Github\n",
    "issue if you have any problem."
   ]
  },
  {
   "cell_type": "code",
   "execution_count": 1,
   "id": "205dbf2b",
   "metadata": {},
   "outputs": [],
   "source": [
    "%%capture\n",
    "\n",
    "import sys\n",
    "sys.path.append('..')\n",
    "import mock_d2l_jax as d2l"
   ]
  },
  {
   "cell_type": "markdown",
   "id": "16124832",
   "metadata": {
    "origin_pos": 1
   },
   "source": [
    "# Object-Oriented Design for Implementation\n",
    ":label:`sec_oo-design`\n",
    "\n",
    "In our introduction to linear regression,\n",
    "we walked through various components\n",
    "including\n",
    "the data, the model, the loss function,\n",
    "and the optimization algorithm.\n",
    "Indeed,\n",
    "linear regression is\n",
    "one of the simplest machine learning models.\n",
    "Training it,\n",
    "however, uses many of the same components as other models in this book require.\n",
    "Therefore, \n",
    "before diving into the implementation details\n",
    "it is worth \n",
    "designing some of the APIs\n",
    "used throughout this book. \n",
    "Treating components in deep learning\n",
    "as objects,\n",
    "we can start by\n",
    "defining classes for these objects\n",
    "and their interactions.\n",
    "This object-oriented design\n",
    "for implementation\n",
    "will greatly\n",
    "streamline the presentation and you might even want to use it in your projects.\n",
    "\n",
    "\n",
    "Inspired by open-source libraries such as [PyTorch Lightning](https://www.pytorchlightning.ai/),\n",
    "on a high level\n",
    "we wish to have three classes: \n",
    "(i) `Module` contains models, losses, and optimization methods; \n",
    "(ii) `DataModule` provides data loaders for training and validation; \n",
    "(iii) both classes are combined using the `Trainer` class, which allows us to\n",
    "train models on a variety of hardware platforms. \n",
    "Most code in this book adapts `Module` and `DataModule`. We will touch upon the `Trainer` class only when we discuss GPUs, CPUs, parallel training, and optimization algorithms.\n"
   ]
  },
  {
   "cell_type": "code",
   "execution_count": 2,
   "id": "48022243",
   "metadata": {
    "execution": {
     "iopub.execute_input": "2022-07-13T08:12:56.374325Z",
     "iopub.status.busy": "2022-07-13T08:12:56.373927Z",
     "iopub.status.idle": "2022-07-13T08:12:58.516330Z",
     "shell.execute_reply": "2022-07-13T08:12:58.515305Z"
    },
    "origin_pos": 3,
    "tab": [
     "pytorch"
    ]
   },
   "outputs": [],
   "source": [
    "import time\n",
    "import numpy as np\n",
    "\n",
    "import jax\n",
    "from jax import numpy as jnp, random, grad, vmap, jit\n",
    "from flax import linen as nn\n",
    "from flax.training.train_state import TrainState\n",
    "import optax\n",
    "\n",
    "import tensorflow as tf\n",
    "import tensorflow_datasets as tfds\n",
    "\n",
    "# from d2l import jax as d2l"
   ]
  },
  {
   "cell_type": "markdown",
   "id": "30b25cea",
   "metadata": {
    "origin_pos": 5
   },
   "source": [
    "## Utilities\n",
    ":label:`oo-design-utilities`\n",
    "\n",
    "We need a few utilities to simplify object-oriented programming in Jupyter notebooks. One of the challenges is that class definitions tend to be fairly long blocks of code. Notebook readability demands short code fragments, interspersed with explanations, a requirement incompatible with the style of programming common for Python libraries. The first\n",
    "utility function allows us to register functions as methods in a class *after* the class has been created. In fact, we can do so *even after* we've created instances of the class! It allows us to split the implementation of a class into multiple code blocks.\n"
   ]
  },
  {
   "cell_type": "code",
   "execution_count": 3,
   "id": "b824812b",
   "metadata": {
    "execution": {
     "iopub.execute_input": "2022-07-13T08:12:58.561603Z",
     "iopub.status.busy": "2022-07-13T08:12:58.560869Z",
     "iopub.status.idle": "2022-07-13T08:12:58.565636Z",
     "shell.execute_reply": "2022-07-13T08:12:58.564847Z"
    },
    "origin_pos": 6,
    "tab": [
     "pytorch"
    ]
   },
   "outputs": [],
   "source": [
    "def add_to_class(Class):  #@save\n",
    "    def wrapper(obj):\n",
    "        setattr(Class, obj.__name__, obj)\n",
    "    return wrapper"
   ]
  },
  {
   "cell_type": "markdown",
   "id": "d580aff1",
   "metadata": {
    "origin_pos": 7
   },
   "source": [
    "Let's have a quick look at how to use it. We plan to implement a class `A` with a method `do`. Instead of having code for both `A` and `do` in the same code block, we can first declare the class `A` and create an instance `a`.\n"
   ]
  },
  {
   "cell_type": "code",
   "execution_count": 4,
   "id": "2fae08b3",
   "metadata": {
    "execution": {
     "iopub.execute_input": "2022-07-13T08:12:58.570278Z",
     "iopub.status.busy": "2022-07-13T08:12:58.569743Z",
     "iopub.status.idle": "2022-07-13T08:12:58.574041Z",
     "shell.execute_reply": "2022-07-13T08:12:58.573099Z"
    },
    "origin_pos": 8,
    "tab": [
     "pytorch"
    ]
   },
   "outputs": [],
   "source": [
    "class A:\n",
    "    def __init__(self):\n",
    "        self.b = 1\n",
    "\n",
    "a = A()"
   ]
  },
  {
   "cell_type": "markdown",
   "id": "40f28ae3",
   "metadata": {
    "origin_pos": 9
   },
   "source": [
    "Next we define the method `do` as we normally would, but not in class `A`'s scope. Instead, we decorate this method by `add_to_class` with class `A` as its argument. In doing so, the method is able to access the member variables of `A` as we would expect if it had been defined as part of `A`'s definition. Let's see what happens when we invoke it for the instance `a`.\n"
   ]
  },
  {
   "cell_type": "code",
   "execution_count": 5,
   "id": "da20d34b",
   "metadata": {
    "execution": {
     "iopub.execute_input": "2022-07-13T08:12:58.578627Z",
     "iopub.status.busy": "2022-07-13T08:12:58.578054Z",
     "iopub.status.idle": "2022-07-13T08:12:58.583224Z",
     "shell.execute_reply": "2022-07-13T08:12:58.582265Z"
    },
    "origin_pos": 10,
    "tab": [
     "pytorch"
    ]
   },
   "outputs": [
    {
     "name": "stdout",
     "output_type": "stream",
     "text": [
      "Class attribute \"b\" is 1\n"
     ]
    }
   ],
   "source": [
    "@add_to_class(A)\n",
    "def do(self):\n",
    "    print('Class attribute \"b\" is', self.b)\n",
    "\n",
    "a.do()"
   ]
  },
  {
   "cell_type": "markdown",
   "id": "8bacbae7",
   "metadata": {
    "origin_pos": 11
   },
   "source": [
    "The second one is a utility class that saves all arguments in a class's `__init__` method as class attributes. This allows us to extend constructor call signatures implicitly without additional code.\n"
   ]
  },
  {
   "cell_type": "code",
   "execution_count": 6,
   "id": "24cb9bc3",
   "metadata": {
    "execution": {
     "iopub.execute_input": "2022-07-13T08:12:58.588799Z",
     "iopub.status.busy": "2022-07-13T08:12:58.588276Z",
     "iopub.status.idle": "2022-07-13T08:12:58.592724Z",
     "shell.execute_reply": "2022-07-13T08:12:58.591615Z"
    },
    "origin_pos": 12,
    "tab": [
     "pytorch"
    ]
   },
   "outputs": [],
   "source": [
    "class HyperParameters:  #@save\n",
    "    def save_hyperparameters(self, ignore=[]):\n",
    "        raise NotImplemented"
   ]
  },
  {
   "cell_type": "markdown",
   "id": "fd12853c",
   "metadata": {
    "origin_pos": 13
   },
   "source": [
    "We defer its implementation into :numref:`sec_utils`. To use it, we define our class that inherits from `HyperParameters` and calls `save_hyperparameters` in the `__init__` method.\n"
   ]
  },
  {
   "cell_type": "code",
   "execution_count": 7,
   "id": "f0bf22fa",
   "metadata": {
    "execution": {
     "iopub.execute_input": "2022-07-13T08:12:58.597436Z",
     "iopub.status.busy": "2022-07-13T08:12:58.596755Z",
     "iopub.status.idle": "2022-07-13T08:12:58.603583Z",
     "shell.execute_reply": "2022-07-13T08:12:58.602744Z"
    },
    "origin_pos": 14,
    "tab": [
     "pytorch"
    ]
   },
   "outputs": [
    {
     "name": "stdout",
     "output_type": "stream",
     "text": [
      "self.a = 1 self.b = 2\n",
      "There is no self.c = True\n"
     ]
    }
   ],
   "source": [
    "# Call the fully implemented HyperParameters class saved in d2l\n",
    "class B(d2l.HyperParameters):\n",
    "    def __init__(self, a, b, c):\n",
    "        self.save_hyperparameters(ignore=['c'])\n",
    "        print('self.a =', self.a, 'self.b =', self.b)\n",
    "        print('There is no self.c =', not hasattr(self, 'c'))\n",
    "\n",
    "b = B(a=1, b=2, c=3)"
   ]
  },
  {
   "cell_type": "markdown",
   "id": "627ca955",
   "metadata": {
    "origin_pos": 15
   },
   "source": [
    "The last utility allows us to plot experiment progress interactively while it is going on. In deference to the much more powerful (and complex) [TensorBoard](https://www.tensorflow.org/tensorboard) we name it `ProgressBoard`. The  implementation is deferred to :numref:`sec_utils`. For now, let's simply see it in action.\n",
    "\n",
    "The `draw` function plots a point `(x, y)` in the figure, with `label` specified in the legend. The optional `every_n` smooths the line by only showing $1/n$ points in the figure. Their values are averaged from the $n$ neighbor points in the original figure.\n"
   ]
  },
  {
   "cell_type": "code",
   "execution_count": 8,
   "id": "42efa2ad",
   "metadata": {
    "execution": {
     "iopub.execute_input": "2022-07-13T08:12:58.607969Z",
     "iopub.status.busy": "2022-07-13T08:12:58.607550Z",
     "iopub.status.idle": "2022-07-13T08:12:58.613528Z",
     "shell.execute_reply": "2022-07-13T08:12:58.612679Z"
    },
    "origin_pos": 16,
    "tab": [
     "pytorch"
    ]
   },
   "outputs": [],
   "source": [
    "class ProgressBoard(d2l.HyperParameters):  #@save\n",
    "    \"\"\"Plot data points in animation.\"\"\"\n",
    "    def __init__(self, xlabel=None, ylabel=None, xlim=None,\n",
    "                 ylim=None, xscale='linear', yscale='linear',\n",
    "                 ls=['-', '--', '-.', ':'], colors=['C0', 'C1', 'C2', 'C3'],\n",
    "                 fig=None, axes=None, figsize=(3.5, 2.5), display=True):\n",
    "        self.save_hyperparameters()\n",
    "\n",
    "    def draw(self, x, y, label, every_n=1):\n",
    "        raise NotImplemented"
   ]
  },
  {
   "cell_type": "markdown",
   "id": "91f6685b",
   "metadata": {
    "origin_pos": 17
   },
   "source": [
    "In the following example, we draw `sin` and `cos` with a different smoothness. If you run this code block, you will see the lines grow in animation.\n"
   ]
  },
  {
   "cell_type": "code",
   "execution_count": 9,
   "id": "d03829f3",
   "metadata": {
    "execution": {
     "iopub.execute_input": "2022-07-13T08:12:58.618037Z",
     "iopub.status.busy": "2022-07-13T08:12:58.617605Z",
     "iopub.status.idle": "2022-07-13T08:13:13.888291Z",
     "shell.execute_reply": "2022-07-13T08:13:13.887415Z"
    },
    "origin_pos": 18,
    "tab": [
     "pytorch"
    ]
   },
   "outputs": [
    {
     "data": {
      "image/svg+xml": "<?xml version=\"1.0\" encoding=\"utf-8\" standalone=\"no\"?>\n<!DOCTYPE svg PUBLIC \"-//W3C//DTD SVG 1.1//EN\"\n  \"http://www.w3.org/Graphics/SVG/1.1/DTD/svg11.dtd\">\n<svg xmlns:xlink=\"http://www.w3.org/1999/xlink\" width=\"241.185572pt\" height=\"180.65625pt\" viewBox=\"0 0 241.185572 180.65625\" xmlns=\"http://www.w3.org/2000/svg\" version=\"1.1\">\n <metadata>\n  <rdf:RDF xmlns:dc=\"http://purl.org/dc/elements/1.1/\" xmlns:cc=\"http://creativecommons.org/ns#\" xmlns:rdf=\"http://www.w3.org/1999/02/22-rdf-syntax-ns#\">\n   <cc:Work>\n    <dc:type rdf:resource=\"http://purl.org/dc/dcmitype/StillImage\"/>\n    <dc:date>2022-07-22T14:49:00.789932</dc:date>\n    <dc:format>image/svg+xml</dc:format>\n    <dc:creator>\n     <cc:Agent>\n      <dc:title>Matplotlib v3.5.1, https://matplotlib.org/</dc:title>\n     </cc:Agent>\n    </dc:creator>\n   </cc:Work>\n  </rdf:RDF>\n </metadata>\n <defs>\n  <style type=\"text/css\">*{stroke-linejoin: round; stroke-linecap: butt}</style>\n </defs>\n <g id=\"figure_1\">\n  <g id=\"patch_1\">\n   <path d=\"M -0 180.65625 \nL 241.185572 180.65625 \nL 241.185572 0 \nL -0 0 \nL -0 180.65625 \nz\n\" style=\"fill: none\"/>\n  </g>\n  <g id=\"axes_1\">\n   <g id=\"patch_2\">\n    <path d=\"M 38.482813 143.1 \nL 233.782813 143.1 \nL 233.782813 7.2 \nL 38.482813 7.2 \nz\n\" style=\"fill: #ffffff\"/>\n   </g>\n   <g id=\"matplotlib.axis_1\">\n    <g id=\"xtick_1\">\n     <g id=\"line2d_1\">\n      <defs>\n       <path id=\"m4f57af39b2\" d=\"M 0 0 \nL 0 3.5 \n\" style=\"stroke: #000000; stroke-width: 0.8\"/>\n      </defs>\n      <g>\n       <use xlink:href=\"#m4f57af39b2\" x=\"46.454241\" y=\"143.1\" style=\"stroke: #000000; stroke-width: 0.8\"/>\n      </g>\n     </g>\n     <g id=\"text_1\">\n      <!-- 0 -->\n      <g transform=\"translate(43.272991 157.698438)scale(0.1 -0.1)\">\n       <defs>\n        <path id=\"DejaVuSans-30\" d=\"M 2034 4250 \nQ 1547 4250 1301 3770 \nQ 1056 3291 1056 2328 \nQ 1056 1369 1301 889 \nQ 1547 409 2034 409 \nQ 2525 409 2770 889 \nQ 3016 1369 3016 2328 \nQ 3016 3291 2770 3770 \nQ 2525 4250 2034 4250 \nz\nM 2034 4750 \nQ 2819 4750 3233 4129 \nQ 3647 3509 3647 2328 \nQ 3647 1150 3233 529 \nQ 2819 -91 2034 -91 \nQ 1250 -91 836 529 \nQ 422 1150 422 2328 \nQ 422 3509 836 4129 \nQ 1250 4750 2034 4750 \nz\n\" transform=\"scale(0.015625)\"/>\n       </defs>\n       <use xlink:href=\"#DejaVuSans-30\"/>\n      </g>\n     </g>\n    </g>\n    <g id=\"xtick_2\">\n     <g id=\"line2d_2\">\n      <g>\n       <use xlink:href=\"#m4f57af39b2\" x=\"82.688007\" y=\"143.1\" style=\"stroke: #000000; stroke-width: 0.8\"/>\n      </g>\n     </g>\n     <g id=\"text_2\">\n      <!-- 2 -->\n      <g transform=\"translate(79.506757 157.698438)scale(0.1 -0.1)\">\n       <defs>\n        <path id=\"DejaVuSans-32\" d=\"M 1228 531 \nL 3431 531 \nL 3431 0 \nL 469 0 \nL 469 531 \nQ 828 903 1448 1529 \nQ 2069 2156 2228 2338 \nQ 2531 2678 2651 2914 \nQ 2772 3150 2772 3378 \nQ 2772 3750 2511 3984 \nQ 2250 4219 1831 4219 \nQ 1534 4219 1204 4116 \nQ 875 4013 500 3803 \nL 500 4441 \nQ 881 4594 1212 4672 \nQ 1544 4750 1819 4750 \nQ 2544 4750 2975 4387 \nQ 3406 4025 3406 3419 \nQ 3406 3131 3298 2873 \nQ 3191 2616 2906 2266 \nQ 2828 2175 2409 1742 \nQ 1991 1309 1228 531 \nz\n\" transform=\"scale(0.015625)\"/>\n       </defs>\n       <use xlink:href=\"#DejaVuSans-32\"/>\n      </g>\n     </g>\n    </g>\n    <g id=\"xtick_3\">\n     <g id=\"line2d_3\">\n      <g>\n       <use xlink:href=\"#m4f57af39b2\" x=\"118.921774\" y=\"143.1\" style=\"stroke: #000000; stroke-width: 0.8\"/>\n      </g>\n     </g>\n     <g id=\"text_3\">\n      <!-- 4 -->\n      <g transform=\"translate(115.740524 157.698438)scale(0.1 -0.1)\">\n       <defs>\n        <path id=\"DejaVuSans-34\" d=\"M 2419 4116 \nL 825 1625 \nL 2419 1625 \nL 2419 4116 \nz\nM 2253 4666 \nL 3047 4666 \nL 3047 1625 \nL 3713 1625 \nL 3713 1100 \nL 3047 1100 \nL 3047 0 \nL 2419 0 \nL 2419 1100 \nL 313 1100 \nL 313 1709 \nL 2253 4666 \nz\n\" transform=\"scale(0.015625)\"/>\n       </defs>\n       <use xlink:href=\"#DejaVuSans-34\"/>\n      </g>\n     </g>\n    </g>\n    <g id=\"xtick_4\">\n     <g id=\"line2d_4\">\n      <g>\n       <use xlink:href=\"#m4f57af39b2\" x=\"155.15554\" y=\"143.1\" style=\"stroke: #000000; stroke-width: 0.8\"/>\n      </g>\n     </g>\n     <g id=\"text_4\">\n      <!-- 6 -->\n      <g transform=\"translate(151.97429 157.698438)scale(0.1 -0.1)\">\n       <defs>\n        <path id=\"DejaVuSans-36\" d=\"M 2113 2584 \nQ 1688 2584 1439 2293 \nQ 1191 2003 1191 1497 \nQ 1191 994 1439 701 \nQ 1688 409 2113 409 \nQ 2538 409 2786 701 \nQ 3034 994 3034 1497 \nQ 3034 2003 2786 2293 \nQ 2538 2584 2113 2584 \nz\nM 3366 4563 \nL 3366 3988 \nQ 3128 4100 2886 4159 \nQ 2644 4219 2406 4219 \nQ 1781 4219 1451 3797 \nQ 1122 3375 1075 2522 \nQ 1259 2794 1537 2939 \nQ 1816 3084 2150 3084 \nQ 2853 3084 3261 2657 \nQ 3669 2231 3669 1497 \nQ 3669 778 3244 343 \nQ 2819 -91 2113 -91 \nQ 1303 -91 875 529 \nQ 447 1150 447 2328 \nQ 447 3434 972 4092 \nQ 1497 4750 2381 4750 \nQ 2619 4750 2861 4703 \nQ 3103 4656 3366 4563 \nz\n\" transform=\"scale(0.015625)\"/>\n       </defs>\n       <use xlink:href=\"#DejaVuSans-36\"/>\n      </g>\n     </g>\n    </g>\n    <g id=\"xtick_5\">\n     <g id=\"line2d_5\">\n      <g>\n       <use xlink:href=\"#m4f57af39b2\" x=\"191.389306\" y=\"143.1\" style=\"stroke: #000000; stroke-width: 0.8\"/>\n      </g>\n     </g>\n     <g id=\"text_5\">\n      <!-- 8 -->\n      <g transform=\"translate(188.208056 157.698438)scale(0.1 -0.1)\">\n       <defs>\n        <path id=\"DejaVuSans-38\" d=\"M 2034 2216 \nQ 1584 2216 1326 1975 \nQ 1069 1734 1069 1313 \nQ 1069 891 1326 650 \nQ 1584 409 2034 409 \nQ 2484 409 2743 651 \nQ 3003 894 3003 1313 \nQ 3003 1734 2745 1975 \nQ 2488 2216 2034 2216 \nz\nM 1403 2484 \nQ 997 2584 770 2862 \nQ 544 3141 544 3541 \nQ 544 4100 942 4425 \nQ 1341 4750 2034 4750 \nQ 2731 4750 3128 4425 \nQ 3525 4100 3525 3541 \nQ 3525 3141 3298 2862 \nQ 3072 2584 2669 2484 \nQ 3125 2378 3379 2068 \nQ 3634 1759 3634 1313 \nQ 3634 634 3220 271 \nQ 2806 -91 2034 -91 \nQ 1263 -91 848 271 \nQ 434 634 434 1313 \nQ 434 1759 690 2068 \nQ 947 2378 1403 2484 \nz\nM 1172 3481 \nQ 1172 3119 1398 2916 \nQ 1625 2713 2034 2713 \nQ 2441 2713 2670 2916 \nQ 2900 3119 2900 3481 \nQ 2900 3844 2670 4047 \nQ 2441 4250 2034 4250 \nQ 1625 4250 1398 4047 \nQ 1172 3844 1172 3481 \nz\n\" transform=\"scale(0.015625)\"/>\n       </defs>\n       <use xlink:href=\"#DejaVuSans-38\"/>\n      </g>\n     </g>\n    </g>\n    <g id=\"xtick_6\">\n     <g id=\"line2d_6\">\n      <g>\n       <use xlink:href=\"#m4f57af39b2\" x=\"227.623072\" y=\"143.1\" style=\"stroke: #000000; stroke-width: 0.8\"/>\n      </g>\n     </g>\n     <g id=\"text_6\">\n      <!-- 10 -->\n      <g transform=\"translate(221.260572 157.698438)scale(0.1 -0.1)\">\n       <defs>\n        <path id=\"DejaVuSans-31\" d=\"M 794 531 \nL 1825 531 \nL 1825 4091 \nL 703 3866 \nL 703 4441 \nL 1819 4666 \nL 2450 4666 \nL 2450 531 \nL 3481 531 \nL 3481 0 \nL 794 0 \nL 794 531 \nz\n\" transform=\"scale(0.015625)\"/>\n       </defs>\n       <use xlink:href=\"#DejaVuSans-31\"/>\n       <use xlink:href=\"#DejaVuSans-30\" x=\"63.623047\"/>\n      </g>\n     </g>\n    </g>\n    <g id=\"text_7\">\n     <!-- x -->\n     <g transform=\"translate(133.173438 171.376563)scale(0.1 -0.1)\">\n      <defs>\n       <path id=\"DejaVuSans-78\" d=\"M 3513 3500 \nL 2247 1797 \nL 3578 0 \nL 2900 0 \nL 1881 1375 \nL 863 0 \nL 184 0 \nL 1544 1831 \nL 300 3500 \nL 978 3500 \nL 1906 2253 \nL 2834 3500 \nL 3513 3500 \nz\n\" transform=\"scale(0.015625)\"/>\n      </defs>\n      <use xlink:href=\"#DejaVuSans-78\"/>\n     </g>\n    </g>\n   </g>\n   <g id=\"matplotlib.axis_2\">\n    <g id=\"ytick_1\">\n     <g id=\"line2d_7\">\n      <defs>\n       <path id=\"me5b14b9802\" d=\"M 0 0 \nL -3.5 0 \n\" style=\"stroke: #000000; stroke-width: 0.8\"/>\n      </defs>\n      <g>\n       <use xlink:href=\"#me5b14b9802\" x=\"38.482813\" y=\"137.120399\" style=\"stroke: #000000; stroke-width: 0.8\"/>\n      </g>\n     </g>\n     <g id=\"text_8\">\n      <!-- −1.0 -->\n      <g transform=\"translate(7.2 140.919618)scale(0.1 -0.1)\">\n       <defs>\n        <path id=\"DejaVuSans-2212\" d=\"M 678 2272 \nL 4684 2272 \nL 4684 1741 \nL 678 1741 \nL 678 2272 \nz\n\" transform=\"scale(0.015625)\"/>\n        <path id=\"DejaVuSans-2e\" d=\"M 684 794 \nL 1344 794 \nL 1344 0 \nL 684 0 \nL 684 794 \nz\n\" transform=\"scale(0.015625)\"/>\n       </defs>\n       <use xlink:href=\"#DejaVuSans-2212\"/>\n       <use xlink:href=\"#DejaVuSans-31\" x=\"83.789062\"/>\n       <use xlink:href=\"#DejaVuSans-2e\" x=\"147.412109\"/>\n       <use xlink:href=\"#DejaVuSans-30\" x=\"179.199219\"/>\n      </g>\n     </g>\n    </g>\n    <g id=\"ytick_2\">\n     <g id=\"line2d_8\">\n      <g>\n       <use xlink:href=\"#me5b14b9802\" x=\"38.482813\" y=\"106.165152\" style=\"stroke: #000000; stroke-width: 0.8\"/>\n      </g>\n     </g>\n     <g id=\"text_9\">\n      <!-- −0.5 -->\n      <g transform=\"translate(7.2 109.964371)scale(0.1 -0.1)\">\n       <defs>\n        <path id=\"DejaVuSans-35\" d=\"M 691 4666 \nL 3169 4666 \nL 3169 4134 \nL 1269 4134 \nL 1269 2991 \nQ 1406 3038 1543 3061 \nQ 1681 3084 1819 3084 \nQ 2600 3084 3056 2656 \nQ 3513 2228 3513 1497 \nQ 3513 744 3044 326 \nQ 2575 -91 1722 -91 \nQ 1428 -91 1123 -41 \nQ 819 9 494 109 \nL 494 744 \nQ 775 591 1075 516 \nQ 1375 441 1709 441 \nQ 2250 441 2565 725 \nQ 2881 1009 2881 1497 \nQ 2881 1984 2565 2268 \nQ 2250 2553 1709 2553 \nQ 1456 2553 1204 2497 \nQ 953 2441 691 2322 \nL 691 4666 \nz\n\" transform=\"scale(0.015625)\"/>\n       </defs>\n       <use xlink:href=\"#DejaVuSans-2212\"/>\n       <use xlink:href=\"#DejaVuSans-30\" x=\"83.789062\"/>\n       <use xlink:href=\"#DejaVuSans-2e\" x=\"147.412109\"/>\n       <use xlink:href=\"#DejaVuSans-35\" x=\"179.199219\"/>\n      </g>\n     </g>\n    </g>\n    <g id=\"ytick_3\">\n     <g id=\"line2d_9\">\n      <g>\n       <use xlink:href=\"#me5b14b9802\" x=\"38.482813\" y=\"75.209905\" style=\"stroke: #000000; stroke-width: 0.8\"/>\n      </g>\n     </g>\n     <g id=\"text_10\">\n      <!-- 0.0 -->\n      <g transform=\"translate(15.579688 79.009124)scale(0.1 -0.1)\">\n       <use xlink:href=\"#DejaVuSans-30\"/>\n       <use xlink:href=\"#DejaVuSans-2e\" x=\"63.623047\"/>\n       <use xlink:href=\"#DejaVuSans-30\" x=\"95.410156\"/>\n      </g>\n     </g>\n    </g>\n    <g id=\"ytick_4\">\n     <g id=\"line2d_10\">\n      <g>\n       <use xlink:href=\"#me5b14b9802\" x=\"38.482813\" y=\"44.254658\" style=\"stroke: #000000; stroke-width: 0.8\"/>\n      </g>\n     </g>\n     <g id=\"text_11\">\n      <!-- 0.5 -->\n      <g transform=\"translate(15.579688 48.053877)scale(0.1 -0.1)\">\n       <use xlink:href=\"#DejaVuSans-30\"/>\n       <use xlink:href=\"#DejaVuSans-2e\" x=\"63.623047\"/>\n       <use xlink:href=\"#DejaVuSans-35\" x=\"95.410156\"/>\n      </g>\n     </g>\n    </g>\n    <g id=\"ytick_5\">\n     <g id=\"line2d_11\">\n      <g>\n       <use xlink:href=\"#me5b14b9802\" x=\"38.482813\" y=\"13.299411\" style=\"stroke: #000000; stroke-width: 0.8\"/>\n      </g>\n     </g>\n     <g id=\"text_12\">\n      <!-- 1.0 -->\n      <g transform=\"translate(15.579688 17.098629)scale(0.1 -0.1)\">\n       <use xlink:href=\"#DejaVuSans-31\"/>\n       <use xlink:href=\"#DejaVuSans-2e\" x=\"63.623047\"/>\n       <use xlink:href=\"#DejaVuSans-30\" x=\"95.410156\"/>\n      </g>\n     </g>\n    </g>\n   </g>\n   <g id=\"line2d_12\">\n    <path d=\"M 47.360085 72.119537 \n\" clip-path=\"url(#p8c5b557a18)\" style=\"fill: none; stroke: #1f77b4; stroke-width: 1.5; stroke-linecap: square\"/>\n   </g>\n   <g id=\"line2d_13\"/>\n   <g id=\"line2d_14\">\n    <path d=\"M 47.360085 72.119537 \nL 50.983462 59.912146 \n\" clip-path=\"url(#p8c5b557a18)\" style=\"fill: none; stroke: #1f77b4; stroke-width: 1.5; stroke-linecap: square\"/>\n   </g>\n   <g id=\"line2d_15\"/>\n   <g id=\"line2d_16\">\n    <path d=\"M 47.360085 72.119537 \nL 50.983462 59.912146 \nL 54.606838 48.314628 \n\" clip-path=\"url(#p8c5b557a18)\" style=\"fill: none; stroke: #1f77b4; stroke-width: 1.5; stroke-linecap: square\"/>\n   </g>\n   <g id=\"line2d_17\"/>\n   <g id=\"line2d_18\">\n    <path d=\"M 47.360085 72.119537 \nL 50.983462 59.912146 \nL 54.606838 48.314628 \nL 58.230215 37.78934 \n\" clip-path=\"url(#p8c5b557a18)\" style=\"fill: none; stroke: #1f77b4; stroke-width: 1.5; stroke-linecap: square\"/>\n   </g>\n   <g id=\"line2d_19\"/>\n   <g id=\"line2d_20\">\n    <path d=\"M 47.360085 72.119537 \nL 50.983462 59.912146 \nL 54.606838 48.314628 \nL 58.230215 37.78934 \nL 61.853592 28.755892 \n\" clip-path=\"url(#p8c5b557a18)\" style=\"fill: none; stroke: #1f77b4; stroke-width: 1.5; stroke-linecap: square\"/>\n   </g>\n   <g id=\"line2d_21\"/>\n   <g id=\"line2d_22\">\n    <path d=\"M 47.360085 72.119537 \nL 50.983462 59.912146 \nL 54.606838 48.314628 \nL 58.230215 37.78934 \nL 61.853592 28.755892 \n\" clip-path=\"url(#p8c5b557a18)\" style=\"fill: none; stroke: #1f77b4; stroke-width: 1.5; stroke-linecap: square\"/>\n   </g>\n   <g id=\"line2d_23\">\n    <path d=\"M 54.606838 21.734435 \n\" clip-path=\"url(#p8c5b557a18)\" style=\"fill: none; stroke-dasharray: 5.55,2.4; stroke-dashoffset: 0; stroke: #ff7f0e; stroke-width: 1.5\"/>\n   </g>\n   <g id=\"line2d_24\">\n    <path d=\"M 47.360085 72.119537 \nL 50.983462 59.912146 \nL 54.606838 48.314628 \nL 58.230215 37.78934 \nL 61.853592 28.755892 \nL 65.476968 21.574419 \n\" clip-path=\"url(#p8c5b557a18)\" style=\"fill: none; stroke: #1f77b4; stroke-width: 1.5; stroke-linecap: square\"/>\n   </g>\n   <g id=\"line2d_25\">\n    <path d=\"M 54.606838 21.734435 \n\" clip-path=\"url(#p8c5b557a18)\" style=\"fill: none; stroke-dasharray: 5.55,2.4; stroke-dashoffset: 0; stroke: #ff7f0e; stroke-width: 1.5\"/>\n   </g>\n   <g id=\"line2d_26\">\n    <path d=\"M 47.360085 72.119537 \nL 50.983462 59.912146 \nL 54.606838 48.314628 \nL 58.230215 37.78934 \nL 61.853592 28.755892 \nL 65.476968 21.574419 \nL 69.100345 16.531223 \n\" clip-path=\"url(#p8c5b557a18)\" style=\"fill: none; stroke: #1f77b4; stroke-width: 1.5; stroke-linecap: square\"/>\n   </g>\n   <g id=\"line2d_27\">\n    <path d=\"M 54.606838 21.734435 \n\" clip-path=\"url(#p8c5b557a18)\" style=\"fill: none; stroke-dasharray: 5.55,2.4; stroke-dashoffset: 0; stroke: #ff7f0e; stroke-width: 1.5\"/>\n   </g>\n   <g id=\"line2d_28\">\n    <path d=\"M 47.360085 72.119537 \nL 50.983462 59.912146 \nL 54.606838 48.314628 \nL 58.230215 37.78934 \nL 61.853592 28.755892 \nL 65.476968 21.574419 \nL 69.100345 16.531223 \nL 72.723722 13.827361 \n\" clip-path=\"url(#p8c5b557a18)\" style=\"fill: none; stroke: #1f77b4; stroke-width: 1.5; stroke-linecap: square\"/>\n   </g>\n   <g id=\"line2d_29\">\n    <path d=\"M 54.606838 21.734435 \n\" clip-path=\"url(#p8c5b557a18)\" style=\"fill: none; stroke-dasharray: 5.55,2.4; stroke-dashoffset: 0; stroke: #ff7f0e; stroke-width: 1.5\"/>\n   </g>\n   <g id=\"line2d_30\">\n    <path d=\"M 47.360085 72.119537 \nL 50.983462 59.912146 \nL 54.606838 48.314628 \nL 58.230215 37.78934 \nL 61.853592 28.755892 \nL 65.476968 21.574419 \nL 69.100345 16.531223 \nL 72.723722 13.827361 \nL 76.347098 13.570628 \n\" clip-path=\"url(#p8c5b557a18)\" style=\"fill: none; stroke: #1f77b4; stroke-width: 1.5; stroke-linecap: square\"/>\n   </g>\n   <g id=\"line2d_31\">\n    <path d=\"M 54.606838 21.734435 \n\" clip-path=\"url(#p8c5b557a18)\" style=\"fill: none; stroke-dasharray: 5.55,2.4; stroke-dashoffset: 0; stroke: #ff7f0e; stroke-width: 1.5\"/>\n   </g>\n   <g id=\"line2d_32\">\n    <path d=\"M 47.360085 72.119537 \nL 50.983462 59.912146 \nL 54.606838 48.314628 \nL 58.230215 37.78934 \nL 61.853592 28.755892 \nL 65.476968 21.574419 \nL 69.100345 16.531223 \nL 72.723722 13.827361 \nL 76.347098 13.570628 \nL 79.970475 15.771258 \n\" clip-path=\"url(#p8c5b557a18)\" style=\"fill: none; stroke: #1f77b4; stroke-width: 1.5; stroke-linecap: square\"/>\n   </g>\n   <g id=\"line2d_33\">\n    <path d=\"M 54.606838 21.734435 \n\" clip-path=\"url(#p8c5b557a18)\" style=\"fill: none; stroke-dasharray: 5.55,2.4; stroke-dashoffset: 0; stroke: #ff7f0e; stroke-width: 1.5\"/>\n   </g>\n   <g id=\"line2d_34\">\n    <path d=\"M 47.360085 72.119537 \nL 50.983462 59.912146 \nL 54.606838 48.314628 \nL 58.230215 37.78934 \nL 61.853592 28.755892 \nL 65.476968 21.574419 \nL 69.100345 16.531223 \nL 72.723722 13.827361 \nL 76.347098 13.570628 \nL 79.970475 15.771258 \n\" clip-path=\"url(#p8c5b557a18)\" style=\"fill: none; stroke: #1f77b4; stroke-width: 1.5; stroke-linecap: square\"/>\n   </g>\n   <g id=\"line2d_35\">\n    <path d=\"M 54.606838 21.734435 \nL 72.723722 68.053524 \n\" clip-path=\"url(#p8c5b557a18)\" style=\"fill: none; stroke-dasharray: 5.55,2.4; stroke-dashoffset: 0; stroke: #ff7f0e; stroke-width: 1.5\"/>\n   </g>\n   <g id=\"line2d_36\">\n    <path d=\"M 47.360085 72.119537 \nL 50.983462 59.912146 \nL 54.606838 48.314628 \nL 58.230215 37.78934 \nL 61.853592 28.755892 \nL 65.476968 21.574419 \nL 69.100345 16.531223 \nL 72.723722 13.827361 \nL 76.347098 13.570628 \nL 79.970475 15.771258 \nL 83.593851 20.341519 \n\" clip-path=\"url(#p8c5b557a18)\" style=\"fill: none; stroke: #1f77b4; stroke-width: 1.5; stroke-linecap: square\"/>\n   </g>\n   <g id=\"line2d_37\">\n    <path d=\"M 54.606838 21.734435 \nL 72.723722 68.053524 \n\" clip-path=\"url(#p8c5b557a18)\" style=\"fill: none; stroke-dasharray: 5.55,2.4; stroke-dashoffset: 0; stroke: #ff7f0e; stroke-width: 1.5\"/>\n   </g>\n   <g id=\"line2d_38\">\n    <path d=\"M 47.360085 72.119537 \nL 50.983462 59.912146 \nL 54.606838 48.314628 \nL 58.230215 37.78934 \nL 61.853592 28.755892 \nL 65.476968 21.574419 \nL 69.100345 16.531223 \nL 72.723722 13.827361 \nL 76.347098 13.570628 \nL 79.970475 15.771258 \nL 83.593851 20.341519 \nL 87.217228 27.09921 \n\" clip-path=\"url(#p8c5b557a18)\" style=\"fill: none; stroke: #1f77b4; stroke-width: 1.5; stroke-linecap: square\"/>\n   </g>\n   <g id=\"line2d_39\">\n    <path d=\"M 54.606838 21.734435 \nL 72.723722 68.053524 \n\" clip-path=\"url(#p8c5b557a18)\" style=\"fill: none; stroke-dasharray: 5.55,2.4; stroke-dashoffset: 0; stroke: #ff7f0e; stroke-width: 1.5\"/>\n   </g>\n   <g id=\"line2d_40\">\n    <path d=\"M 47.360085 72.119537 \nL 50.983462 59.912146 \nL 54.606838 48.314628 \nL 58.230215 37.78934 \nL 61.853592 28.755892 \nL 65.476968 21.574419 \nL 69.100345 16.531223 \nL 72.723722 13.827361 \nL 76.347098 13.570628 \nL 79.970475 15.771258 \nL 83.593851 20.341519 \nL 87.217228 27.09921 \nL 90.840605 35.774922 \n\" clip-path=\"url(#p8c5b557a18)\" style=\"fill: none; stroke: #1f77b4; stroke-width: 1.5; stroke-linecap: square\"/>\n   </g>\n   <g id=\"line2d_41\">\n    <path d=\"M 54.606838 21.734435 \nL 72.723722 68.053524 \n\" clip-path=\"url(#p8c5b557a18)\" style=\"fill: none; stroke-dasharray: 5.55,2.4; stroke-dashoffset: 0; stroke: #ff7f0e; stroke-width: 1.5\"/>\n   </g>\n   <g id=\"line2d_42\">\n    <path d=\"M 47.360085 72.119537 \nL 50.983462 59.912146 \nL 54.606838 48.314628 \nL 58.230215 37.78934 \nL 61.853592 28.755892 \nL 65.476968 21.574419 \nL 69.100345 16.531223 \nL 72.723722 13.827361 \nL 76.347098 13.570628 \nL 79.970475 15.771258 \nL 83.593851 20.341519 \nL 87.217228 27.09921 \nL 90.840605 35.774922 \nL 94.463981 46.022783 \n\" clip-path=\"url(#p8c5b557a18)\" style=\"fill: none; stroke: #1f77b4; stroke-width: 1.5; stroke-linecap: square\"/>\n   </g>\n   <g id=\"line2d_43\">\n    <path d=\"M 54.606838 21.734435 \nL 72.723722 68.053524 \n\" clip-path=\"url(#p8c5b557a18)\" style=\"fill: none; stroke-dasharray: 5.55,2.4; stroke-dashoffset: 0; stroke: #ff7f0e; stroke-width: 1.5\"/>\n   </g>\n   <g id=\"line2d_44\">\n    <path d=\"M 47.360085 72.119537 \nL 50.983462 59.912146 \nL 54.606838 48.314628 \nL 58.230215 37.78934 \nL 61.853592 28.755892 \nL 65.476968 21.574419 \nL 69.100345 16.531223 \nL 72.723722 13.827361 \nL 76.347098 13.570628 \nL 79.970475 15.771258 \nL 83.593851 20.341519 \nL 87.217228 27.09921 \nL 90.840605 35.774922 \nL 94.463981 46.022783 \nL 98.087358 57.434242 \n\" clip-path=\"url(#p8c5b557a18)\" style=\"fill: none; stroke: #1f77b4; stroke-width: 1.5; stroke-linecap: square\"/>\n   </g>\n   <g id=\"line2d_45\">\n    <path d=\"M 54.606838 21.734435 \nL 72.723722 68.053524 \n\" clip-path=\"url(#p8c5b557a18)\" style=\"fill: none; stroke-dasharray: 5.55,2.4; stroke-dashoffset: 0; stroke: #ff7f0e; stroke-width: 1.5\"/>\n   </g>\n   <g id=\"line2d_46\">\n    <path d=\"M 47.360085 72.119537 \nL 50.983462 59.912146 \nL 54.606838 48.314628 \nL 58.230215 37.78934 \nL 61.853592 28.755892 \nL 65.476968 21.574419 \nL 69.100345 16.531223 \nL 72.723722 13.827361 \nL 76.347098 13.570628 \nL 79.970475 15.771258 \nL 83.593851 20.341519 \nL 87.217228 27.09921 \nL 90.840605 35.774922 \nL 94.463981 46.022783 \nL 98.087358 57.434242 \n\" clip-path=\"url(#p8c5b557a18)\" style=\"fill: none; stroke: #1f77b4; stroke-width: 1.5; stroke-linecap: square\"/>\n   </g>\n   <g id=\"line2d_47\">\n    <path d=\"M 54.606838 21.734435 \nL 72.723722 68.053524 \nL 90.840605 120.952157 \n\" clip-path=\"url(#p8c5b557a18)\" style=\"fill: none; stroke-dasharray: 5.55,2.4; stroke-dashoffset: 0; stroke: #ff7f0e; stroke-width: 1.5\"/>\n   </g>\n   <g id=\"line2d_48\">\n    <path d=\"M 47.360085 72.119537 \nL 50.983462 59.912146 \nL 54.606838 48.314628 \nL 58.230215 37.78934 \nL 61.853592 28.755892 \nL 65.476968 21.574419 \nL 69.100345 16.531223 \nL 72.723722 13.827361 \nL 76.347098 13.570628 \nL 79.970475 15.771258 \nL 83.593851 20.341519 \nL 87.217228 27.09921 \nL 90.840605 35.774922 \nL 94.463981 46.022783 \nL 98.087358 57.434242 \nL 101.710735 69.554361 \n\" clip-path=\"url(#p8c5b557a18)\" style=\"fill: none; stroke: #1f77b4; stroke-width: 1.5; stroke-linecap: square\"/>\n   </g>\n   <g id=\"line2d_49\">\n    <path d=\"M 54.606838 21.734435 \nL 72.723722 68.053524 \nL 90.840605 120.952157 \n\" clip-path=\"url(#p8c5b557a18)\" style=\"fill: none; stroke-dasharray: 5.55,2.4; stroke-dashoffset: 0; stroke: #ff7f0e; stroke-width: 1.5\"/>\n   </g>\n   <g id=\"line2d_50\">\n    <path d=\"M 47.360085 72.119537 \nL 50.983462 59.912146 \nL 54.606838 48.314628 \nL 58.230215 37.78934 \nL 61.853592 28.755892 \nL 65.476968 21.574419 \nL 69.100345 16.531223 \nL 72.723722 13.827361 \nL 76.347098 13.570628 \nL 79.970475 15.771258 \nL 83.593851 20.341519 \nL 87.217228 27.09921 \nL 90.840605 35.774922 \nL 94.463981 46.022783 \nL 98.087358 57.434242 \nL 101.710735 69.554361 \nL 105.334111 81.899948 \n\" clip-path=\"url(#p8c5b557a18)\" style=\"fill: none; stroke: #1f77b4; stroke-width: 1.5; stroke-linecap: square\"/>\n   </g>\n   <g id=\"line2d_51\">\n    <path d=\"M 54.606838 21.734435 \nL 72.723722 68.053524 \nL 90.840605 120.952157 \n\" clip-path=\"url(#p8c5b557a18)\" style=\"fill: none; stroke-dasharray: 5.55,2.4; stroke-dashoffset: 0; stroke: #ff7f0e; stroke-width: 1.5\"/>\n   </g>\n   <g id=\"line2d_52\">\n    <path d=\"M 47.360085 72.119537 \nL 50.983462 59.912146 \nL 54.606838 48.314628 \nL 58.230215 37.78934 \nL 61.853592 28.755892 \nL 65.476968 21.574419 \nL 69.100345 16.531223 \nL 72.723722 13.827361 \nL 76.347098 13.570628 \nL 79.970475 15.771258 \nL 83.593851 20.341519 \nL 87.217228 27.09921 \nL 90.840605 35.774922 \nL 94.463981 46.022783 \nL 98.087358 57.434242 \nL 101.710735 69.554361 \nL 105.334111 81.899948 \nL 108.957488 93.978825 \n\" clip-path=\"url(#p8c5b557a18)\" style=\"fill: none; stroke: #1f77b4; stroke-width: 1.5; stroke-linecap: square\"/>\n   </g>\n   <g id=\"line2d_53\">\n    <path d=\"M 54.606838 21.734435 \nL 72.723722 68.053524 \nL 90.840605 120.952157 \n\" clip-path=\"url(#p8c5b557a18)\" style=\"fill: none; stroke-dasharray: 5.55,2.4; stroke-dashoffset: 0; stroke: #ff7f0e; stroke-width: 1.5\"/>\n   </g>\n   <g id=\"line2d_54\">\n    <path d=\"M 47.360085 72.119537 \nL 50.983462 59.912146 \nL 54.606838 48.314628 \nL 58.230215 37.78934 \nL 61.853592 28.755892 \nL 65.476968 21.574419 \nL 69.100345 16.531223 \nL 72.723722 13.827361 \nL 76.347098 13.570628 \nL 79.970475 15.771258 \nL 83.593851 20.341519 \nL 87.217228 27.09921 \nL 90.840605 35.774922 \nL 94.463981 46.022783 \nL 98.087358 57.434242 \nL 101.710735 69.554361 \nL 105.334111 81.899948 \nL 108.957488 93.978825 \nL 112.580864 105.309443 \n\" clip-path=\"url(#p8c5b557a18)\" style=\"fill: none; stroke: #1f77b4; stroke-width: 1.5; stroke-linecap: square\"/>\n   </g>\n   <g id=\"line2d_55\">\n    <path d=\"M 54.606838 21.734435 \nL 72.723722 68.053524 \nL 90.840605 120.952157 \n\" clip-path=\"url(#p8c5b557a18)\" style=\"fill: none; stroke-dasharray: 5.55,2.4; stroke-dashoffset: 0; stroke: #ff7f0e; stroke-width: 1.5\"/>\n   </g>\n   <g id=\"line2d_56\">\n    <path d=\"M 47.360085 72.119537 \nL 50.983462 59.912146 \nL 54.606838 48.314628 \nL 58.230215 37.78934 \nL 61.853592 28.755892 \nL 65.476968 21.574419 \nL 69.100345 16.531223 \nL 72.723722 13.827361 \nL 76.347098 13.570628 \nL 79.970475 15.771258 \nL 83.593851 20.341519 \nL 87.217228 27.09921 \nL 90.840605 35.774922 \nL 94.463981 46.022783 \nL 98.087358 57.434242 \nL 101.710735 69.554361 \nL 105.334111 81.899948 \nL 108.957488 93.978825 \nL 112.580864 105.309443 \nL 116.204241 115.440089 \n\" clip-path=\"url(#p8c5b557a18)\" style=\"fill: none; stroke: #1f77b4; stroke-width: 1.5; stroke-linecap: square\"/>\n   </g>\n   <g id=\"line2d_57\">\n    <path d=\"M 54.606838 21.734435 \nL 72.723722 68.053524 \nL 90.840605 120.952157 \n\" clip-path=\"url(#p8c5b557a18)\" style=\"fill: none; stroke-dasharray: 5.55,2.4; stroke-dashoffset: 0; stroke: #ff7f0e; stroke-width: 1.5\"/>\n   </g>\n   <g id=\"line2d_58\">\n    <path d=\"M 47.360085 72.119537 \nL 50.983462 59.912146 \nL 54.606838 48.314628 \nL 58.230215 37.78934 \nL 61.853592 28.755892 \nL 65.476968 21.574419 \nL 69.100345 16.531223 \nL 72.723722 13.827361 \nL 76.347098 13.570628 \nL 79.970475 15.771258 \nL 83.593851 20.341519 \nL 87.217228 27.09921 \nL 90.840605 35.774922 \nL 94.463981 46.022783 \nL 98.087358 57.434242 \nL 101.710735 69.554361 \nL 105.334111 81.899948 \nL 108.957488 93.978825 \nL 112.580864 105.309443 \nL 116.204241 115.440089 \n\" clip-path=\"url(#p8c5b557a18)\" style=\"fill: none; stroke: #1f77b4; stroke-width: 1.5; stroke-linecap: square\"/>\n   </g>\n   <g id=\"line2d_59\">\n    <path d=\"M 54.606838 21.734435 \nL 72.723722 68.053524 \nL 90.840605 120.952157 \nL 108.957488 131.795574 \n\" clip-path=\"url(#p8c5b557a18)\" style=\"fill: none; stroke-dasharray: 5.55,2.4; stroke-dashoffset: 0; stroke: #ff7f0e; stroke-width: 1.5\"/>\n   </g>\n   <g id=\"line2d_60\">\n    <path d=\"M 47.360085 72.119537 \nL 50.983462 59.912146 \nL 54.606838 48.314628 \nL 58.230215 37.78934 \nL 61.853592 28.755892 \nL 65.476968 21.574419 \nL 69.100345 16.531223 \nL 72.723722 13.827361 \nL 76.347098 13.570628 \nL 79.970475 15.771258 \nL 83.593851 20.341519 \nL 87.217228 27.09921 \nL 90.840605 35.774922 \nL 94.463981 46.022783 \nL 98.087358 57.434242 \nL 101.710735 69.554361 \nL 105.334111 81.899948 \nL 108.957488 93.978825 \nL 112.580864 105.309443 \nL 116.204241 115.440089 \nL 119.827618 123.966884 \n\" clip-path=\"url(#p8c5b557a18)\" style=\"fill: none; stroke: #1f77b4; stroke-width: 1.5; stroke-linecap: square\"/>\n   </g>\n   <g id=\"line2d_61\">\n    <path d=\"M 54.606838 21.734435 \nL 72.723722 68.053524 \nL 90.840605 120.952157 \nL 108.957488 131.795574 \n\" clip-path=\"url(#p8c5b557a18)\" style=\"fill: none; stroke-dasharray: 5.55,2.4; stroke-dashoffset: 0; stroke: #ff7f0e; stroke-width: 1.5\"/>\n   </g>\n   <g id=\"line2d_62\">\n    <path d=\"M 47.360085 72.119537 \nL 50.983462 59.912146 \nL 54.606838 48.314628 \nL 58.230215 37.78934 \nL 61.853592 28.755892 \nL 65.476968 21.574419 \nL 69.100345 16.531223 \nL 72.723722 13.827361 \nL 76.347098 13.570628 \nL 79.970475 15.771258 \nL 83.593851 20.341519 \nL 87.217228 27.09921 \nL 90.840605 35.774922 \nL 94.463981 46.022783 \nL 98.087358 57.434242 \nL 101.710735 69.554361 \nL 105.334111 81.899948 \nL 108.957488 93.978825 \nL 112.580864 105.309443 \nL 116.204241 115.440089 \nL 119.827618 123.966884 \nL 123.450994 130.549892 \n\" clip-path=\"url(#p8c5b557a18)\" style=\"fill: none; stroke: #1f77b4; stroke-width: 1.5; stroke-linecap: square\"/>\n   </g>\n   <g id=\"line2d_63\">\n    <path d=\"M 54.606838 21.734435 \nL 72.723722 68.053524 \nL 90.840605 120.952157 \nL 108.957488 131.795574 \n\" clip-path=\"url(#p8c5b557a18)\" style=\"fill: none; stroke-dasharray: 5.55,2.4; stroke-dashoffset: 0; stroke: #ff7f0e; stroke-width: 1.5\"/>\n   </g>\n   <g id=\"line2d_64\">\n    <path d=\"M 47.360085 72.119537 \nL 50.983462 59.912146 \nL 54.606838 48.314628 \nL 58.230215 37.78934 \nL 61.853592 28.755892 \nL 65.476968 21.574419 \nL 69.100345 16.531223 \nL 72.723722 13.827361 \nL 76.347098 13.570628 \nL 79.970475 15.771258 \nL 83.593851 20.341519 \nL 87.217228 27.09921 \nL 90.840605 35.774922 \nL 94.463981 46.022783 \nL 98.087358 57.434242 \nL 101.710735 69.554361 \nL 105.334111 81.899948 \nL 108.957488 93.978825 \nL 112.580864 105.309443 \nL 116.204241 115.440089 \nL 119.827618 123.966884 \nL 123.450994 130.549892 \nL 127.074371 134.926669 \n\" clip-path=\"url(#p8c5b557a18)\" style=\"fill: none; stroke: #1f77b4; stroke-width: 1.5; stroke-linecap: square\"/>\n   </g>\n   <g id=\"line2d_65\">\n    <path d=\"M 54.606838 21.734435 \nL 72.723722 68.053524 \nL 90.840605 120.952157 \nL 108.957488 131.795574 \n\" clip-path=\"url(#p8c5b557a18)\" style=\"fill: none; stroke-dasharray: 5.55,2.4; stroke-dashoffset: 0; stroke: #ff7f0e; stroke-width: 1.5\"/>\n   </g>\n   <g id=\"line2d_66\">\n    <path d=\"M 47.360085 72.119537 \nL 50.983462 59.912146 \nL 54.606838 48.314628 \nL 58.230215 37.78934 \nL 61.853592 28.755892 \nL 65.476968 21.574419 \nL 69.100345 16.531223 \nL 72.723722 13.827361 \nL 76.347098 13.570628 \nL 79.970475 15.771258 \nL 83.593851 20.341519 \nL 87.217228 27.09921 \nL 90.840605 35.774922 \nL 94.463981 46.022783 \nL 98.087358 57.434242 \nL 101.710735 69.554361 \nL 105.334111 81.899948 \nL 108.957488 93.978825 \nL 112.580864 105.309443 \nL 116.204241 115.440089 \nL 119.827618 123.966884 \nL 123.450994 130.549892 \nL 127.074371 134.926669 \nL 130.697748 136.922727 \n\" clip-path=\"url(#p8c5b557a18)\" style=\"fill: none; stroke: #1f77b4; stroke-width: 1.5; stroke-linecap: square\"/>\n   </g>\n   <g id=\"line2d_67\">\n    <path d=\"M 54.606838 21.734435 \nL 72.723722 68.053524 \nL 90.840605 120.952157 \nL 108.957488 131.795574 \n\" clip-path=\"url(#p8c5b557a18)\" style=\"fill: none; stroke-dasharray: 5.55,2.4; stroke-dashoffset: 0; stroke: #ff7f0e; stroke-width: 1.5\"/>\n   </g>\n   <g id=\"line2d_68\">\n    <path d=\"M 47.360085 72.119537 \nL 50.983462 59.912146 \nL 54.606838 48.314628 \nL 58.230215 37.78934 \nL 61.853592 28.755892 \nL 65.476968 21.574419 \nL 69.100345 16.531223 \nL 72.723722 13.827361 \nL 76.347098 13.570628 \nL 79.970475 15.771258 \nL 83.593851 20.341519 \nL 87.217228 27.09921 \nL 90.840605 35.774922 \nL 94.463981 46.022783 \nL 98.087358 57.434242 \nL 101.710735 69.554361 \nL 105.334111 81.899948 \nL 108.957488 93.978825 \nL 112.580864 105.309443 \nL 116.204241 115.440089 \nL 119.827618 123.966884 \nL 123.450994 130.549892 \nL 127.074371 134.926669 \nL 130.697748 136.922727 \nL 134.321124 136.45849 \n\" clip-path=\"url(#p8c5b557a18)\" style=\"fill: none; stroke: #1f77b4; stroke-width: 1.5; stroke-linecap: square\"/>\n   </g>\n   <g id=\"line2d_69\">\n    <path d=\"M 54.606838 21.734435 \nL 72.723722 68.053524 \nL 90.840605 120.952157 \nL 108.957488 131.795574 \n\" clip-path=\"url(#p8c5b557a18)\" style=\"fill: none; stroke-dasharray: 5.55,2.4; stroke-dashoffset: 0; stroke: #ff7f0e; stroke-width: 1.5\"/>\n   </g>\n   <g id=\"line2d_70\">\n    <path d=\"M 47.360085 72.119537 \nL 50.983462 59.912146 \nL 54.606838 48.314628 \nL 58.230215 37.78934 \nL 61.853592 28.755892 \nL 65.476968 21.574419 \nL 69.100345 16.531223 \nL 72.723722 13.827361 \nL 76.347098 13.570628 \nL 79.970475 15.771258 \nL 83.593851 20.341519 \nL 87.217228 27.09921 \nL 90.840605 35.774922 \nL 94.463981 46.022783 \nL 98.087358 57.434242 \nL 101.710735 69.554361 \nL 105.334111 81.899948 \nL 108.957488 93.978825 \nL 112.580864 105.309443 \nL 116.204241 115.440089 \nL 119.827618 123.966884 \nL 123.450994 130.549892 \nL 127.074371 134.926669 \nL 130.697748 136.922727 \nL 134.321124 136.45849 \n\" clip-path=\"url(#p8c5b557a18)\" style=\"fill: none; stroke: #1f77b4; stroke-width: 1.5; stroke-linecap: square\"/>\n   </g>\n   <g id=\"line2d_71\">\n    <path d=\"M 54.606838 21.734435 \nL 72.723722 68.053524 \nL 90.840605 120.952157 \nL 108.957488 131.795574 \nL 127.074371 90.614388 \n\" clip-path=\"url(#p8c5b557a18)\" style=\"fill: none; stroke-dasharray: 5.55,2.4; stroke-dashoffset: 0; stroke: #ff7f0e; stroke-width: 1.5\"/>\n   </g>\n   <g id=\"line2d_72\">\n    <path d=\"M 47.360085 72.119537 \nL 50.983462 59.912146 \nL 54.606838 48.314628 \nL 58.230215 37.78934 \nL 61.853592 28.755892 \nL 65.476968 21.574419 \nL 69.100345 16.531223 \nL 72.723722 13.827361 \nL 76.347098 13.570628 \nL 79.970475 15.771258 \nL 83.593851 20.341519 \nL 87.217228 27.09921 \nL 90.840605 35.774922 \nL 94.463981 46.022783 \nL 98.087358 57.434242 \nL 101.710735 69.554361 \nL 105.334111 81.899948 \nL 108.957488 93.978825 \nL 112.580864 105.309443 \nL 116.204241 115.440089 \nL 119.827618 123.966884 \nL 123.450994 130.549892 \nL 127.074371 134.926669 \nL 130.697748 136.922727 \nL 134.321124 136.45849 \nL 137.944501 133.552465 \n\" clip-path=\"url(#p8c5b557a18)\" style=\"fill: none; stroke: #1f77b4; stroke-width: 1.5; stroke-linecap: square\"/>\n   </g>\n   <g id=\"line2d_73\">\n    <path d=\"M 54.606838 21.734435 \nL 72.723722 68.053524 \nL 90.840605 120.952157 \nL 108.957488 131.795574 \nL 127.074371 90.614388 \n\" clip-path=\"url(#p8c5b557a18)\" style=\"fill: none; stroke-dasharray: 5.55,2.4; stroke-dashoffset: 0; stroke: #ff7f0e; stroke-width: 1.5\"/>\n   </g>\n   <g id=\"line2d_74\">\n    <path d=\"M 47.360085 72.119537 \nL 50.983462 59.912146 \nL 54.606838 48.314628 \nL 58.230215 37.78934 \nL 61.853592 28.755892 \nL 65.476968 21.574419 \nL 69.100345 16.531223 \nL 72.723722 13.827361 \nL 76.347098 13.570628 \nL 79.970475 15.771258 \nL 83.593851 20.341519 \nL 87.217228 27.09921 \nL 90.840605 35.774922 \nL 94.463981 46.022783 \nL 98.087358 57.434242 \nL 101.710735 69.554361 \nL 105.334111 81.899948 \nL 108.957488 93.978825 \nL 112.580864 105.309443 \nL 116.204241 115.440089 \nL 119.827618 123.966884 \nL 123.450994 130.549892 \nL 127.074371 134.926669 \nL 130.697748 136.922727 \nL 134.321124 136.45849 \nL 137.944501 133.552465 \nL 141.567877 128.320507 \n\" clip-path=\"url(#p8c5b557a18)\" style=\"fill: none; stroke: #1f77b4; stroke-width: 1.5; stroke-linecap: square\"/>\n   </g>\n   <g id=\"line2d_75\">\n    <path d=\"M 54.606838 21.734435 \nL 72.723722 68.053524 \nL 90.840605 120.952157 \nL 108.957488 131.795574 \nL 127.074371 90.614388 \n\" clip-path=\"url(#p8c5b557a18)\" style=\"fill: none; stroke-dasharray: 5.55,2.4; stroke-dashoffset: 0; stroke: #ff7f0e; stroke-width: 1.5\"/>\n   </g>\n   <g id=\"line2d_76\">\n    <path d=\"M 47.360085 72.119537 \nL 50.983462 59.912146 \nL 54.606838 48.314628 \nL 58.230215 37.78934 \nL 61.853592 28.755892 \nL 65.476968 21.574419 \nL 69.100345 16.531223 \nL 72.723722 13.827361 \nL 76.347098 13.570628 \nL 79.970475 15.771258 \nL 83.593851 20.341519 \nL 87.217228 27.09921 \nL 90.840605 35.774922 \nL 94.463981 46.022783 \nL 98.087358 57.434242 \nL 101.710735 69.554361 \nL 105.334111 81.899948 \nL 108.957488 93.978825 \nL 112.580864 105.309443 \nL 116.204241 115.440089 \nL 119.827618 123.966884 \nL 123.450994 130.549892 \nL 127.074371 134.926669 \nL 130.697748 136.922727 \nL 134.321124 136.45849 \nL 137.944501 133.552465 \nL 141.567877 128.320507 \nL 145.191254 120.971196 \n\" clip-path=\"url(#p8c5b557a18)\" style=\"fill: none; stroke: #1f77b4; stroke-width: 1.5; stroke-linecap: square\"/>\n   </g>\n   <g id=\"line2d_77\">\n    <path d=\"M 54.606838 21.734435 \nL 72.723722 68.053524 \nL 90.840605 120.952157 \nL 108.957488 131.795574 \nL 127.074371 90.614388 \n\" clip-path=\"url(#p8c5b557a18)\" style=\"fill: none; stroke-dasharray: 5.55,2.4; stroke-dashoffset: 0; stroke: #ff7f0e; stroke-width: 1.5\"/>\n   </g>\n   <g id=\"line2d_78\">\n    <path d=\"M 47.360085 72.119537 \nL 50.983462 59.912146 \nL 54.606838 48.314628 \nL 58.230215 37.78934 \nL 61.853592 28.755892 \nL 65.476968 21.574419 \nL 69.100345 16.531223 \nL 72.723722 13.827361 \nL 76.347098 13.570628 \nL 79.970475 15.771258 \nL 83.593851 20.341519 \nL 87.217228 27.09921 \nL 90.840605 35.774922 \nL 94.463981 46.022783 \nL 98.087358 57.434242 \nL 101.710735 69.554361 \nL 105.334111 81.899948 \nL 108.957488 93.978825 \nL 112.580864 105.309443 \nL 116.204241 115.440089 \nL 119.827618 123.966884 \nL 123.450994 130.549892 \nL 127.074371 134.926669 \nL 130.697748 136.922727 \nL 134.321124 136.45849 \nL 137.944501 133.552465 \nL 141.567877 128.320507 \nL 145.191254 120.971196 \nL 148.814631 111.797527 \n\" clip-path=\"url(#p8c5b557a18)\" style=\"fill: none; stroke: #1f77b4; stroke-width: 1.5; stroke-linecap: square\"/>\n   </g>\n   <g id=\"line2d_79\">\n    <path d=\"M 54.606838 21.734435 \nL 72.723722 68.053524 \nL 90.840605 120.952157 \nL 108.957488 131.795574 \nL 127.074371 90.614388 \n\" clip-path=\"url(#p8c5b557a18)\" style=\"fill: none; stroke-dasharray: 5.55,2.4; stroke-dashoffset: 0; stroke: #ff7f0e; stroke-width: 1.5\"/>\n   </g>\n   <g id=\"line2d_80\">\n    <path d=\"M 47.360085 72.119537 \nL 50.983462 59.912146 \nL 54.606838 48.314628 \nL 58.230215 37.78934 \nL 61.853592 28.755892 \nL 65.476968 21.574419 \nL 69.100345 16.531223 \nL 72.723722 13.827361 \nL 76.347098 13.570628 \nL 79.970475 15.771258 \nL 83.593851 20.341519 \nL 87.217228 27.09921 \nL 90.840605 35.774922 \nL 94.463981 46.022783 \nL 98.087358 57.434242 \nL 101.710735 69.554361 \nL 105.334111 81.899948 \nL 108.957488 93.978825 \nL 112.580864 105.309443 \nL 116.204241 115.440089 \nL 119.827618 123.966884 \nL 123.450994 130.549892 \nL 127.074371 134.926669 \nL 130.697748 136.922727 \nL 134.321124 136.45849 \nL 137.944501 133.552465 \nL 141.567877 128.320507 \nL 145.191254 120.971196 \nL 148.814631 111.797527 \nL 152.438007 101.165225 \n\" clip-path=\"url(#p8c5b557a18)\" style=\"fill: none; stroke: #1f77b4; stroke-width: 1.5; stroke-linecap: square\"/>\n   </g>\n   <g id=\"line2d_81\">\n    <path d=\"M 54.606838 21.734435 \nL 72.723722 68.053524 \nL 90.840605 120.952157 \nL 108.957488 131.795574 \nL 127.074371 90.614388 \n\" clip-path=\"url(#p8c5b557a18)\" style=\"fill: none; stroke-dasharray: 5.55,2.4; stroke-dashoffset: 0; stroke: #ff7f0e; stroke-width: 1.5\"/>\n   </g>\n   <g id=\"line2d_82\">\n    <path d=\"M 47.360085 72.119537 \nL 50.983462 59.912146 \nL 54.606838 48.314628 \nL 58.230215 37.78934 \nL 61.853592 28.755892 \nL 65.476968 21.574419 \nL 69.100345 16.531223 \nL 72.723722 13.827361 \nL 76.347098 13.570628 \nL 79.970475 15.771258 \nL 83.593851 20.341519 \nL 87.217228 27.09921 \nL 90.840605 35.774922 \nL 94.463981 46.022783 \nL 98.087358 57.434242 \nL 101.710735 69.554361 \nL 105.334111 81.899948 \nL 108.957488 93.978825 \nL 112.580864 105.309443 \nL 116.204241 115.440089 \nL 119.827618 123.966884 \nL 123.450994 130.549892 \nL 127.074371 134.926669 \nL 130.697748 136.922727 \nL 134.321124 136.45849 \nL 137.944501 133.552465 \nL 141.567877 128.320507 \nL 145.191254 120.971196 \nL 148.814631 111.797527 \nL 152.438007 101.165225 \n\" clip-path=\"url(#p8c5b557a18)\" style=\"fill: none; stroke: #1f77b4; stroke-width: 1.5; stroke-linecap: square\"/>\n   </g>\n   <g id=\"line2d_83\">\n    <path d=\"M 54.606838 21.734435 \nL 72.723722 68.053524 \nL 90.840605 120.952157 \nL 108.957488 131.795574 \nL 127.074371 90.614388 \nL 145.191254 35.270391 \n\" clip-path=\"url(#p8c5b557a18)\" style=\"fill: none; stroke-dasharray: 5.55,2.4; stroke-dashoffset: 0; stroke: #ff7f0e; stroke-width: 1.5\"/>\n   </g>\n   <g id=\"line2d_84\">\n    <path d=\"M 47.360085 72.119537 \nL 50.983462 59.912146 \nL 54.606838 48.314628 \nL 58.230215 37.78934 \nL 61.853592 28.755892 \nL 65.476968 21.574419 \nL 69.100345 16.531223 \nL 72.723722 13.827361 \nL 76.347098 13.570628 \nL 79.970475 15.771258 \nL 83.593851 20.341519 \nL 87.217228 27.09921 \nL 90.840605 35.774922 \nL 94.463981 46.022783 \nL 98.087358 57.434242 \nL 101.710735 69.554361 \nL 105.334111 81.899948 \nL 108.957488 93.978825 \nL 112.580864 105.309443 \nL 116.204241 115.440089 \nL 119.827618 123.966884 \nL 123.450994 130.549892 \nL 127.074371 134.926669 \nL 130.697748 136.922727 \nL 134.321124 136.45849 \nL 137.944501 133.552465 \nL 141.567877 128.320507 \nL 145.191254 120.971196 \nL 148.814631 111.797527 \nL 152.438007 101.165225 \nL 156.061384 89.498166 \n\" clip-path=\"url(#p8c5b557a18)\" style=\"fill: none; stroke: #1f77b4; stroke-width: 1.5; stroke-linecap: square\"/>\n   </g>\n   <g id=\"line2d_85\">\n    <path d=\"M 54.606838 21.734435 \nL 72.723722 68.053524 \nL 90.840605 120.952157 \nL 108.957488 131.795574 \nL 127.074371 90.614388 \nL 145.191254 35.270391 \n\" clip-path=\"url(#p8c5b557a18)\" style=\"fill: none; stroke-dasharray: 5.55,2.4; stroke-dashoffset: 0; stroke: #ff7f0e; stroke-width: 1.5\"/>\n   </g>\n   <g id=\"line2d_86\">\n    <path d=\"M 47.360085 72.119537 \nL 50.983462 59.912146 \nL 54.606838 48.314628 \nL 58.230215 37.78934 \nL 61.853592 28.755892 \nL 65.476968 21.574419 \nL 69.100345 16.531223 \nL 72.723722 13.827361 \nL 76.347098 13.570628 \nL 79.970475 15.771258 \nL 83.593851 20.341519 \nL 87.217228 27.09921 \nL 90.840605 35.774922 \nL 94.463981 46.022783 \nL 98.087358 57.434242 \nL 101.710735 69.554361 \nL 105.334111 81.899948 \nL 108.957488 93.978825 \nL 112.580864 105.309443 \nL 116.204241 115.440089 \nL 119.827618 123.966884 \nL 123.450994 130.549892 \nL 127.074371 134.926669 \nL 130.697748 136.922727 \nL 134.321124 136.45849 \nL 137.944501 133.552465 \nL 141.567877 128.320507 \nL 145.191254 120.971196 \nL 148.814631 111.797527 \nL 152.438007 101.165225 \nL 156.061384 89.498166 \nL 159.684761 77.26148 \n\" clip-path=\"url(#p8c5b557a18)\" style=\"fill: none; stroke: #1f77b4; stroke-width: 1.5; stroke-linecap: square\"/>\n   </g>\n   <g id=\"line2d_87\">\n    <path d=\"M 54.606838 21.734435 \nL 72.723722 68.053524 \nL 90.840605 120.952157 \nL 108.957488 131.795574 \nL 127.074371 90.614388 \nL 145.191254 35.270391 \n\" clip-path=\"url(#p8c5b557a18)\" style=\"fill: none; stroke-dasharray: 5.55,2.4; stroke-dashoffset: 0; stroke: #ff7f0e; stroke-width: 1.5\"/>\n   </g>\n   <g id=\"line2d_88\">\n    <path d=\"M 47.360085 72.119537 \nL 50.983462 59.912146 \nL 54.606838 48.314628 \nL 58.230215 37.78934 \nL 61.853592 28.755892 \nL 65.476968 21.574419 \nL 69.100345 16.531223 \nL 72.723722 13.827361 \nL 76.347098 13.570628 \nL 79.970475 15.771258 \nL 83.593851 20.341519 \nL 87.217228 27.09921 \nL 90.840605 35.774922 \nL 94.463981 46.022783 \nL 98.087358 57.434242 \nL 101.710735 69.554361 \nL 105.334111 81.899948 \nL 108.957488 93.978825 \nL 112.580864 105.309443 \nL 116.204241 115.440089 \nL 119.827618 123.966884 \nL 123.450994 130.549892 \nL 127.074371 134.926669 \nL 130.697748 136.922727 \nL 134.321124 136.45849 \nL 137.944501 133.552465 \nL 141.567877 128.320507 \nL 145.191254 120.971196 \nL 148.814631 111.797527 \nL 152.438007 101.165225 \nL 156.061384 89.498166 \nL 159.684761 77.26148 \nL 163.308137 64.943003 \n\" clip-path=\"url(#p8c5b557a18)\" style=\"fill: none; stroke: #1f77b4; stroke-width: 1.5; stroke-linecap: square\"/>\n   </g>\n   <g id=\"line2d_89\">\n    <path d=\"M 54.606838 21.734435 \nL 72.723722 68.053524 \nL 90.840605 120.952157 \nL 108.957488 131.795574 \nL 127.074371 90.614388 \nL 145.191254 35.270391 \n\" clip-path=\"url(#p8c5b557a18)\" style=\"fill: none; stroke-dasharray: 5.55,2.4; stroke-dashoffset: 0; stroke: #ff7f0e; stroke-width: 1.5\"/>\n   </g>\n   <g id=\"line2d_90\">\n    <path d=\"M 47.360085 72.119537 \nL 50.983462 59.912146 \nL 54.606838 48.314628 \nL 58.230215 37.78934 \nL 61.853592 28.755892 \nL 65.476968 21.574419 \nL 69.100345 16.531223 \nL 72.723722 13.827361 \nL 76.347098 13.570628 \nL 79.970475 15.771258 \nL 83.593851 20.341519 \nL 87.217228 27.09921 \nL 90.840605 35.774922 \nL 94.463981 46.022783 \nL 98.087358 57.434242 \nL 101.710735 69.554361 \nL 105.334111 81.899948 \nL 108.957488 93.978825 \nL 112.580864 105.309443 \nL 116.204241 115.440089 \nL 119.827618 123.966884 \nL 123.450994 130.549892 \nL 127.074371 134.926669 \nL 130.697748 136.922727 \nL 134.321124 136.45849 \nL 137.944501 133.552465 \nL 141.567877 128.320507 \nL 145.191254 120.971196 \nL 148.814631 111.797527 \nL 152.438007 101.165225 \nL 156.061384 89.498166 \nL 159.684761 77.26148 \nL 163.308137 64.943003 \nL 166.931514 53.033836 \n\" clip-path=\"url(#p8c5b557a18)\" style=\"fill: none; stroke: #1f77b4; stroke-width: 1.5; stroke-linecap: square\"/>\n   </g>\n   <g id=\"line2d_91\">\n    <path d=\"M 54.606838 21.734435 \nL 72.723722 68.053524 \nL 90.840605 120.952157 \nL 108.957488 131.795574 \nL 127.074371 90.614388 \nL 145.191254 35.270391 \n\" clip-path=\"url(#p8c5b557a18)\" style=\"fill: none; stroke-dasharray: 5.55,2.4; stroke-dashoffset: 0; stroke: #ff7f0e; stroke-width: 1.5\"/>\n   </g>\n   <g id=\"line2d_92\">\n    <path d=\"M 47.360085 72.119537 \nL 50.983462 59.912146 \nL 54.606838 48.314628 \nL 58.230215 37.78934 \nL 61.853592 28.755892 \nL 65.476968 21.574419 \nL 69.100345 16.531223 \nL 72.723722 13.827361 \nL 76.347098 13.570628 \nL 79.970475 15.771258 \nL 83.593851 20.341519 \nL 87.217228 27.09921 \nL 90.840605 35.774922 \nL 94.463981 46.022783 \nL 98.087358 57.434242 \nL 101.710735 69.554361 \nL 105.334111 81.899948 \nL 108.957488 93.978825 \nL 112.580864 105.309443 \nL 116.204241 115.440089 \nL 119.827618 123.966884 \nL 123.450994 130.549892 \nL 127.074371 134.926669 \nL 130.697748 136.922727 \nL 134.321124 136.45849 \nL 137.944501 133.552465 \nL 141.567877 128.320507 \nL 145.191254 120.971196 \nL 148.814631 111.797527 \nL 152.438007 101.165225 \nL 156.061384 89.498166 \nL 159.684761 77.26148 \nL 163.308137 64.943003 \nL 166.931514 53.033836 \nL 170.55489 42.008758 \n\" clip-path=\"url(#p8c5b557a18)\" style=\"fill: none; stroke: #1f77b4; stroke-width: 1.5; stroke-linecap: square\"/>\n   </g>\n   <g id=\"line2d_93\">\n    <path d=\"M 54.606838 21.734435 \nL 72.723722 68.053524 \nL 90.840605 120.952157 \nL 108.957488 131.795574 \nL 127.074371 90.614388 \nL 145.191254 35.270391 \n\" clip-path=\"url(#p8c5b557a18)\" style=\"fill: none; stroke-dasharray: 5.55,2.4; stroke-dashoffset: 0; stroke: #ff7f0e; stroke-width: 1.5\"/>\n   </g>\n   <g id=\"line2d_94\">\n    <path d=\"M 47.360085 72.119537 \nL 50.983462 59.912146 \nL 54.606838 48.314628 \nL 58.230215 37.78934 \nL 61.853592 28.755892 \nL 65.476968 21.574419 \nL 69.100345 16.531223 \nL 72.723722 13.827361 \nL 76.347098 13.570628 \nL 79.970475 15.771258 \nL 83.593851 20.341519 \nL 87.217228 27.09921 \nL 90.840605 35.774922 \nL 94.463981 46.022783 \nL 98.087358 57.434242 \nL 101.710735 69.554361 \nL 105.334111 81.899948 \nL 108.957488 93.978825 \nL 112.580864 105.309443 \nL 116.204241 115.440089 \nL 119.827618 123.966884 \nL 123.450994 130.549892 \nL 127.074371 134.926669 \nL 130.697748 136.922727 \nL 134.321124 136.45849 \nL 137.944501 133.552465 \nL 141.567877 128.320507 \nL 145.191254 120.971196 \nL 148.814631 111.797527 \nL 152.438007 101.165225 \nL 156.061384 89.498166 \nL 159.684761 77.26148 \nL 163.308137 64.943003 \nL 166.931514 53.033836 \nL 170.55489 42.008758 \n\" clip-path=\"url(#p8c5b557a18)\" style=\"fill: none; stroke: #1f77b4; stroke-width: 1.5; stroke-linecap: square\"/>\n   </g>\n   <g id=\"line2d_95\">\n    <path d=\"M 54.606838 21.734435 \nL 72.723722 68.053524 \nL 90.840605 120.952157 \nL 108.957488 131.795574 \nL 127.074371 90.614388 \nL 145.191254 35.270391 \nL 163.308137 16.646599 \n\" clip-path=\"url(#p8c5b557a18)\" style=\"fill: none; stroke-dasharray: 5.55,2.4; stroke-dashoffset: 0; stroke: #ff7f0e; stroke-width: 1.5\"/>\n   </g>\n   <g id=\"line2d_96\">\n    <path d=\"M 47.360085 72.119537 \nL 50.983462 59.912146 \nL 54.606838 48.314628 \nL 58.230215 37.78934 \nL 61.853592 28.755892 \nL 65.476968 21.574419 \nL 69.100345 16.531223 \nL 72.723722 13.827361 \nL 76.347098 13.570628 \nL 79.970475 15.771258 \nL 83.593851 20.341519 \nL 87.217228 27.09921 \nL 90.840605 35.774922 \nL 94.463981 46.022783 \nL 98.087358 57.434242 \nL 101.710735 69.554361 \nL 105.334111 81.899948 \nL 108.957488 93.978825 \nL 112.580864 105.309443 \nL 116.204241 115.440089 \nL 119.827618 123.966884 \nL 123.450994 130.549892 \nL 127.074371 134.926669 \nL 130.697748 136.922727 \nL 134.321124 136.45849 \nL 137.944501 133.552465 \nL 141.567877 128.320507 \nL 145.191254 120.971196 \nL 148.814631 111.797527 \nL 152.438007 101.165225 \nL 156.061384 89.498166 \nL 159.684761 77.26148 \nL 163.308137 64.943003 \nL 166.931514 53.033836 \nL 170.55489 42.008758 \nL 174.178267 32.307306 \n\" clip-path=\"url(#p8c5b557a18)\" style=\"fill: none; stroke: #1f77b4; stroke-width: 1.5; stroke-linecap: square\"/>\n   </g>\n   <g id=\"line2d_97\">\n    <path d=\"M 54.606838 21.734435 \nL 72.723722 68.053524 \nL 90.840605 120.952157 \nL 108.957488 131.795574 \nL 127.074371 90.614388 \nL 145.191254 35.270391 \nL 163.308137 16.646599 \n\" clip-path=\"url(#p8c5b557a18)\" style=\"fill: none; stroke-dasharray: 5.55,2.4; stroke-dashoffset: 0; stroke: #ff7f0e; stroke-width: 1.5\"/>\n   </g>\n   <g id=\"line2d_98\">\n    <path d=\"M 47.360085 72.119537 \nL 50.983462 59.912146 \nL 54.606838 48.314628 \nL 58.230215 37.78934 \nL 61.853592 28.755892 \nL 65.476968 21.574419 \nL 69.100345 16.531223 \nL 72.723722 13.827361 \nL 76.347098 13.570628 \nL 79.970475 15.771258 \nL 83.593851 20.341519 \nL 87.217228 27.09921 \nL 90.840605 35.774922 \nL 94.463981 46.022783 \nL 98.087358 57.434242 \nL 101.710735 69.554361 \nL 105.334111 81.899948 \nL 108.957488 93.978825 \nL 112.580864 105.309443 \nL 116.204241 115.440089 \nL 119.827618 123.966884 \nL 123.450994 130.549892 \nL 127.074371 134.926669 \nL 130.697748 136.922727 \nL 134.321124 136.45849 \nL 137.944501 133.552465 \nL 141.567877 128.320507 \nL 145.191254 120.971196 \nL 148.814631 111.797527 \nL 152.438007 101.165225 \nL 156.061384 89.498166 \nL 159.684761 77.26148 \nL 163.308137 64.943003 \nL 166.931514 53.033836 \nL 170.55489 42.008758 \nL 174.178267 32.307306 \nL 177.801644 24.316244 \n\" clip-path=\"url(#p8c5b557a18)\" style=\"fill: none; stroke: #1f77b4; stroke-width: 1.5; stroke-linecap: square\"/>\n   </g>\n   <g id=\"line2d_99\">\n    <path d=\"M 54.606838 21.734435 \nL 72.723722 68.053524 \nL 90.840605 120.952157 \nL 108.957488 131.795574 \nL 127.074371 90.614388 \nL 145.191254 35.270391 \nL 163.308137 16.646599 \n\" clip-path=\"url(#p8c5b557a18)\" style=\"fill: none; stroke-dasharray: 5.55,2.4; stroke-dashoffset: 0; stroke: #ff7f0e; stroke-width: 1.5\"/>\n   </g>\n   <g id=\"line2d_100\">\n    <path d=\"M 47.360085 72.119537 \nL 50.983462 59.912146 \nL 54.606838 48.314628 \nL 58.230215 37.78934 \nL 61.853592 28.755892 \nL 65.476968 21.574419 \nL 69.100345 16.531223 \nL 72.723722 13.827361 \nL 76.347098 13.570628 \nL 79.970475 15.771258 \nL 83.593851 20.341519 \nL 87.217228 27.09921 \nL 90.840605 35.774922 \nL 94.463981 46.022783 \nL 98.087358 57.434242 \nL 101.710735 69.554361 \nL 105.334111 81.899948 \nL 108.957488 93.978825 \nL 112.580864 105.309443 \nL 116.204241 115.440089 \nL 119.827618 123.966884 \nL 123.450994 130.549892 \nL 127.074371 134.926669 \nL 130.697748 136.922727 \nL 134.321124 136.45849 \nL 137.944501 133.552465 \nL 141.567877 128.320507 \nL 145.191254 120.971196 \nL 148.814631 111.797527 \nL 152.438007 101.165225 \nL 156.061384 89.498166 \nL 159.684761 77.26148 \nL 163.308137 64.943003 \nL 166.931514 53.033836 \nL 170.55489 42.008758 \nL 174.178267 32.307306 \nL 177.801644 24.316244 \nL 181.42502 18.354153 \n\" clip-path=\"url(#p8c5b557a18)\" style=\"fill: none; stroke: #1f77b4; stroke-width: 1.5; stroke-linecap: square\"/>\n   </g>\n   <g id=\"line2d_101\">\n    <path d=\"M 54.606838 21.734435 \nL 72.723722 68.053524 \nL 90.840605 120.952157 \nL 108.957488 131.795574 \nL 127.074371 90.614388 \nL 145.191254 35.270391 \nL 163.308137 16.646599 \n\" clip-path=\"url(#p8c5b557a18)\" style=\"fill: none; stroke-dasharray: 5.55,2.4; stroke-dashoffset: 0; stroke: #ff7f0e; stroke-width: 1.5\"/>\n   </g>\n   <g id=\"line2d_102\">\n    <path d=\"M 47.360085 72.119537 \nL 50.983462 59.912146 \nL 54.606838 48.314628 \nL 58.230215 37.78934 \nL 61.853592 28.755892 \nL 65.476968 21.574419 \nL 69.100345 16.531223 \nL 72.723722 13.827361 \nL 76.347098 13.570628 \nL 79.970475 15.771258 \nL 83.593851 20.341519 \nL 87.217228 27.09921 \nL 90.840605 35.774922 \nL 94.463981 46.022783 \nL 98.087358 57.434242 \nL 101.710735 69.554361 \nL 105.334111 81.899948 \nL 108.957488 93.978825 \nL 112.580864 105.309443 \nL 116.204241 115.440089 \nL 119.827618 123.966884 \nL 123.450994 130.549892 \nL 127.074371 134.926669 \nL 130.697748 136.922727 \nL 134.321124 136.45849 \nL 137.944501 133.552465 \nL 141.567877 128.320507 \nL 145.191254 120.971196 \nL 148.814631 111.797527 \nL 152.438007 101.165225 \nL 156.061384 89.498166 \nL 159.684761 77.26148 \nL 163.308137 64.943003 \nL 166.931514 53.033836 \nL 170.55489 42.008758 \nL 174.178267 32.307306 \nL 177.801644 24.316244 \nL 181.42502 18.354153 \nL 185.048397 14.65872 \n\" clip-path=\"url(#p8c5b557a18)\" style=\"fill: none; stroke: #1f77b4; stroke-width: 1.5; stroke-linecap: square\"/>\n   </g>\n   <g id=\"line2d_103\">\n    <path d=\"M 54.606838 21.734435 \nL 72.723722 68.053524 \nL 90.840605 120.952157 \nL 108.957488 131.795574 \nL 127.074371 90.614388 \nL 145.191254 35.270391 \nL 163.308137 16.646599 \n\" clip-path=\"url(#p8c5b557a18)\" style=\"fill: none; stroke-dasharray: 5.55,2.4; stroke-dashoffset: 0; stroke: #ff7f0e; stroke-width: 1.5\"/>\n   </g>\n   <g id=\"line2d_104\">\n    <path d=\"M 47.360085 72.119537 \nL 50.983462 59.912146 \nL 54.606838 48.314628 \nL 58.230215 37.78934 \nL 61.853592 28.755892 \nL 65.476968 21.574419 \nL 69.100345 16.531223 \nL 72.723722 13.827361 \nL 76.347098 13.570628 \nL 79.970475 15.771258 \nL 83.593851 20.341519 \nL 87.217228 27.09921 \nL 90.840605 35.774922 \nL 94.463981 46.022783 \nL 98.087358 57.434242 \nL 101.710735 69.554361 \nL 105.334111 81.899948 \nL 108.957488 93.978825 \nL 112.580864 105.309443 \nL 116.204241 115.440089 \nL 119.827618 123.966884 \nL 123.450994 130.549892 \nL 127.074371 134.926669 \nL 130.697748 136.922727 \nL 134.321124 136.45849 \nL 137.944501 133.552465 \nL 141.567877 128.320507 \nL 145.191254 120.971196 \nL 148.814631 111.797527 \nL 152.438007 101.165225 \nL 156.061384 89.498166 \nL 159.684761 77.26148 \nL 163.308137 64.943003 \nL 166.931514 53.033836 \nL 170.55489 42.008758 \nL 174.178267 32.307306 \nL 177.801644 24.316244 \nL 181.42502 18.354153 \nL 185.048397 14.65872 \nL 188.671774 13.377273 \n\" clip-path=\"url(#p8c5b557a18)\" style=\"fill: none; stroke: #1f77b4; stroke-width: 1.5; stroke-linecap: square\"/>\n   </g>\n   <g id=\"line2d_105\">\n    <path d=\"M 54.606838 21.734435 \nL 72.723722 68.053524 \nL 90.840605 120.952157 \nL 108.957488 131.795574 \nL 127.074371 90.614388 \nL 145.191254 35.270391 \nL 163.308137 16.646599 \n\" clip-path=\"url(#p8c5b557a18)\" style=\"fill: none; stroke-dasharray: 5.55,2.4; stroke-dashoffset: 0; stroke: #ff7f0e; stroke-width: 1.5\"/>\n   </g>\n   <g id=\"line2d_106\">\n    <path d=\"M 47.360085 72.119537 \nL 50.983462 59.912146 \nL 54.606838 48.314628 \nL 58.230215 37.78934 \nL 61.853592 28.755892 \nL 65.476968 21.574419 \nL 69.100345 16.531223 \nL 72.723722 13.827361 \nL 76.347098 13.570628 \nL 79.970475 15.771258 \nL 83.593851 20.341519 \nL 87.217228 27.09921 \nL 90.840605 35.774922 \nL 94.463981 46.022783 \nL 98.087358 57.434242 \nL 101.710735 69.554361 \nL 105.334111 81.899948 \nL 108.957488 93.978825 \nL 112.580864 105.309443 \nL 116.204241 115.440089 \nL 119.827618 123.966884 \nL 123.450994 130.549892 \nL 127.074371 134.926669 \nL 130.697748 136.922727 \nL 134.321124 136.45849 \nL 137.944501 133.552465 \nL 141.567877 128.320507 \nL 145.191254 120.971196 \nL 148.814631 111.797527 \nL 152.438007 101.165225 \nL 156.061384 89.498166 \nL 159.684761 77.26148 \nL 163.308137 64.943003 \nL 166.931514 53.033836 \nL 170.55489 42.008758 \nL 174.178267 32.307306 \nL 177.801644 24.316244 \nL 181.42502 18.354153 \nL 185.048397 14.65872 \nL 188.671774 13.377273 \n\" clip-path=\"url(#p8c5b557a18)\" style=\"fill: none; stroke: #1f77b4; stroke-width: 1.5; stroke-linecap: square\"/>\n   </g>\n   <g id=\"line2d_107\">\n    <path d=\"M 54.606838 21.734435 \nL 72.723722 68.053524 \nL 90.840605 120.952157 \nL 108.957488 131.795574 \nL 127.074371 90.614388 \nL 145.191254 35.270391 \nL 163.308137 16.646599 \nL 181.42502 51.865641 \n\" clip-path=\"url(#p8c5b557a18)\" style=\"fill: none; stroke-dasharray: 5.55,2.4; stroke-dashoffset: 0; stroke: #ff7f0e; stroke-width: 1.5\"/>\n   </g>\n   <g id=\"line2d_108\">\n    <path d=\"M 47.360085 72.119537 \nL 50.983462 59.912146 \nL 54.606838 48.314628 \nL 58.230215 37.78934 \nL 61.853592 28.755892 \nL 65.476968 21.574419 \nL 69.100345 16.531223 \nL 72.723722 13.827361 \nL 76.347098 13.570628 \nL 79.970475 15.771258 \nL 83.593851 20.341519 \nL 87.217228 27.09921 \nL 90.840605 35.774922 \nL 94.463981 46.022783 \nL 98.087358 57.434242 \nL 101.710735 69.554361 \nL 105.334111 81.899948 \nL 108.957488 93.978825 \nL 112.580864 105.309443 \nL 116.204241 115.440089 \nL 119.827618 123.966884 \nL 123.450994 130.549892 \nL 127.074371 134.926669 \nL 130.697748 136.922727 \nL 134.321124 136.45849 \nL 137.944501 133.552465 \nL 141.567877 128.320507 \nL 145.191254 120.971196 \nL 148.814631 111.797527 \nL 152.438007 101.165225 \nL 156.061384 89.498166 \nL 159.684761 77.26148 \nL 163.308137 64.943003 \nL 166.931514 53.033836 \nL 170.55489 42.008758 \nL 174.178267 32.307306 \nL 177.801644 24.316244 \nL 181.42502 18.354153 \nL 185.048397 14.65872 \nL 188.671774 13.377273 \nL 192.29515 14.560897 \n\" clip-path=\"url(#p8c5b557a18)\" style=\"fill: none; stroke: #1f77b4; stroke-width: 1.5; stroke-linecap: square\"/>\n   </g>\n   <g id=\"line2d_109\">\n    <path d=\"M 54.606838 21.734435 \nL 72.723722 68.053524 \nL 90.840605 120.952157 \nL 108.957488 131.795574 \nL 127.074371 90.614388 \nL 145.191254 35.270391 \nL 163.308137 16.646599 \nL 181.42502 51.865641 \n\" clip-path=\"url(#p8c5b557a18)\" style=\"fill: none; stroke-dasharray: 5.55,2.4; stroke-dashoffset: 0; stroke: #ff7f0e; stroke-width: 1.5\"/>\n   </g>\n   <g id=\"line2d_110\">\n    <path d=\"M 47.360085 72.119537 \nL 50.983462 59.912146 \nL 54.606838 48.314628 \nL 58.230215 37.78934 \nL 61.853592 28.755892 \nL 65.476968 21.574419 \nL 69.100345 16.531223 \nL 72.723722 13.827361 \nL 76.347098 13.570628 \nL 79.970475 15.771258 \nL 83.593851 20.341519 \nL 87.217228 27.09921 \nL 90.840605 35.774922 \nL 94.463981 46.022783 \nL 98.087358 57.434242 \nL 101.710735 69.554361 \nL 105.334111 81.899948 \nL 108.957488 93.978825 \nL 112.580864 105.309443 \nL 116.204241 115.440089 \nL 119.827618 123.966884 \nL 123.450994 130.549892 \nL 127.074371 134.926669 \nL 130.697748 136.922727 \nL 134.321124 136.45849 \nL 137.944501 133.552465 \nL 141.567877 128.320507 \nL 145.191254 120.971196 \nL 148.814631 111.797527 \nL 152.438007 101.165225 \nL 156.061384 89.498166 \nL 159.684761 77.26148 \nL 163.308137 64.943003 \nL 166.931514 53.033836 \nL 170.55489 42.008758 \nL 174.178267 32.307306 \nL 177.801644 24.316244 \nL 181.42502 18.354153 \nL 185.048397 14.65872 \nL 188.671774 13.377273 \nL 192.29515 14.560897 \nL 195.918527 18.162406 \n\" clip-path=\"url(#p8c5b557a18)\" style=\"fill: none; stroke: #1f77b4; stroke-width: 1.5; stroke-linecap: square\"/>\n   </g>\n   <g id=\"line2d_111\">\n    <path d=\"M 54.606838 21.734435 \nL 72.723722 68.053524 \nL 90.840605 120.952157 \nL 108.957488 131.795574 \nL 127.074371 90.614388 \nL 145.191254 35.270391 \nL 163.308137 16.646599 \nL 181.42502 51.865641 \n\" clip-path=\"url(#p8c5b557a18)\" style=\"fill: none; stroke-dasharray: 5.55,2.4; stroke-dashoffset: 0; stroke: #ff7f0e; stroke-width: 1.5\"/>\n   </g>\n   <g id=\"line2d_112\">\n    <path d=\"M 47.360085 72.119537 \nL 50.983462 59.912146 \nL 54.606838 48.314628 \nL 58.230215 37.78934 \nL 61.853592 28.755892 \nL 65.476968 21.574419 \nL 69.100345 16.531223 \nL 72.723722 13.827361 \nL 76.347098 13.570628 \nL 79.970475 15.771258 \nL 83.593851 20.341519 \nL 87.217228 27.09921 \nL 90.840605 35.774922 \nL 94.463981 46.022783 \nL 98.087358 57.434242 \nL 101.710735 69.554361 \nL 105.334111 81.899948 \nL 108.957488 93.978825 \nL 112.580864 105.309443 \nL 116.204241 115.440089 \nL 119.827618 123.966884 \nL 123.450994 130.549892 \nL 127.074371 134.926669 \nL 130.697748 136.922727 \nL 134.321124 136.45849 \nL 137.944501 133.552465 \nL 141.567877 128.320507 \nL 145.191254 120.971196 \nL 148.814631 111.797527 \nL 152.438007 101.165225 \nL 156.061384 89.498166 \nL 159.684761 77.26148 \nL 163.308137 64.943003 \nL 166.931514 53.033836 \nL 170.55489 42.008758 \nL 174.178267 32.307306 \nL 177.801644 24.316244 \nL 181.42502 18.354153 \nL 185.048397 14.65872 \nL 188.671774 13.377273 \nL 192.29515 14.560897 \nL 195.918527 18.162406 \nL 199.541903 24.038219 \n\" clip-path=\"url(#p8c5b557a18)\" style=\"fill: none; stroke: #1f77b4; stroke-width: 1.5; stroke-linecap: square\"/>\n   </g>\n   <g id=\"line2d_113\">\n    <path d=\"M 54.606838 21.734435 \nL 72.723722 68.053524 \nL 90.840605 120.952157 \nL 108.957488 131.795574 \nL 127.074371 90.614388 \nL 145.191254 35.270391 \nL 163.308137 16.646599 \nL 181.42502 51.865641 \n\" clip-path=\"url(#p8c5b557a18)\" style=\"fill: none; stroke-dasharray: 5.55,2.4; stroke-dashoffset: 0; stroke: #ff7f0e; stroke-width: 1.5\"/>\n   </g>\n   <g id=\"line2d_114\">\n    <path d=\"M 47.360085 72.119537 \nL 50.983462 59.912146 \nL 54.606838 48.314628 \nL 58.230215 37.78934 \nL 61.853592 28.755892 \nL 65.476968 21.574419 \nL 69.100345 16.531223 \nL 72.723722 13.827361 \nL 76.347098 13.570628 \nL 79.970475 15.771258 \nL 83.593851 20.341519 \nL 87.217228 27.09921 \nL 90.840605 35.774922 \nL 94.463981 46.022783 \nL 98.087358 57.434242 \nL 101.710735 69.554361 \nL 105.334111 81.899948 \nL 108.957488 93.978825 \nL 112.580864 105.309443 \nL 116.204241 115.440089 \nL 119.827618 123.966884 \nL 123.450994 130.549892 \nL 127.074371 134.926669 \nL 130.697748 136.922727 \nL 134.321124 136.45849 \nL 137.944501 133.552465 \nL 141.567877 128.320507 \nL 145.191254 120.971196 \nL 148.814631 111.797527 \nL 152.438007 101.165225 \nL 156.061384 89.498166 \nL 159.684761 77.26148 \nL 163.308137 64.943003 \nL 166.931514 53.033836 \nL 170.55489 42.008758 \nL 174.178267 32.307306 \nL 177.801644 24.316244 \nL 181.42502 18.354153 \nL 185.048397 14.65872 \nL 188.671774 13.377273 \nL 192.29515 14.560897 \nL 195.918527 18.162406 \nL 199.541903 24.038219 \nL 203.16528 31.954085 \n\" clip-path=\"url(#p8c5b557a18)\" style=\"fill: none; stroke: #1f77b4; stroke-width: 1.5; stroke-linecap: square\"/>\n   </g>\n   <g id=\"line2d_115\">\n    <path d=\"M 54.606838 21.734435 \nL 72.723722 68.053524 \nL 90.840605 120.952157 \nL 108.957488 131.795574 \nL 127.074371 90.614388 \nL 145.191254 35.270391 \nL 163.308137 16.646599 \nL 181.42502 51.865641 \n\" clip-path=\"url(#p8c5b557a18)\" style=\"fill: none; stroke-dasharray: 5.55,2.4; stroke-dashoffset: 0; stroke: #ff7f0e; stroke-width: 1.5\"/>\n   </g>\n   <g id=\"line2d_116\">\n    <path d=\"M 47.360085 72.119537 \nL 50.983462 59.912146 \nL 54.606838 48.314628 \nL 58.230215 37.78934 \nL 61.853592 28.755892 \nL 65.476968 21.574419 \nL 69.100345 16.531223 \nL 72.723722 13.827361 \nL 76.347098 13.570628 \nL 79.970475 15.771258 \nL 83.593851 20.341519 \nL 87.217228 27.09921 \nL 90.840605 35.774922 \nL 94.463981 46.022783 \nL 98.087358 57.434242 \nL 101.710735 69.554361 \nL 105.334111 81.899948 \nL 108.957488 93.978825 \nL 112.580864 105.309443 \nL 116.204241 115.440089 \nL 119.827618 123.966884 \nL 123.450994 130.549892 \nL 127.074371 134.926669 \nL 130.697748 136.922727 \nL 134.321124 136.45849 \nL 137.944501 133.552465 \nL 141.567877 128.320507 \nL 145.191254 120.971196 \nL 148.814631 111.797527 \nL 152.438007 101.165225 \nL 156.061384 89.498166 \nL 159.684761 77.26148 \nL 163.308137 64.943003 \nL 166.931514 53.033836 \nL 170.55489 42.008758 \nL 174.178267 32.307306 \nL 177.801644 24.316244 \nL 181.42502 18.354153 \nL 185.048397 14.65872 \nL 188.671774 13.377273 \nL 192.29515 14.560897 \nL 195.918527 18.162406 \nL 199.541903 24.038219 \nL 203.16528 31.954085 \nL 206.788657 41.594424 \n\" clip-path=\"url(#p8c5b557a18)\" style=\"fill: none; stroke: #1f77b4; stroke-width: 1.5; stroke-linecap: square\"/>\n   </g>\n   <g id=\"line2d_117\">\n    <path d=\"M 54.606838 21.734435 \nL 72.723722 68.053524 \nL 90.840605 120.952157 \nL 108.957488 131.795574 \nL 127.074371 90.614388 \nL 145.191254 35.270391 \nL 163.308137 16.646599 \nL 181.42502 51.865641 \n\" clip-path=\"url(#p8c5b557a18)\" style=\"fill: none; stroke-dasharray: 5.55,2.4; stroke-dashoffset: 0; stroke: #ff7f0e; stroke-width: 1.5\"/>\n   </g>\n   <g id=\"line2d_118\">\n    <path d=\"M 47.360085 72.119537 \nL 50.983462 59.912146 \nL 54.606838 48.314628 \nL 58.230215 37.78934 \nL 61.853592 28.755892 \nL 65.476968 21.574419 \nL 69.100345 16.531223 \nL 72.723722 13.827361 \nL 76.347098 13.570628 \nL 79.970475 15.771258 \nL 83.593851 20.341519 \nL 87.217228 27.09921 \nL 90.840605 35.774922 \nL 94.463981 46.022783 \nL 98.087358 57.434242 \nL 101.710735 69.554361 \nL 105.334111 81.899948 \nL 108.957488 93.978825 \nL 112.580864 105.309443 \nL 116.204241 115.440089 \nL 119.827618 123.966884 \nL 123.450994 130.549892 \nL 127.074371 134.926669 \nL 130.697748 136.922727 \nL 134.321124 136.45849 \nL 137.944501 133.552465 \nL 141.567877 128.320507 \nL 145.191254 120.971196 \nL 148.814631 111.797527 \nL 152.438007 101.165225 \nL 156.061384 89.498166 \nL 159.684761 77.26148 \nL 163.308137 64.943003 \nL 166.931514 53.033836 \nL 170.55489 42.008758 \nL 174.178267 32.307306 \nL 177.801644 24.316244 \nL 181.42502 18.354153 \nL 185.048397 14.65872 \nL 188.671774 13.377273 \nL 192.29515 14.560897 \nL 195.918527 18.162406 \nL 199.541903 24.038219 \nL 203.16528 31.954085 \nL 206.788657 41.594424 \n\" clip-path=\"url(#p8c5b557a18)\" style=\"fill: none; stroke: #1f77b4; stroke-width: 1.5; stroke-linecap: square\"/>\n   </g>\n   <g id=\"line2d_119\">\n    <path d=\"M 54.606838 21.734435 \nL 72.723722 68.053524 \nL 90.840605 120.952157 \nL 108.957488 131.795574 \nL 127.074371 90.614388 \nL 145.191254 35.270391 \nL 163.308137 16.646599 \nL 181.42502 51.865641 \nL 199.541903 108.547291 \n\" clip-path=\"url(#p8c5b557a18)\" style=\"fill: none; stroke-dasharray: 5.55,2.4; stroke-dashoffset: 0; stroke: #ff7f0e; stroke-width: 1.5\"/>\n   </g>\n   <g id=\"line2d_120\">\n    <path d=\"M 47.360085 72.119537 \nL 50.983462 59.912146 \nL 54.606838 48.314628 \nL 58.230215 37.78934 \nL 61.853592 28.755892 \nL 65.476968 21.574419 \nL 69.100345 16.531223 \nL 72.723722 13.827361 \nL 76.347098 13.570628 \nL 79.970475 15.771258 \nL 83.593851 20.341519 \nL 87.217228 27.09921 \nL 90.840605 35.774922 \nL 94.463981 46.022783 \nL 98.087358 57.434242 \nL 101.710735 69.554361 \nL 105.334111 81.899948 \nL 108.957488 93.978825 \nL 112.580864 105.309443 \nL 116.204241 115.440089 \nL 119.827618 123.966884 \nL 123.450994 130.549892 \nL 127.074371 134.926669 \nL 130.697748 136.922727 \nL 134.321124 136.45849 \nL 137.944501 133.552465 \nL 141.567877 128.320507 \nL 145.191254 120.971196 \nL 148.814631 111.797527 \nL 152.438007 101.165225 \nL 156.061384 89.498166 \nL 159.684761 77.26148 \nL 163.308137 64.943003 \nL 166.931514 53.033836 \nL 170.55489 42.008758 \nL 174.178267 32.307306 \nL 177.801644 24.316244 \nL 181.42502 18.354153 \nL 185.048397 14.65872 \nL 188.671774 13.377273 \nL 192.29515 14.560897 \nL 195.918527 18.162406 \nL 199.541903 24.038219 \nL 203.16528 31.954085 \nL 206.788657 41.594424 \nL 210.412033 52.574907 \n\" clip-path=\"url(#p8c5b557a18)\" style=\"fill: none; stroke: #1f77b4; stroke-width: 1.5; stroke-linecap: square\"/>\n   </g>\n   <g id=\"line2d_121\">\n    <path d=\"M 54.606838 21.734435 \nL 72.723722 68.053524 \nL 90.840605 120.952157 \nL 108.957488 131.795574 \nL 127.074371 90.614388 \nL 145.191254 35.270391 \nL 163.308137 16.646599 \nL 181.42502 51.865641 \nL 199.541903 108.547291 \n\" clip-path=\"url(#p8c5b557a18)\" style=\"fill: none; stroke-dasharray: 5.55,2.4; stroke-dashoffset: 0; stroke: #ff7f0e; stroke-width: 1.5\"/>\n   </g>\n   <g id=\"line2d_122\">\n    <path d=\"M 47.360085 72.119537 \nL 50.983462 59.912146 \nL 54.606838 48.314628 \nL 58.230215 37.78934 \nL 61.853592 28.755892 \nL 65.476968 21.574419 \nL 69.100345 16.531223 \nL 72.723722 13.827361 \nL 76.347098 13.570628 \nL 79.970475 15.771258 \nL 83.593851 20.341519 \nL 87.217228 27.09921 \nL 90.840605 35.774922 \nL 94.463981 46.022783 \nL 98.087358 57.434242 \nL 101.710735 69.554361 \nL 105.334111 81.899948 \nL 108.957488 93.978825 \nL 112.580864 105.309443 \nL 116.204241 115.440089 \nL 119.827618 123.966884 \nL 123.450994 130.549892 \nL 127.074371 134.926669 \nL 130.697748 136.922727 \nL 134.321124 136.45849 \nL 137.944501 133.552465 \nL 141.567877 128.320507 \nL 145.191254 120.971196 \nL 148.814631 111.797527 \nL 152.438007 101.165225 \nL 156.061384 89.498166 \nL 159.684761 77.26148 \nL 163.308137 64.943003 \nL 166.931514 53.033836 \nL 170.55489 42.008758 \nL 174.178267 32.307306 \nL 177.801644 24.316244 \nL 181.42502 18.354153 \nL 185.048397 14.65872 \nL 188.671774 13.377273 \nL 192.29515 14.560897 \nL 195.918527 18.162406 \nL 199.541903 24.038219 \nL 203.16528 31.954085 \nL 206.788657 41.594424 \nL 210.412033 52.574907 \nL 214.03541 64.457775 \n\" clip-path=\"url(#p8c5b557a18)\" style=\"fill: none; stroke: #1f77b4; stroke-width: 1.5; stroke-linecap: square\"/>\n   </g>\n   <g id=\"line2d_123\">\n    <path d=\"M 54.606838 21.734435 \nL 72.723722 68.053524 \nL 90.840605 120.952157 \nL 108.957488 131.795574 \nL 127.074371 90.614388 \nL 145.191254 35.270391 \nL 163.308137 16.646599 \nL 181.42502 51.865641 \nL 199.541903 108.547291 \n\" clip-path=\"url(#p8c5b557a18)\" style=\"fill: none; stroke-dasharray: 5.55,2.4; stroke-dashoffset: 0; stroke: #ff7f0e; stroke-width: 1.5\"/>\n   </g>\n   <g id=\"line2d_124\">\n    <path d=\"M 47.360085 72.119537 \nL 50.983462 59.912146 \nL 54.606838 48.314628 \nL 58.230215 37.78934 \nL 61.853592 28.755892 \nL 65.476968 21.574419 \nL 69.100345 16.531223 \nL 72.723722 13.827361 \nL 76.347098 13.570628 \nL 79.970475 15.771258 \nL 83.593851 20.341519 \nL 87.217228 27.09921 \nL 90.840605 35.774922 \nL 94.463981 46.022783 \nL 98.087358 57.434242 \nL 101.710735 69.554361 \nL 105.334111 81.899948 \nL 108.957488 93.978825 \nL 112.580864 105.309443 \nL 116.204241 115.440089 \nL 119.827618 123.966884 \nL 123.450994 130.549892 \nL 127.074371 134.926669 \nL 130.697748 136.922727 \nL 134.321124 136.45849 \nL 137.944501 133.552465 \nL 141.567877 128.320507 \nL 145.191254 120.971196 \nL 148.814631 111.797527 \nL 152.438007 101.165225 \nL 156.061384 89.498166 \nL 159.684761 77.26148 \nL 163.308137 64.943003 \nL 166.931514 53.033836 \nL 170.55489 42.008758 \nL 174.178267 32.307306 \nL 177.801644 24.316244 \nL 181.42502 18.354153 \nL 185.048397 14.65872 \nL 188.671774 13.377273 \nL 192.29515 14.560897 \nL 195.918527 18.162406 \nL 199.541903 24.038219 \nL 203.16528 31.954085 \nL 206.788657 41.594424 \nL 210.412033 52.574907 \nL 214.03541 64.457775 \nL 217.658787 76.769297 \n\" clip-path=\"url(#p8c5b557a18)\" style=\"fill: none; stroke: #1f77b4; stroke-width: 1.5; stroke-linecap: square\"/>\n   </g>\n   <g id=\"line2d_125\">\n    <path d=\"M 54.606838 21.734435 \nL 72.723722 68.053524 \nL 90.840605 120.952157 \nL 108.957488 131.795574 \nL 127.074371 90.614388 \nL 145.191254 35.270391 \nL 163.308137 16.646599 \nL 181.42502 51.865641 \nL 199.541903 108.547291 \n\" clip-path=\"url(#p8c5b557a18)\" style=\"fill: none; stroke-dasharray: 5.55,2.4; stroke-dashoffset: 0; stroke: #ff7f0e; stroke-width: 1.5\"/>\n   </g>\n   <g id=\"line2d_126\">\n    <path d=\"M 47.360085 72.119537 \nL 50.983462 59.912146 \nL 54.606838 48.314628 \nL 58.230215 37.78934 \nL 61.853592 28.755892 \nL 65.476968 21.574419 \nL 69.100345 16.531223 \nL 72.723722 13.827361 \nL 76.347098 13.570628 \nL 79.970475 15.771258 \nL 83.593851 20.341519 \nL 87.217228 27.09921 \nL 90.840605 35.774922 \nL 94.463981 46.022783 \nL 98.087358 57.434242 \nL 101.710735 69.554361 \nL 105.334111 81.899948 \nL 108.957488 93.978825 \nL 112.580864 105.309443 \nL 116.204241 115.440089 \nL 119.827618 123.966884 \nL 123.450994 130.549892 \nL 127.074371 134.926669 \nL 130.697748 136.922727 \nL 134.321124 136.45849 \nL 137.944501 133.552465 \nL 141.567877 128.320507 \nL 145.191254 120.971196 \nL 148.814631 111.797527 \nL 152.438007 101.165225 \nL 156.061384 89.498166 \nL 159.684761 77.26148 \nL 163.308137 64.943003 \nL 166.931514 53.033836 \nL 170.55489 42.008758 \nL 174.178267 32.307306 \nL 177.801644 24.316244 \nL 181.42502 18.354153 \nL 185.048397 14.65872 \nL 188.671774 13.377273 \nL 192.29515 14.560897 \nL 195.918527 18.162406 \nL 199.541903 24.038219 \nL 203.16528 31.954085 \nL 206.788657 41.594424 \nL 210.412033 52.574907 \nL 214.03541 64.457775 \nL 217.658787 76.769297 \nL 221.282163 89.018651 \n\" clip-path=\"url(#p8c5b557a18)\" style=\"fill: none; stroke: #1f77b4; stroke-width: 1.5; stroke-linecap: square\"/>\n   </g>\n   <g id=\"line2d_127\">\n    <path d=\"M 54.606838 21.734435 \nL 72.723722 68.053524 \nL 90.840605 120.952157 \nL 108.957488 131.795574 \nL 127.074371 90.614388 \nL 145.191254 35.270391 \nL 163.308137 16.646599 \nL 181.42502 51.865641 \nL 199.541903 108.547291 \n\" clip-path=\"url(#p8c5b557a18)\" style=\"fill: none; stroke-dasharray: 5.55,2.4; stroke-dashoffset: 0; stroke: #ff7f0e; stroke-width: 1.5\"/>\n   </g>\n   <g id=\"line2d_128\">\n    <path d=\"M 47.360085 72.119537 \nL 50.983462 59.912146 \nL 54.606838 48.314628 \nL 58.230215 37.78934 \nL 61.853592 28.755892 \nL 65.476968 21.574419 \nL 69.100345 16.531223 \nL 72.723722 13.827361 \nL 76.347098 13.570628 \nL 79.970475 15.771258 \nL 83.593851 20.341519 \nL 87.217228 27.09921 \nL 90.840605 35.774922 \nL 94.463981 46.022783 \nL 98.087358 57.434242 \nL 101.710735 69.554361 \nL 105.334111 81.899948 \nL 108.957488 93.978825 \nL 112.580864 105.309443 \nL 116.204241 115.440089 \nL 119.827618 123.966884 \nL 123.450994 130.549892 \nL 127.074371 134.926669 \nL 130.697748 136.922727 \nL 134.321124 136.45849 \nL 137.944501 133.552465 \nL 141.567877 128.320507 \nL 145.191254 120.971196 \nL 148.814631 111.797527 \nL 152.438007 101.165225 \nL 156.061384 89.498166 \nL 159.684761 77.26148 \nL 163.308137 64.943003 \nL 166.931514 53.033836 \nL 170.55489 42.008758 \nL 174.178267 32.307306 \nL 177.801644 24.316244 \nL 181.42502 18.354153 \nL 185.048397 14.65872 \nL 188.671774 13.377273 \nL 192.29515 14.560897 \nL 195.918527 18.162406 \nL 199.541903 24.038219 \nL 203.16528 31.954085 \nL 206.788657 41.594424 \nL 210.412033 52.574907 \nL 214.03541 64.457775 \nL 217.658787 76.769297 \nL 221.282163 89.018651 \nL 224.90554 100.717494 \n\" clip-path=\"url(#p8c5b557a18)\" style=\"fill: none; stroke: #1f77b4; stroke-width: 1.5; stroke-linecap: square\"/>\n   </g>\n   <g id=\"line2d_129\">\n    <path d=\"M 54.606838 21.734435 \nL 72.723722 68.053524 \nL 90.840605 120.952157 \nL 108.957488 131.795574 \nL 127.074371 90.614388 \nL 145.191254 35.270391 \nL 163.308137 16.646599 \nL 181.42502 51.865641 \nL 199.541903 108.547291 \n\" clip-path=\"url(#p8c5b557a18)\" style=\"fill: none; stroke-dasharray: 5.55,2.4; stroke-dashoffset: 0; stroke: #ff7f0e; stroke-width: 1.5\"/>\n   </g>\n   <g id=\"line2d_130\">\n    <path d=\"M 47.360085 72.119537 \nL 50.983462 59.912146 \nL 54.606838 48.314628 \nL 58.230215 37.78934 \nL 61.853592 28.755892 \nL 65.476968 21.574419 \nL 69.100345 16.531223 \nL 72.723722 13.827361 \nL 76.347098 13.570628 \nL 79.970475 15.771258 \nL 83.593851 20.341519 \nL 87.217228 27.09921 \nL 90.840605 35.774922 \nL 94.463981 46.022783 \nL 98.087358 57.434242 \nL 101.710735 69.554361 \nL 105.334111 81.899948 \nL 108.957488 93.978825 \nL 112.580864 105.309443 \nL 116.204241 115.440089 \nL 119.827618 123.966884 \nL 123.450994 130.549892 \nL 127.074371 134.926669 \nL 130.697748 136.922727 \nL 134.321124 136.45849 \nL 137.944501 133.552465 \nL 141.567877 128.320507 \nL 145.191254 120.971196 \nL 148.814631 111.797527 \nL 152.438007 101.165225 \nL 156.061384 89.498166 \nL 159.684761 77.26148 \nL 163.308137 64.943003 \nL 166.931514 53.033836 \nL 170.55489 42.008758 \nL 174.178267 32.307306 \nL 177.801644 24.316244 \nL 181.42502 18.354153 \nL 185.048397 14.65872 \nL 188.671774 13.377273 \nL 192.29515 14.560897 \nL 195.918527 18.162406 \nL 199.541903 24.038219 \nL 203.16528 31.954085 \nL 206.788657 41.594424 \nL 210.412033 52.574907 \nL 214.03541 64.457775 \nL 217.658787 76.769297 \nL 221.282163 89.018651 \nL 224.90554 100.717494 \n\" clip-path=\"url(#p8c5b557a18)\" style=\"fill: none; stroke: #1f77b4; stroke-width: 1.5; stroke-linecap: square\"/>\n   </g>\n   <g id=\"line2d_131\">\n    <path d=\"M 54.606838 21.734435 \nL 72.723722 68.053524 \nL 90.840605 120.952157 \nL 108.957488 131.795574 \nL 127.074371 90.614388 \nL 145.191254 35.270391 \nL 163.308137 16.646599 \nL 181.42502 51.865641 \nL 199.541903 108.547291 \nL 217.658787 134.578702 \n\" clip-path=\"url(#p8c5b557a18)\" style=\"fill: none; stroke-dasharray: 5.55,2.4; stroke-dashoffset: 0; stroke: #ff7f0e; stroke-width: 1.5\"/>\n   </g>\n   <g id=\"patch_3\">\n    <path d=\"M 38.482813 143.1 \nL 38.482813 7.2 \n\" style=\"fill: none; stroke: #000000; stroke-width: 0.8; stroke-linejoin: miter; stroke-linecap: square\"/>\n   </g>\n   <g id=\"patch_4\">\n    <path d=\"M 233.782813 143.1 \nL 233.782813 7.2 \n\" style=\"fill: none; stroke: #000000; stroke-width: 0.8; stroke-linejoin: miter; stroke-linecap: square\"/>\n   </g>\n   <g id=\"patch_5\">\n    <path d=\"M 38.482813 143.1 \nL 233.782813 143.1 \n\" style=\"fill: none; stroke: #000000; stroke-width: 0.8; stroke-linejoin: miter; stroke-linecap: square\"/>\n   </g>\n   <g id=\"patch_6\">\n    <path d=\"M 38.482813 7.2 \nL 233.782813 7.2 \n\" style=\"fill: none; stroke: #000000; stroke-width: 0.8; stroke-linejoin: miter; stroke-linecap: square\"/>\n   </g>\n   <g id=\"legend_1\">\n    <g id=\"patch_7\">\n     <path d=\"M 177.95625 138.1 \nL 226.782813 138.1 \nQ 228.782813 138.1 228.782813 136.1 \nL 228.782813 107.74375 \nQ 228.782813 105.74375 226.782813 105.74375 \nL 177.95625 105.74375 \nQ 175.95625 105.74375 175.95625 107.74375 \nL 175.95625 136.1 \nQ 175.95625 138.1 177.95625 138.1 \nz\n\" style=\"fill: #ffffff; opacity: 0.8; stroke: #cccccc; stroke-linejoin: miter\"/>\n    </g>\n    <g id=\"line2d_132\">\n     <path d=\"M 179.95625 113.842187 \nL 189.95625 113.842187 \nL 199.95625 113.842187 \n\" style=\"fill: none; stroke: #1f77b4; stroke-width: 1.5; stroke-linecap: square\"/>\n    </g>\n    <g id=\"text_13\">\n     <!-- sin -->\n     <g transform=\"translate(207.95625 117.342187)scale(0.1 -0.1)\">\n      <defs>\n       <path id=\"DejaVuSans-73\" d=\"M 2834 3397 \nL 2834 2853 \nQ 2591 2978 2328 3040 \nQ 2066 3103 1784 3103 \nQ 1356 3103 1142 2972 \nQ 928 2841 928 2578 \nQ 928 2378 1081 2264 \nQ 1234 2150 1697 2047 \nL 1894 2003 \nQ 2506 1872 2764 1633 \nQ 3022 1394 3022 966 \nQ 3022 478 2636 193 \nQ 2250 -91 1575 -91 \nQ 1294 -91 989 -36 \nQ 684 19 347 128 \nL 347 722 \nQ 666 556 975 473 \nQ 1284 391 1588 391 \nQ 1994 391 2212 530 \nQ 2431 669 2431 922 \nQ 2431 1156 2273 1281 \nQ 2116 1406 1581 1522 \nL 1381 1569 \nQ 847 1681 609 1914 \nQ 372 2147 372 2553 \nQ 372 3047 722 3315 \nQ 1072 3584 1716 3584 \nQ 2034 3584 2315 3537 \nQ 2597 3491 2834 3397 \nz\n\" transform=\"scale(0.015625)\"/>\n       <path id=\"DejaVuSans-69\" d=\"M 603 3500 \nL 1178 3500 \nL 1178 0 \nL 603 0 \nL 603 3500 \nz\nM 603 4863 \nL 1178 4863 \nL 1178 4134 \nL 603 4134 \nL 603 4863 \nz\n\" transform=\"scale(0.015625)\"/>\n       <path id=\"DejaVuSans-6e\" d=\"M 3513 2113 \nL 3513 0 \nL 2938 0 \nL 2938 2094 \nQ 2938 2591 2744 2837 \nQ 2550 3084 2163 3084 \nQ 1697 3084 1428 2787 \nQ 1159 2491 1159 1978 \nL 1159 0 \nL 581 0 \nL 581 3500 \nL 1159 3500 \nL 1159 2956 \nQ 1366 3272 1645 3428 \nQ 1925 3584 2291 3584 \nQ 2894 3584 3203 3211 \nQ 3513 2838 3513 2113 \nz\n\" transform=\"scale(0.015625)\"/>\n      </defs>\n      <use xlink:href=\"#DejaVuSans-73\"/>\n      <use xlink:href=\"#DejaVuSans-69\" x=\"52.099609\"/>\n      <use xlink:href=\"#DejaVuSans-6e\" x=\"79.882812\"/>\n     </g>\n    </g>\n    <g id=\"line2d_133\">\n     <path d=\"M 179.95625 128.520312 \nL 189.95625 128.520312 \nL 199.95625 128.520312 \n\" style=\"fill: none; stroke-dasharray: 5.55,2.4; stroke-dashoffset: 0; stroke: #ff7f0e; stroke-width: 1.5\"/>\n    </g>\n    <g id=\"text_14\">\n     <!-- cos -->\n     <g transform=\"translate(207.95625 132.020312)scale(0.1 -0.1)\">\n      <defs>\n       <path id=\"DejaVuSans-63\" d=\"M 3122 3366 \nL 3122 2828 \nQ 2878 2963 2633 3030 \nQ 2388 3097 2138 3097 \nQ 1578 3097 1268 2742 \nQ 959 2388 959 1747 \nQ 959 1106 1268 751 \nQ 1578 397 2138 397 \nQ 2388 397 2633 464 \nQ 2878 531 3122 666 \nL 3122 134 \nQ 2881 22 2623 -34 \nQ 2366 -91 2075 -91 \nQ 1284 -91 818 406 \nQ 353 903 353 1747 \nQ 353 2603 823 3093 \nQ 1294 3584 2113 3584 \nQ 2378 3584 2631 3529 \nQ 2884 3475 3122 3366 \nz\n\" transform=\"scale(0.015625)\"/>\n       <path id=\"DejaVuSans-6f\" d=\"M 1959 3097 \nQ 1497 3097 1228 2736 \nQ 959 2375 959 1747 \nQ 959 1119 1226 758 \nQ 1494 397 1959 397 \nQ 2419 397 2687 759 \nQ 2956 1122 2956 1747 \nQ 2956 2369 2687 2733 \nQ 2419 3097 1959 3097 \nz\nM 1959 3584 \nQ 2709 3584 3137 3096 \nQ 3566 2609 3566 1747 \nQ 3566 888 3137 398 \nQ 2709 -91 1959 -91 \nQ 1206 -91 779 398 \nQ 353 888 353 1747 \nQ 353 2609 779 3096 \nQ 1206 3584 1959 3584 \nz\n\" transform=\"scale(0.015625)\"/>\n      </defs>\n      <use xlink:href=\"#DejaVuSans-63\"/>\n      <use xlink:href=\"#DejaVuSans-6f\" x=\"54.980469\"/>\n      <use xlink:href=\"#DejaVuSans-73\" x=\"116.162109\"/>\n     </g>\n    </g>\n   </g>\n  </g>\n </g>\n <defs>\n  <clipPath id=\"p8c5b557a18\">\n   <rect x=\"38.482813\" y=\"7.2\" width=\"195.3\" height=\"135.9\"/>\n  </clipPath>\n </defs>\n</svg>\n",
      "text/plain": [
       "<Figure size 252x180 with 1 Axes>"
      ]
     },
     "metadata": {
      "needs_background": "light"
     },
     "output_type": "display_data"
    }
   ],
   "source": [
    "board = d2l.ProgressBoard('x')\n",
    "for x in np.arange(0, 10, 0.1):\n",
    "    board.draw(x, np.sin(x), 'sin', every_n=2)\n",
    "    board.draw(x, np.cos(x), 'cos', every_n=10)"
   ]
  },
  {
   "cell_type": "markdown",
   "id": "547f8f94",
   "metadata": {
    "origin_pos": 19
   },
   "source": [
    "## Models\n",
    ":label:`oo-design-models`\n",
    "\n",
    "The `Module` class  is the base class of all models we will implement. At a minimum we need to define three methods. The `__init__` method stores the learnable parameters, the `training_step` method accepts a data batch to return the loss value, the `configure_optimizers` method returns the optimization method, or a list of them, that is used to update the learnable parameters. Optionally we can define `validation_step` to report the evaluation measures.\n",
    "Sometimes we put the code to compute the output into a separate `forward` method to make it more reusable.\n"
   ]
  },
  {
   "cell_type": "code",
   "execution_count": 10,
   "id": "70a919e7",
   "metadata": {
    "execution": {
     "iopub.execute_input": "2022-07-13T08:13:13.892947Z",
     "iopub.status.busy": "2022-07-13T08:13:13.892382Z",
     "iopub.status.idle": "2022-07-13T08:13:13.901442Z",
     "shell.execute_reply": "2022-07-13T08:13:13.900676Z"
    },
    "origin_pos": 20,
    "tab": [
     "pytorch"
    ]
   },
   "outputs": [],
   "source": [
    "class Module(nn.Module):\n",
    "    \"\"\"Defined in :numref:`sec_oo-design`\"\"\"\n",
    "\n",
    "    plot_train_per_epoch: int = 2\n",
    "    plot_valid_per_epoch: int = 1\n",
    "    board: ProgressBoard = ProgressBoard()\n",
    "    training: bool = None\n",
    "\n",
    "    def loss(self, y_hat, y):\n",
    "        raise NotImplementedError\n",
    "\n",
    "    def forward(self, X):\n",
    "        assert hasattr(self, \"net\"), \"Neural network is defined\"\n",
    "        return self.net(X)\n",
    "\n",
    "    def __call__(self, X, *args, **kwargs):\n",
    "        if kwargs and \"training\" in kwargs:\n",
    "            self.training = kwargs[\"training\"]\n",
    "        return self.forward(X, *args)\n",
    "\n",
    "    def plot(self, key, value, train):\n",
    "        \"\"\"Plot a point in animation.\"\"\"\n",
    "        assert hasattr(self, \"trainer\"), \"Trainer is not inited\"\n",
    "        self.board.xlabel = \"epoch\"\n",
    "        if train:\n",
    "            x = self.trainer.train_batch_idx / self.trainer.num_train_batches\n",
    "            n = self.trainer.num_train_batches / self.plot_train_per_epoch\n",
    "        else:\n",
    "            x = self.trainer.epoch + 1\n",
    "            n = self.trainer.num_val_batches / self.plot_valid_per_epoch\n",
    "\n",
    "        self.board.draw(x, value, (\"train_\" if train else \"val_\") + key, every_n=int(n))\n",
    "\n",
    "    def training_step(self, params, batch):\n",
    "        loss, grads = jax.value_and_grad(self.loss)(params, *batch[:-1], batch[-1])\n",
    "        self.plot(\"loss\", loss, train=True)\n",
    "        return loss, grads\n",
    "\n",
    "    def validation_step(self, params, batch):\n",
    "        loss = self.loss(params, *batch[:-1], batch[-1])\n",
    "        self.plot(\"loss\", loss, train=False)\n",
    "\n",
    "    def configure_optimizers(self):\n",
    "        raise NotImplementedError\n",
    "\n",
    "    def configure_optimizers(self):\n",
    "        \"\"\"Defined in :numref:`sec_classification`\"\"\"\n",
    "        return optax.sgd(learning_rate=self.lr)"
   ]
  },
  {
   "cell_type": "markdown",
   "id": "ebfbea21",
   "metadata": {
    "origin_pos": 22,
    "tab": [
     "pytorch"
    ]
   },
   "source": [
    "You may notice that `Module` is a subclass of `nn.Module`, the base class of neural networks in PyTorch.\n",
    "It provides convenient features to handle neural networks. For example, if we define a `forward` method, such as `forward(self, X)`, then for an instance `a` we can invoke this function by `a(X)`. This works since it calls the `forward` method in the built-in `__call__` method. You can find more details and examples about `nn.Module` in :numref:`sec_model_construction`.\n"
   ]
  },
  {
   "cell_type": "markdown",
   "id": "c7b9571f",
   "metadata": {
    "origin_pos": 24
   },
   "source": [
    "##  Data\n",
    ":label:`oo-design-data`\n",
    "\n",
    "The `DataModule` class is the base class for data. Quite frequently the `__init__` method is used to prepare the data. This includes downloading and preprocessing if needed. The `train_dataloader` returns the data loader for the training dataset. A data loader is a (Python) generator that yields a data batch each time it is used. This batch is then fed into the `training_step` method of `Module` to compute the loss. There is an optional `val_dataloader` to return the validation dataset loader. It behaves in the same manner, except that it yields data batches for the `validation_step` method in `Module`.\n"
   ]
  },
  {
   "cell_type": "code",
   "execution_count": 11,
   "id": "d3c9ef74",
   "metadata": {
    "execution": {
     "iopub.execute_input": "2022-07-13T08:13:13.904961Z",
     "iopub.status.busy": "2022-07-13T08:13:13.904444Z",
     "iopub.status.idle": "2022-07-13T08:13:13.909299Z",
     "shell.execute_reply": "2022-07-13T08:13:13.908506Z"
    },
    "origin_pos": 25,
    "tab": [
     "pytorch"
    ]
   },
   "outputs": [],
   "source": [
    "class DataModule(HyperParameters):\n",
    "    \"\"\"Defined in :numref:`sec_oo-design`\"\"\"\n",
    "\n",
    "    def __init__(self, root=\"../data\"):\n",
    "        self.save_hyperparameters()\n",
    "\n",
    "    def get_dataloader(self, train):\n",
    "        raise NotImplementedError\n",
    "\n",
    "    def train_dataloader(self):\n",
    "        return self.get_dataloader(train=True)\n",
    "\n",
    "    def val_dataloader(self):\n",
    "        return self.get_dataloader(train=False)\n",
    "\n",
    "    def get_tensorloader(self, tensors, train, indices=slice(0, None)):\n",
    "        \"\"\"Defined in :numref:`sec_synthetic-regression-data`\"\"\"\n",
    "        tensors = tuple(a[indices] for a in tensors)\n",
    "        shuffle_buffer = tensors[0].shape[0] if train else 1\n",
    "        return tfds.as_numpy(\n",
    "            tf.data.Dataset.from_tensor_slices(tensors)\n",
    "            .shuffle(buffer_size=shuffle_buffer)\n",
    "            .batch(self.batch_size)\n",
    "        )"
   ]
  },
  {
   "cell_type": "markdown",
   "id": "fe942842",
   "metadata": {
    "origin_pos": 26
   },
   "source": [
    "## Training\n",
    ":label:`oo-design-training`\n",
    "\n",
    "The `Trainer` class trains the learnable parameters in the `Module` class with data specified in `DataModule`. The key method is `fit`, which accepts two arguments: `model`, an instance of `Module`, and `data`, an instance of `DataModule`. It then iterates over the entire dataset `max_epochs` times to train the model. As before, we will defer the implementation of this function to later chapters.\n"
   ]
  },
  {
   "cell_type": "code",
   "execution_count": 12,
   "id": "f15b3514",
   "metadata": {
    "execution": {
     "iopub.execute_input": "2022-07-13T08:13:13.912776Z",
     "iopub.status.busy": "2022-07-13T08:13:13.912268Z",
     "iopub.status.idle": "2022-07-13T08:13:13.919352Z",
     "shell.execute_reply": "2022-07-13T08:13:13.918515Z"
    },
    "origin_pos": 27,
    "tab": [
     "pytorch"
    ]
   },
   "outputs": [],
   "source": [
    "class Trainer(HyperParameters):\n",
    "    \"\"\"Defined in :numref:`sec_oo-design`\"\"\"\n",
    "\n",
    "    def __init__(self, max_epochs, num_gpus=0, gradient_clip_val=0):\n",
    "        self.save_hyperparameters()\n",
    "        assert num_gpus == 0, \"No GPU support yet\"\n",
    "\n",
    "    def prepare_data(self, data):\n",
    "        self.train_dataloader = data.train_dataloader()\n",
    "        self.val_dataloader = data.val_dataloader()\n",
    "        self.num_train_batches = len(self.train_dataloader)\n",
    "        self.num_val_batches = (\n",
    "            len(self.val_dataloader) if self.val_dataloader is not None else 0\n",
    "        )\n",
    "\n",
    "    def prepare_model(self, model):\n",
    "        model.trainer = self\n",
    "        model.board.xlim = [0, self.max_epochs]\n",
    "        self.model = model\n",
    "\n",
    "    def fit(self, params, model, data):\n",
    "        self.prepare_data(data)\n",
    "        self.prepare_model(model)\n",
    "        self.optim = model.configure_optimizers()\n",
    "        self.state = TrainState.create(\n",
    "            apply_fn=model.apply, params=params, tx=model.configure_optimizers()\n",
    "        )\n",
    "\n",
    "        self.epoch = 0\n",
    "        self.train_batch_idx = 0\n",
    "        self.val_batch_idx = 0\n",
    "        for self.epoch in range(self.max_epochs):\n",
    "            self.fit_epoch()\n",
    "\n",
    "    def prepare_batch(self, batch):\n",
    "        \"\"\"Defined in :numref:`sec_linear_scratch`\"\"\"\n",
    "        return batch\n",
    "\n",
    "    def fit_epoch(self):\n",
    "        \"\"\"Defined in :numref:`sec_linear_scratch`\"\"\"\n",
    "        self.model.training = True\n",
    "\n",
    "        for batch in self.train_dataloader:\n",
    "            _, grads = self.model.training_step(\n",
    "                self.state.params, self.prepare_batch(batch)\n",
    "            )\n",
    "\n",
    "            # todo: clip\n",
    "            # if self.gradient_clip_val > 0:\n",
    "            #     grads = self.clip_gradients(self.gradient_clip_val, grads)\n",
    "\n",
    "            self.state = self.state.apply_gradients(grads=grads)\n",
    "            self.train_batch_idx += 1\n",
    "\n",
    "        if self.val_dataloader is None:\n",
    "            return\n",
    "\n",
    "        self.model.training = False\n",
    "        for batch in self.val_dataloader:\n",
    "            self.model.validation_step(self.state.params, self.prepare_batch(batch))\n",
    "            self.val_batch_idx += 1\n",
    "\n",
    "    # todo: clip\n",
    "    # def clip_gradients(self, grad_clip_val, grads):\n",
    "    #     \"\"\"Defined in :numref:`sec_rnn-scratch`\"\"\"\n",
    "    #     grad_clip_val = tf.constant(grad_clip_val, dtype=tf.float32)\n",
    "    #     new_grads = [tf.convert_to_tensor(grad) if isinstance(\n",
    "    #         grad, tf.IndexedSlices) else grad for grad in grads]\n",
    "    #     norm = tf.math.sqrt(sum((tf.reduce_sum(grad ** 2)) for grad in new_grads))\n",
    "    #     if tf.greater(norm, grad_clip_val):\n",
    "    #         for i, grad in enumerate(new_grads):\n",
    "    #             new_grads[i] = grad * grad_clip_val / norm\n",
    "    #         return new_grads\n",
    "    #     return grads"
   ]
  },
  {
   "cell_type": "markdown",
   "id": "72af75e5",
   "metadata": {
    "origin_pos": 28
   },
   "source": [
    "## Summary\n",
    "\n",
    "To highlight the object-oriented design\n",
    "for our future deep learning implementation,\n",
    "the above classes just show how their objects \n",
    "store data and interact with each other.\n",
    "We will keep enriching implementations of these classes,\n",
    "such as via `@add_to_class`,\n",
    "in the rest of the book.\n",
    "Moreover,\n",
    "these fully implemented classes\n",
    "are saved in the [d2l library](https://github.com/d2l-ai/d2l-en/tree/master/d2l),\n",
    "a *lightweight toolkit* that makes structured modeling for deep learning easy. \n",
    "In particular, it facilitates reusing many components between projects without changing much at all. For instance, we can replace just the optimizer, just the model, just the dataset, etc.;\n",
    "this degree of modularity pays dividends throughout the book in terms of conciseness and simplicity (this is why we added it) and it can do the same for your own projects. \n",
    "\n",
    "\n",
    "## Exercises\n",
    "\n",
    "1. Locate full implementations of the above classes that are saved in the [d2l library](https://github.com/d2l-ai/d2l-en/tree/master/d2l). We strongly recommend that you look at the implementation in detail once you have gained some more familiarity with deep learning modeling.\n",
    "1. Remove the `save_hyperparameters` statement in the `B` class. Can you still print `self.a` and `self.b`? Optional: if you have dived into the full implementation of the `HyperParameters` class, can you explain why?\n"
   ]
  },
  {
   "cell_type": "markdown",
   "id": "995a4692",
   "metadata": {
    "origin_pos": 30,
    "tab": [
     "pytorch"
    ]
   },
   "source": [
    "[Discussions](https://discuss.d2l.ai/t/6646)\n"
   ]
  }
 ],
 "metadata": {
  "accelerator": "GPU",
  "kernelspec": {
   "display_name": "Python 3.9.13 ('base')",
   "language": "python",
   "name": "python3"
  },
  "language_info": {
   "codemirror_mode": {
    "name": "ipython",
    "version": 3
   },
   "file_extension": ".py",
   "mimetype": "text/x-python",
   "name": "python",
   "nbconvert_exporter": "python",
   "pygments_lexer": "ipython3",
   "version": "3.9.13"
  },
  "vscode": {
   "interpreter": {
    "hash": "626d743d6476408aa1b36c3ff0d1f9d9d03e37c6879626ddfcdd13d658004bbf"
   }
  }
 },
 "nbformat": 4,
 "nbformat_minor": 5
}
