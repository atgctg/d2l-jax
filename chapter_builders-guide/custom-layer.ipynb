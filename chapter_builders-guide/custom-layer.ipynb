{
 "cells": [
  {
   "cell_type": "markdown",
   "id": "5ffe3501",
   "metadata": {},
   "source": [
    "The following additional libraries are needed to run this\n",
    "notebook. Note that running on Colab is experimental, please report a Github\n",
    "issue if you have any problem."
   ]
  },
  {
   "cell_type": "code",
   "execution_count": 10,
   "id": "7a97c33f",
   "metadata": {},
   "outputs": [],
   "source": [
    "%%capture\n",
    "\n",
    "import sys\n",
    "sys.path.append('..')\n",
    "import mock_d2l_jax as d2l"
   ]
  },
  {
   "cell_type": "markdown",
   "id": "b55ecf05",
   "metadata": {
    "origin_pos": 0
   },
   "source": [
    "# Custom Layers\n",
    "\n",
    "One factor behind deep learning's success\n",
    "is the availability of a wide range of layers\n",
    "that can be composed in creative ways\n",
    "to design architectures suitable\n",
    "for a wide variety of tasks.\n",
    "For instance, researchers have invented layers\n",
    "specifically for handling images, text,\n",
    "looping over sequential data,\n",
    "and\n",
    "performing dynamic programming.\n",
    "Sooner or later, you will encounter or invent\n",
    "a layer that does not exist yet in the deep learning framework.\n",
    "In these cases, you must build a custom layer.\n",
    "In this section, we show you how.\n",
    "\n",
    "## (**Layers without Parameters**)\n",
    "\n",
    "To start, we construct a custom layer\n",
    "that does not have any parameters of its own.\n",
    "This should look familiar if you recall our\n",
    "introduction to module in :numref:`sec_model_construction`.\n",
    "The following `CenteredLayer` class simply\n",
    "subtracts the mean from its input.\n",
    "To build it, we simply need to inherit\n",
    "from the base layer class and implement the forward propagation function.\n"
   ]
  },
  {
   "cell_type": "code",
   "execution_count": 11,
   "id": "240e7951",
   "metadata": {
    "execution": {
     "iopub.execute_input": "2022-07-13T08:07:27.104787Z",
     "iopub.status.busy": "2022-07-13T08:07:27.104224Z",
     "iopub.status.idle": "2022-07-13T08:07:29.088928Z",
     "shell.execute_reply": "2022-07-13T08:07:29.087829Z"
    },
    "origin_pos": 3,
    "tab": [
     "pytorch"
    ]
   },
   "outputs": [],
   "source": [
    "import jax\n",
    "from jax import numpy as jnp, random, grad, vmap, jit\n",
    "import flax.linen as nn\n",
    "\n",
    "class CenteredLayer(nn.Module):\n",
    "    def __call__(self, X):\n",
    "        return X - X.mean()"
   ]
  },
  {
   "cell_type": "markdown",
   "id": "8d459530",
   "metadata": {
    "origin_pos": 5
   },
   "source": [
    "Let's verify that our layer works as intended by feeding some data through it.\n"
   ]
  },
  {
   "cell_type": "code",
   "execution_count": 12,
   "id": "cf2e29f1",
   "metadata": {
    "execution": {
     "iopub.execute_input": "2022-07-13T08:07:29.094917Z",
     "iopub.status.busy": "2022-07-13T08:07:29.094316Z",
     "iopub.status.idle": "2022-07-13T08:07:29.123728Z",
     "shell.execute_reply": "2022-07-13T08:07:29.122782Z"
    },
    "origin_pos": 6,
    "tab": [
     "pytorch"
    ]
   },
   "outputs": [
    {
     "data": {
      "text/plain": [
       "DeviceArray([-2., -1.,  0.,  1.,  2.], dtype=float32)"
      ]
     },
     "execution_count": 12,
     "metadata": {},
     "output_type": "execute_result"
    }
   ],
   "source": [
    "layer = CenteredLayer()\n",
    "layer(jnp.array([1.0, 2, 3, 4, 5]))"
   ]
  },
  {
   "cell_type": "markdown",
   "id": "50337fd0",
   "metadata": {
    "origin_pos": 7
   },
   "source": [
    "We can now [**incorporate our layer as a component\n",
    "in constructing more complex models.**]\n"
   ]
  },
  {
   "cell_type": "code",
   "execution_count": 13,
   "id": "e94f87ae",
   "metadata": {
    "execution": {
     "iopub.execute_input": "2022-07-13T08:07:29.129416Z",
     "iopub.status.busy": "2022-07-13T08:07:29.128946Z",
     "iopub.status.idle": "2022-07-13T08:07:29.134574Z",
     "shell.execute_reply": "2022-07-13T08:07:29.133766Z"
    },
    "origin_pos": 9,
    "tab": [
     "pytorch"
    ]
   },
   "outputs": [],
   "source": [
    "net = nn.Sequential([nn.Dense(128), CenteredLayer()])"
   ]
  },
  {
   "cell_type": "markdown",
   "id": "a4ef341d",
   "metadata": {
    "origin_pos": 11
   },
   "source": [
    "As an extra sanity check, we can send random data\n",
    "through the network and check that the mean is in fact 0.\n",
    "Because we are dealing with floating point numbers,\n",
    "we may still see a very small nonzero number\n",
    "due to quantization.\n"
   ]
  },
  {
   "cell_type": "code",
   "execution_count": 14,
   "id": "2a7aaa97",
   "metadata": {
    "execution": {
     "iopub.execute_input": "2022-07-13T08:07:29.139541Z",
     "iopub.status.busy": "2022-07-13T08:07:29.139040Z",
     "iopub.status.idle": "2022-07-13T08:07:29.145665Z",
     "shell.execute_reply": "2022-07-13T08:07:29.144882Z"
    },
    "origin_pos": 12,
    "tab": [
     "pytorch"
    ]
   },
   "outputs": [
    {
     "data": {
      "text/plain": [
       "DeviceArray(9.313226e-09, dtype=float32)"
      ]
     },
     "execution_count": 14,
     "metadata": {},
     "output_type": "execute_result"
    }
   ],
   "source": [
    "Y, _ = net.init_with_output(random.PRNGKey(0), random.uniform(random.PRNGKey(1), (4, 8)))\n",
    "Y.mean()"
   ]
  },
  {
   "cell_type": "markdown",
   "id": "cfc1ab6e",
   "metadata": {
    "origin_pos": 14
   },
   "source": [
    "## [**Layers with Parameters**]\n",
    "\n",
    "Now that we know how to define simple layers,\n",
    "let's move on to defining layers with parameters\n",
    "that can be adjusted through training.\n",
    "We can use built-in functions to create parameters, which\n",
    "provide some basic housekeeping functionality.\n",
    "In particular, they govern access, initialization,\n",
    "sharing, saving, and loading model parameters.\n",
    "This way, among other benefits, we will not need to write\n",
    "custom serialization routines for every custom layer.\n",
    "\n",
    "Now let's implement our own version of the  fully connected layer.\n",
    "Recall that this layer requires two parameters,\n",
    "one to represent the weight and the other for the bias.\n",
    "In this implementation, we bake in the ReLU activation as a default.\n",
    "This layer requires two input arguments: `in_units` and `units`, which\n",
    "denote the number of inputs and outputs, respectively.\n"
   ]
  },
  {
   "cell_type": "code",
   "execution_count": 15,
   "id": "2f05170d",
   "metadata": {
    "execution": {
     "iopub.execute_input": "2022-07-13T08:07:29.150350Z",
     "iopub.status.busy": "2022-07-13T08:07:29.149903Z",
     "iopub.status.idle": "2022-07-13T08:07:29.155221Z",
     "shell.execute_reply": "2022-07-13T08:07:29.154402Z"
    },
    "origin_pos": 16,
    "tab": [
     "pytorch"
    ]
   },
   "outputs": [],
   "source": [
    "class MyLinear(nn.Module):\n",
    "    in_units: int\n",
    "    units: int\n",
    "\n",
    "    def setup(self):\n",
    "        self.weight = self.param('weight', lambda key: random.normal(key, (self.in_units, self.units)))\n",
    "        self.bias = self.param('bias', nn.initializers.zeros, (self.units,))\n",
    "\n",
    "    def __call__(self, X):\n",
    "        linear = jnp.matmul(X, self.weight) + self.bias\n",
    "        return nn.relu(linear)"
   ]
  },
  {
   "cell_type": "markdown",
   "id": "14863aa4",
   "metadata": {
    "origin_pos": 19,
    "tab": [
     "pytorch"
    ]
   },
   "source": [
    "Next, we instantiate the `MyLinear` class\n",
    "and access its model parameters.\n"
   ]
  },
  {
   "cell_type": "code",
   "execution_count": 16,
   "id": "c79a3781",
   "metadata": {
    "execution": {
     "iopub.execute_input": "2022-07-13T08:07:29.158867Z",
     "iopub.status.busy": "2022-07-13T08:07:29.158430Z",
     "iopub.status.idle": "2022-07-13T08:07:29.164591Z",
     "shell.execute_reply": "2022-07-13T08:07:29.163812Z"
    },
    "origin_pos": 21,
    "tab": [
     "pytorch"
    ]
   },
   "outputs": [
    {
     "data": {
      "text/plain": [
       "FrozenDict({\n",
       "    params: {\n",
       "        weight: DeviceArray([[ 0.8285992 , -1.5717859 , -0.3770015 ],\n",
       "                     [-2.0587626 ,  0.70451105,  2.4615402 ],\n",
       "                     [-0.23974419,  0.99390113, -0.34960932],\n",
       "                     [ 0.8335171 , -0.3050124 , -0.6148325 ],\n",
       "                     [ 2.6772847 ,  0.6453579 ,  0.5168642 ]], dtype=float32),\n",
       "        bias: DeviceArray([0., 0., 0.], dtype=float32),\n",
       "    },\n",
       "})"
      ]
     },
     "execution_count": 16,
     "metadata": {},
     "output_type": "execute_result"
    }
   ],
   "source": [
    "linear = MyLinear(5, 3)\n",
    "params = linear.init(random.PRNGKey(2), jnp.empty((3, 5)))\n",
    "params"
   ]
  },
  {
   "cell_type": "markdown",
   "id": "68bf8748",
   "metadata": {
    "origin_pos": 23
   },
   "source": [
    "We can [**directly carry out forward propagation calculations using custom layers.**]\n"
   ]
  },
  {
   "cell_type": "code",
   "execution_count": 17,
   "id": "360058ed",
   "metadata": {
    "execution": {
     "iopub.execute_input": "2022-07-13T08:07:29.167993Z",
     "iopub.status.busy": "2022-07-13T08:07:29.167726Z",
     "iopub.status.idle": "2022-07-13T08:07:29.173502Z",
     "shell.execute_reply": "2022-07-13T08:07:29.172718Z"
    },
    "origin_pos": 25,
    "tab": [
     "pytorch"
    ]
   },
   "outputs": [
    {
     "data": {
      "text/plain": [
       "DeviceArray([[2.0675802 , 0.6543792 , 1.042995  ],\n",
       "             [0.        , 1.1468135 , 0.66203034]], dtype=float32)"
      ]
     },
     "execution_count": 17,
     "metadata": {},
     "output_type": "execute_result"
    }
   ],
   "source": [
    "linear.apply(params, random.uniform(random.PRNGKey(3), (2, 5)))"
   ]
  },
  {
   "cell_type": "markdown",
   "id": "6f8932d5",
   "metadata": {
    "origin_pos": 27
   },
   "source": [
    "We can also (**construct models using custom layers.**)\n",
    "Once we have that we can use it just like the built-in fully connected layer.\n"
   ]
  },
  {
   "cell_type": "code",
   "execution_count": 18,
   "id": "4d4d29a7",
   "metadata": {
    "execution": {
     "iopub.execute_input": "2022-07-13T08:07:29.176971Z",
     "iopub.status.busy": "2022-07-13T08:07:29.176428Z",
     "iopub.status.idle": "2022-07-13T08:07:29.182891Z",
     "shell.execute_reply": "2022-07-13T08:07:29.182100Z"
    },
    "origin_pos": 29,
    "tab": [
     "pytorch"
    ]
   },
   "outputs": [
    {
     "data": {
      "text/plain": [
       "DeviceArray([[2.3488579],\n",
       "             [5.0308733]], dtype=float32)"
      ]
     },
     "execution_count": 18,
     "metadata": {},
     "output_type": "execute_result"
    }
   ],
   "source": [
    "net = nn.Sequential([MyLinear(64, 8), MyLinear(8, 1)])\n",
    "output, _ = net.init_with_output(random.PRNGKey(4), random.uniform(random.PRNGKey(5), (2, 64)))\n",
    "output"
   ]
  },
  {
   "cell_type": "markdown",
   "id": "5046e34f",
   "metadata": {
    "origin_pos": 31
   },
   "source": [
    "## Summary\n",
    "\n",
    "* We can design custom layers via the basic layer class. This allows us to define flexible new layers that behave differently from any existing layers in the library.\n",
    "* Once defined, custom layers can be invoked in arbitrary contexts and architectures.\n",
    "* Layers can have local parameters, which can be created through built-in functions.\n",
    "\n",
    "\n",
    "## Exercises\n",
    "\n",
    "1. Design a layer that takes an input and computes a tensor reduction,\n",
    "   i.e., it returns $y_k = \\sum_{i, j} W_{ijk} x_i x_j$.\n",
    "1. Design a layer that returns the leading half of the Fourier coefficients of the data.\n"
   ]
  },
  {
   "cell_type": "markdown",
   "id": "f340ecd2",
   "metadata": {
    "origin_pos": 33,
    "tab": [
     "pytorch"
    ]
   },
   "source": [
    "[Discussions](https://discuss.d2l.ai/t/59)\n"
   ]
  }
 ],
 "metadata": {
  "kernelspec": {
   "display_name": "Python 3.9.13 64-bit",
   "language": "python",
   "name": "python3"
  },
  "language_info": {
   "codemirror_mode": {
    "name": "ipython",
    "version": 3
   },
   "file_extension": ".py",
   "mimetype": "text/x-python",
   "name": "python",
   "nbconvert_exporter": "python",
   "pygments_lexer": "ipython3",
   "version": "3.9.13"
  },
  "vscode": {
   "interpreter": {
    "hash": "626d743d6476408aa1b36c3ff0d1f9d9d03e37c6879626ddfcdd13d658004bbf"
   }
  }
 },
 "nbformat": 4,
 "nbformat_minor": 5
}
