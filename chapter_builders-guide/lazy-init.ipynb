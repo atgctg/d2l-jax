{
 "cells": [
  {
   "cell_type": "markdown",
   "id": "ad8a0d4f",
   "metadata": {},
   "source": [
    "The following additional libraries are needed to run this\n",
    "notebook. Note that running on Colab is experimental, please report a Github\n",
    "issue if you have any problem."
   ]
  },
  {
   "cell_type": "code",
   "execution_count": 1,
   "id": "abf444fa",
   "metadata": {},
   "outputs": [],
   "source": [
    "%%capture\n",
    "\n",
    "import sys\n",
    "sys.path.append('..')\n",
    "import mock_d2l_jax as d2l"
   ]
  },
  {
   "cell_type": "markdown",
   "id": "3d5802f6",
   "metadata": {
    "origin_pos": 0
   },
   "source": [
    "# Lazy Initialization\n",
    ":label:`sec_lazy_init`\n",
    "\n",
    "So far, it might seem that we got away\n",
    "with being sloppy in setting up our networks.\n",
    "Specifically, we did the following unintuitive things,\n",
    "which might not seem like they should work:\n",
    "\n",
    "* We defined the network architectures\n",
    "  without specifying the input dimensionality.\n",
    "* We added layers without specifying\n",
    "  the output dimension of the previous layer.\n",
    "* We even \"initialized\" these parameters\n",
    "  before providing enough information to determine\n",
    "  how many parameters our models should contain.\n",
    "\n",
    "You might be surprised that our code runs at all.\n",
    "After all, there is no way the deep learning framework\n",
    "could tell what the input dimensionality of a network would be.\n",
    "The trick here is that the framework *defers initialization*,\n",
    "waiting until the first time we pass data through the model,\n",
    "to infer the sizes of each layer on the fly.\n",
    "\n",
    "\n",
    "Later on, when working with convolutional neural networks,\n",
    "this technique will become even more convenient\n",
    "since the input dimensionality\n",
    "(i.e., the resolution of an image)\n",
    "will affect the dimensionality\n",
    "of each subsequent layer.\n",
    "Hence, the ability to set parameters\n",
    "without the need to know,\n",
    "at the time of writing the code,\n",
    "what the dimensionality is\n",
    "can greatly simplify the task of specifying\n",
    "and subsequently modifying our models.\n",
    "Next, we go deeper into the mechanics of initialization.\n",
    "\n",
    "\n",
    "To begin, let's instantiate an MLP.\n"
   ]
  },
  {
   "cell_type": "code",
   "execution_count": 2,
   "id": "f2324e72",
   "metadata": {
    "execution": {
     "iopub.execute_input": "2022-07-13T08:17:39.672893Z",
     "iopub.status.busy": "2022-07-13T08:17:39.672291Z",
     "iopub.status.idle": "2022-07-13T08:17:41.573126Z",
     "shell.execute_reply": "2022-07-13T08:17:41.572230Z"
    },
    "origin_pos": 3,
    "tab": [
     "pytorch"
    ]
   },
   "outputs": [],
   "source": [
    "import jax\n",
    "from jax import numpy as jnp, random, grad, vmap, jit\n",
    "import flax.linen as nn\n",
    "# from d2l import jax as d2l\n",
    "\n",
    "net = nn.Sequential([nn.Dense(256), nn.relu, nn.Dense(10)])"
   ]
  },
  {
   "cell_type": "markdown",
   "id": "3f57de6f",
   "metadata": {
    "origin_pos": 5
   },
   "source": [
    "At this point, the network cannot possibly know\n",
    "the dimensions of the input layer's weights\n",
    "because the input dimension remains unknown.\n",
    "Consequently the framework has not yet initialized any parameters.\n",
    "We confirm by attempting to access the parameters below.\n"
   ]
  },
  {
   "cell_type": "code",
   "execution_count": 3,
   "id": "ef2aa8b7",
   "metadata": {
    "execution": {
     "iopub.execute_input": "2022-07-13T08:17:41.577133Z",
     "iopub.status.busy": "2022-07-13T08:17:41.576544Z",
     "iopub.status.idle": "2022-07-13T08:17:41.583971Z",
     "shell.execute_reply": "2022-07-13T08:17:41.583149Z"
    },
    "origin_pos": 7,
    "tab": [
     "pytorch"
    ]
   },
   "outputs": [],
   "source": [
    "# Flax modules are stateless"
   ]
  },
  {
   "cell_type": "markdown",
   "id": "48be5dd8",
   "metadata": {
    "origin_pos": 13
   },
   "source": [
    "Next let's pass data through the network\n",
    "to make the framework finally initialize parameters.\n"
   ]
  },
  {
   "cell_type": "code",
   "execution_count": 4,
   "id": "bc0ed8fe",
   "metadata": {
    "execution": {
     "iopub.execute_input": "2022-07-13T08:17:41.587461Z",
     "iopub.status.busy": "2022-07-13T08:17:41.586863Z",
     "iopub.status.idle": "2022-07-13T08:17:41.613178Z",
     "shell.execute_reply": "2022-07-13T08:17:41.612130Z"
    },
    "origin_pos": 15,
    "tab": [
     "pytorch"
    ]
   },
   "outputs": [
    {
     "name": "stderr",
     "output_type": "stream",
     "text": [
      "WARNING:absl:No GPU/TPU found, falling back to CPU. (Set TF_CPP_MIN_LOG_LEVEL=0 and rerun for more info.)\n"
     ]
    },
    {
     "data": {
      "text/plain": [
       "FrozenDict({\n",
       "    params: {\n",
       "        layers_0: {\n",
       "            bias: (256,),\n",
       "            kernel: (20, 256),\n",
       "        },\n",
       "        layers_2: {\n",
       "            bias: (10,),\n",
       "            kernel: (256, 10),\n",
       "        },\n",
       "    },\n",
       "})"
      ]
     },
     "execution_count": 4,
     "metadata": {},
     "output_type": "execute_result"
    }
   ],
   "source": [
    "params = net.init(random.PRNGKey(1), jnp.empty((2, 20)))\n",
    "jax.tree_map(lambda x: x.shape, params)"
   ]
  },
  {
   "cell_type": "markdown",
   "id": "ac20a802",
   "metadata": {
    "origin_pos": 17
   },
   "source": [
    "As soon as we know the input dimensionality,\n",
    "20,\n",
    "the framework can identify the shape of the first layer's weight matrix by plugging in the value of 20.\n",
    "Having recognized the first layer's shape, the framework proceeds\n",
    "to the second layer,\n",
    "and so on through the computational graph\n",
    "until all shapes are known.\n",
    "Note that in this case,\n",
    "only the first layer requires lazy initialization,\n",
    "but the framework initializes sequentially.\n",
    "Once all parameter shapes are known,\n",
    "the framework can finally initialize the parameters.\n"
   ]
  },
  {
   "cell_type": "markdown",
   "id": "db5e5294",
   "metadata": {
    "origin_pos": 18,
    "tab": [
     "pytorch"
    ]
   },
   "source": [
    "The following method\n",
    "passes in dummy inputs\n",
    "through the network\n",
    "for a dry run\n",
    "to infer all parameter shapes\n",
    "and subsequently initializes the parameters.\n",
    "It will be used later when default random initializations are not desired.\n"
   ]
  },
  {
   "cell_type": "code",
   "execution_count": 5,
   "id": "074516f4",
   "metadata": {
    "execution": {
     "iopub.execute_input": "2022-07-13T08:17:41.616969Z",
     "iopub.status.busy": "2022-07-13T08:17:41.616502Z",
     "iopub.status.idle": "2022-07-13T08:17:41.620990Z",
     "shell.execute_reply": "2022-07-13T08:17:41.620180Z"
    },
    "origin_pos": 19,
    "tab": [
     "pytorch"
    ]
   },
   "outputs": [],
   "source": [
    "# Flax modules already have an init function (which is a special case of apply)\n",
    "\n",
    "# The following init function:\n",
    "# variables = mlp.init(random.PRNGKey(0), x)\n",
    "# is equivalent to the following apply function:\n",
    "# _, variables = mlp.apply({}, x, rngs={\"params\": random.PRNGKey(0)}, mutable=True)"
   ]
  },
  {
   "cell_type": "markdown",
   "id": "23117d1d",
   "metadata": {
    "origin_pos": 20
   },
   "source": [
    "## Summary\n",
    "\n",
    "* Lazy initialization can be convenient, allowing the framework to infer parameter shapes automatically, making it easy to modify architectures and eliminating one common source of errors.\n",
    "* We can pass data through the model to make the framework finally initialize parameters.\n",
    "\n",
    "\n",
    "## Exercises\n",
    "\n",
    "1. What happens if you specify the input dimensions to the first layer but not to subsequent layers? Do you get immediate initialization?\n",
    "1. What happens if you specify mismatching dimensions?\n",
    "1. What would you need to do if you have input of varying dimensionality? Hint: look at the parameter tying.\n"
   ]
  },
  {
   "cell_type": "markdown",
   "id": "fab843ff",
   "metadata": {
    "origin_pos": 22,
    "tab": [
     "pytorch"
    ]
   },
   "source": [
    "[Discussions](https://discuss.d2l.ai/t/8092)\n"
   ]
  }
 ],
 "metadata": {
  "kernelspec": {
   "display_name": "Python 3.9.13 ('base')",
   "language": "python",
   "name": "python3"
  },
  "language_info": {
   "codemirror_mode": {
    "name": "ipython",
    "version": 3
   },
   "file_extension": ".py",
   "mimetype": "text/x-python",
   "name": "python",
   "nbconvert_exporter": "python",
   "pygments_lexer": "ipython3",
   "version": "3.9.13"
  },
  "vscode": {
   "interpreter": {
    "hash": "626d743d6476408aa1b36c3ff0d1f9d9d03e37c6879626ddfcdd13d658004bbf"
   }
  }
 },
 "nbformat": 4,
 "nbformat_minor": 5
}
