{
 "cells": [
  {
   "cell_type": "markdown",
   "id": "76f1f007",
   "metadata": {
    "origin_pos": 0
   },
   "source": [
    "# File I/O\n",
    "\n",
    "So far we discussed how to process data and how\n",
    "to build, train, and test deep learning models.\n",
    "However, at some point, we will hopefully be happy enough\n",
    "with the learned models that we will want\n",
    "to save the results for later use in various contexts\n",
    "(perhaps even to make predictions in deployment).\n",
    "Additionally, when running a long training process,\n",
    "the best practice is to periodically save intermediate results (checkpointing)\n",
    "to ensure that we do not lose several days worth of computation\n",
    "if we trip over the power cord of our server.\n",
    "Thus it is time to learn how to load and store\n",
    "both individual weight vectors and entire models.\n",
    "This section addresses both issues.\n",
    "\n",
    "## (**Loading and Saving Tensors**)\n",
    "\n",
    "For individual tensors, we can directly\n",
    "invoke the `load` and `save` functions\n",
    "to read and write them respectively.\n",
    "Both functions require that we supply a name,\n",
    "and `save` requires as input the variable to be saved.\n"
   ]
  },
  {
   "cell_type": "code",
   "execution_count": null,
   "id": "4a07de7a",
   "metadata": {
    "execution": {
     "iopub.execute_input": "2022-07-13T08:19:24.696933Z",
     "iopub.status.busy": "2022-07-13T08:19:24.696358Z",
     "iopub.status.idle": "2022-07-13T08:19:25.579836Z",
     "shell.execute_reply": "2022-07-13T08:19:25.578537Z"
    },
    "origin_pos": 3,
    "tab": [
     "pytorch"
    ]
   },
   "outputs": [],
   "source": [
    "import jax\n",
    "from jax import numpy as jnp, random, grad, vmap, jit\n",
    "import flax.linen as nn\n",
    "\n",
    "x = jnp.arange(4)\n",
    "jnp.save('x-file.npy', x)"
   ]
  },
  {
   "cell_type": "markdown",
   "id": "2eb31969",
   "metadata": {
    "origin_pos": 5
   },
   "source": [
    "We can now read the data from the stored file back into memory.\n"
   ]
  },
  {
   "cell_type": "code",
   "execution_count": 2,
   "id": "9db5e0aa",
   "metadata": {
    "execution": {
     "iopub.execute_input": "2022-07-13T08:19:25.609042Z",
     "iopub.status.busy": "2022-07-13T08:19:25.608343Z",
     "iopub.status.idle": "2022-07-13T08:19:25.621905Z",
     "shell.execute_reply": "2022-07-13T08:19:25.620766Z"
    },
    "origin_pos": 7,
    "tab": [
     "pytorch"
    ]
   },
   "outputs": [
    {
     "data": {
      "text/plain": [
       "DeviceArray([0, 1, 2, 3], dtype=int32)"
      ]
     },
     "execution_count": 2,
     "metadata": {},
     "output_type": "execute_result"
    }
   ],
   "source": [
    "x2 = jnp.load('x-file.npy')\n",
    "x2"
   ]
  },
  {
   "cell_type": "markdown",
   "id": "ffd2d6a8",
   "metadata": {
    "origin_pos": 9
   },
   "source": [
    "We can [**store a list of tensors and read them back into memory.**]\n"
   ]
  },
  {
   "cell_type": "code",
   "execution_count": 3,
   "id": "ab848dae",
   "metadata": {
    "execution": {
     "iopub.execute_input": "2022-07-13T08:19:25.625595Z",
     "iopub.status.busy": "2022-07-13T08:19:25.625116Z",
     "iopub.status.idle": "2022-07-13T08:19:25.634052Z",
     "shell.execute_reply": "2022-07-13T08:19:25.632931Z"
    },
    "origin_pos": 11,
    "tab": [
     "pytorch"
    ]
   },
   "outputs": [
    {
     "data": {
      "text/plain": [
       "(DeviceArray([0., 1., 2., 3.], dtype=float32),\n",
       " DeviceArray([0., 0., 0., 0.], dtype=float32))"
      ]
     },
     "execution_count": 3,
     "metadata": {},
     "output_type": "execute_result"
    }
   ],
   "source": [
    "y = jnp.zeros(4)\n",
    "jnp.save('x-files.npy', [x, y])\n",
    "x2, y2 = jnp.load('x-files.npy')\n",
    "(x2, y2)"
   ]
  },
  {
   "cell_type": "markdown",
   "id": "1fa2140e",
   "metadata": {
    "origin_pos": 13
   },
   "source": [
    "We can even [**write and read a dictionary that maps\n",
    "from strings to tensors.**]\n",
    "This is convenient when we want\n",
    "to read or write all the weights in a model.\n"
   ]
  },
  {
   "cell_type": "code",
   "execution_count": 4,
   "id": "63461b76",
   "metadata": {
    "execution": {
     "iopub.execute_input": "2022-07-13T08:19:25.637696Z",
     "iopub.status.busy": "2022-07-13T08:19:25.637216Z",
     "iopub.status.idle": "2022-07-13T08:19:25.645853Z",
     "shell.execute_reply": "2022-07-13T08:19:25.644717Z"
    },
    "origin_pos": 15,
    "tab": [
     "pytorch"
    ]
   },
   "outputs": [
    {
     "data": {
      "text/plain": [
       "array({'x': array([0, 1, 2, 3], dtype=int32), 'y': array([0., 0., 0., 0.], dtype=float32)},\n",
       "      dtype=object)"
      ]
     },
     "execution_count": 4,
     "metadata": {},
     "output_type": "execute_result"
    }
   ],
   "source": [
    "mydict = {'x': x, 'y': y}\n",
    "jnp.save('mydict.npy', mydict)\n",
    "mydict2 = jnp.load('mydict.npy', allow_pickle=True)\n",
    "mydict2"
   ]
  },
  {
   "cell_type": "markdown",
   "id": "9575fe54",
   "metadata": {
    "origin_pos": 17
   },
   "source": [
    "## [**Loading and Saving Model Parameters**]\n",
    "\n",
    "Saving individual weight vectors (or other tensors) is useful,\n",
    "but it gets very tedious if we want to save\n",
    "(and later load) an entire model.\n",
    "After all, we might have hundreds of\n",
    "parameter groups sprinkled throughout.\n",
    "For this reason the deep learning framework provides built-in functionalities\n",
    "to load and save entire networks.\n",
    "An important detail to note is that this\n",
    "saves model *parameters* and not the entire model.\n",
    "For example, if we have a 3-layer MLP,\n",
    "we need to specify the architecture separately.\n",
    "The reason for this is that the models themselves can contain arbitrary code,\n",
    "hence they cannot be serialized as naturally.\n",
    "Thus, in order to reinstate a model, we need\n",
    "to generate the architecture in code\n",
    "and then load the parameters from disk.\n",
    "(**Let's start with our familiar MLP.**)\n"
   ]
  },
  {
   "cell_type": "code",
   "execution_count": 5,
   "id": "14bae063",
   "metadata": {
    "execution": {
     "iopub.execute_input": "2022-07-13T08:19:25.651244Z",
     "iopub.status.busy": "2022-07-13T08:19:25.650347Z",
     "iopub.status.idle": "2022-07-13T08:19:25.659809Z",
     "shell.execute_reply": "2022-07-13T08:19:25.658602Z"
    },
    "origin_pos": 19,
    "tab": [
     "pytorch"
    ]
   },
   "outputs": [],
   "source": [
    "class MLP(nn.Module):\n",
    "    def setup(self):\n",
    "        self.hidden = nn.Dense(256)\n",
    "        self.output = nn.Dense(10)\n",
    "\n",
    "    def __call__(self, x):\n",
    "        return self.output(nn.relu(self.hidden(x)))\n",
    "\n",
    "net = MLP()\n",
    "X = random.normal(random.PRNGKey(0), (2, 20))\n",
    "Y, params = net.init_with_output(random.PRNGKey(1), X)"
   ]
  },
  {
   "cell_type": "markdown",
   "id": "609e4d4e",
   "metadata": {
    "origin_pos": 21
   },
   "source": [
    "Next, we [**store the parameters of the model as a file**] with the name \"mlp.params\".\n"
   ]
  },
  {
   "cell_type": "code",
   "execution_count": 6,
   "id": "975d035b",
   "metadata": {},
   "outputs": [
    {
     "data": {
      "text/plain": [
       "'mlp_params/checkpoint_0'"
      ]
     },
     "execution_count": 6,
     "metadata": {},
     "output_type": "execute_result"
    }
   ],
   "source": [
    "from flax.training.checkpoints import save_checkpoint, restore_checkpoint\n",
    "from flax.core import freeze\n",
    "\n",
    "save_checkpoint('mlp_params', params, 0)"
   ]
  },
  {
   "cell_type": "markdown",
   "id": "496273cb",
   "metadata": {
    "origin_pos": 25
   },
   "source": [
    "To recover the model, we instantiate a clone\n",
    "of the original MLP model.\n",
    "Instead of randomly initializing the model parameters,\n",
    "we [**read the parameters stored in the file directly**].\n"
   ]
  },
  {
   "cell_type": "code",
   "execution_count": 7,
   "id": "8421e757",
   "metadata": {
    "execution": {
     "iopub.execute_input": "2022-07-13T08:19:25.672064Z",
     "iopub.status.busy": "2022-07-13T08:19:25.671789Z",
     "iopub.status.idle": "2022-07-13T08:19:25.680444Z",
     "shell.execute_reply": "2022-07-13T08:19:25.679332Z"
    },
    "origin_pos": 27,
    "tab": [
     "pytorch"
    ]
   },
   "outputs": [
    {
     "data": {
      "text/plain": [
       "DeviceArray([[-1.1693141 , -1.2625268 , -2.3005853 , -0.9242691 ,\n",
       "              -0.30702236, -0.16933411, -0.31483316,  0.45845827,\n",
       "               1.6970788 ,  1.0127772 ],\n",
       "             [ 0.03542616, -0.84426767, -0.21113443,  0.14443043,\n",
       "              -0.14710853,  0.8179672 ,  0.3206129 , -0.847585  ,\n",
       "               0.94747   ,  0.8188463 ]], dtype=float32)"
      ]
     },
     "execution_count": 7,
     "metadata": {},
     "output_type": "execute_result"
    }
   ],
   "source": [
    "restored_params = freeze(restore_checkpoint('mlp_params', target=None))\n",
    "\n",
    "clone = MLP()\n",
    "net.apply(restored_params, X)"
   ]
  },
  {
   "cell_type": "markdown",
   "id": "b62f92bc",
   "metadata": {
    "origin_pos": 29
   },
   "source": [
    "Since both instances have the same model parameters,\n",
    "the computational result of the same input `X` should be the same.\n",
    "Let's verify this.\n"
   ]
  },
  {
   "cell_type": "code",
   "execution_count": 8,
   "id": "8da3383c",
   "metadata": {
    "execution": {
     "iopub.execute_input": "2022-07-13T08:19:25.684020Z",
     "iopub.status.busy": "2022-07-13T08:19:25.683562Z",
     "iopub.status.idle": "2022-07-13T08:19:25.691742Z",
     "shell.execute_reply": "2022-07-13T08:19:25.690631Z"
    },
    "origin_pos": 30,
    "tab": [
     "pytorch"
    ]
   },
   "outputs": [
    {
     "data": {
      "text/plain": [
       "DeviceArray([[ True,  True,  True,  True,  True,  True,  True,  True,\n",
       "               True,  True],\n",
       "             [ True,  True,  True,  True,  True,  True,  True,  True,\n",
       "               True,  True]], dtype=bool)"
      ]
     },
     "execution_count": 8,
     "metadata": {},
     "output_type": "execute_result"
    }
   ],
   "source": [
    "# check if params are the same\n",
    "assert jax.tree_util.tree_all(jax.tree_map(lambda x, y: (x == y).all(), params, restored_params))\n",
    "\n",
    "net.apply(restored_params, X) == net.apply(params, X)"
   ]
  },
  {
   "cell_type": "markdown",
   "id": "8d31e44a",
   "metadata": {
    "origin_pos": 31
   },
   "source": [
    "## Summary\n",
    "\n",
    "* The `save` and `load` functions can be used to perform file I/O for tensor objects.\n",
    "* We can save and load the entire sets of parameters for a network via a parameter dictionary.\n",
    "* Saving the architecture has to be done in code rather than in parameters.\n",
    "\n",
    "## Exercises\n",
    "\n",
    "1. Even if there is no need to deploy trained models to a different device, what are the practical benefits of storing model parameters?\n",
    "1. Assume that we want to reuse only parts of a network to be incorporated into a network of a different architecture. How would you go about using, say the first two layers from a previous network in a new network?\n",
    "1. How would you go about saving the network architecture and parameters? What restrictions would you impose on the architecture?\n"
   ]
  },
  {
   "cell_type": "markdown",
   "id": "4bd88f84",
   "metadata": {
    "origin_pos": 33,
    "tab": [
     "pytorch"
    ]
   },
   "source": [
    "[Discussions](https://discuss.d2l.ai/t/61)\n"
   ]
  }
 ],
 "metadata": {
  "kernelspec": {
   "display_name": "Python 3.9.13 64-bit",
   "language": "python",
   "name": "python3"
  },
  "language_info": {
   "codemirror_mode": {
    "name": "ipython",
    "version": 3
   },
   "file_extension": ".py",
   "mimetype": "text/x-python",
   "name": "python",
   "nbconvert_exporter": "python",
   "pygments_lexer": "ipython3",
   "version": "3.9.13"
  },
  "vscode": {
   "interpreter": {
    "hash": "626d743d6476408aa1b36c3ff0d1f9d9d03e37c6879626ddfcdd13d658004bbf"
   }
  }
 },
 "nbformat": 4,
 "nbformat_minor": 5
}
