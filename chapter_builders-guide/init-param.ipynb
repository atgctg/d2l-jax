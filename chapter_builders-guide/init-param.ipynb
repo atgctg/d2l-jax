{
 "cells": [
  {
   "cell_type": "markdown",
   "id": "dbef8828",
   "metadata": {
    "origin_pos": 0
   },
   "source": [
    "# Parameter Initialization\n",
    "\n",
    "Now that we know how to access the parameters,\n",
    "let's look at how to initialize them properly.\n",
    "We discussed the need for proper initialization in :numref:`sec_numerical_stability`.\n",
    "The deep learning framework provides default random initializations to its layers.\n",
    "However, we often want to initialize our weights\n",
    "according to various other protocols. The framework provides most commonly\n",
    "used protocols, and also allows to create a custom initializer.\n"
   ]
  },
  {
   "cell_type": "markdown",
   "id": "ad762cbe",
   "metadata": {
    "origin_pos": 2,
    "tab": [
     "pytorch"
    ]
   },
   "source": [
    "By default, PyTorch initializes weight and bias matrices\n",
    "uniformly by drawing from a range that is computed according to the input and output dimension.\n",
    "PyTorch's `nn.init` module provides a variety\n",
    "of preset initialization methods.\n"
   ]
  },
  {
   "cell_type": "code",
   "execution_count": null,
   "id": "a7e488eb",
   "metadata": {
    "attributes": {
     "classes": [],
     "id": "",
     "n": "3"
    },
    "execution": {
     "iopub.execute_input": "2022-07-13T08:15:42.569973Z",
     "iopub.status.busy": "2022-07-13T08:15:42.569094Z",
     "iopub.status.idle": "2022-07-13T08:15:43.481482Z",
     "shell.execute_reply": "2022-07-13T08:15:43.480604Z"
    },
    "origin_pos": 6,
    "tab": [
     "pytorch"
    ]
   },
   "outputs": [],
   "source": [
    "import jax\n",
    "from jax import numpy as jnp, random, grad, vmap, jit\n",
    "import flax.linen as nn\n",
    "\n",
    "net = nn.Sequential([nn.Dense(8), nn.relu, nn.Dense(1)])\n",
    "X = random.uniform(random.PRNGKey(0), (2, 4))\n",
    "output, params = net.init_with_output(random.PRNGKey(1), X)\n",
    "output.shape"
   ]
  },
  {
   "cell_type": "markdown",
   "id": "e0e62270",
   "metadata": {
    "origin_pos": 8
   },
   "source": [
    "## [**Built-in Initialization**]\n",
    "\n",
    "Let's begin by calling on built-in initializers.\n",
    "The code below initializes all weight parameters\n",
    "as Gaussian random variables\n",
    "with standard deviation 0.01, while bias parameters cleared to zero.\n"
   ]
  },
  {
   "cell_type": "code",
   "execution_count": 2,
   "id": "7c39018f",
   "metadata": {
    "attributes": {
     "classes": [],
     "id": "",
     "n": "6"
    },
    "execution": {
     "iopub.execute_input": "2022-07-13T08:15:43.486073Z",
     "iopub.status.busy": "2022-07-13T08:15:43.485512Z",
     "iopub.status.idle": "2022-07-13T08:15:43.494149Z",
     "shell.execute_reply": "2022-07-13T08:15:43.493294Z"
    },
    "origin_pos": 10,
    "tab": [
     "pytorch"
    ]
   },
   "outputs": [
    {
     "data": {
      "text/plain": [
       "(DeviceArray([-6.9597606e-03, -7.1280561e-03, -5.9801121e-05,\n",
       "               1.4234671e-02,  5.1514809e-03,  2.1050077e-02,\n",
       "              -4.5213206e-03, -4.1506551e-03], dtype=float32),\n",
       " DeviceArray(0., dtype=float32))"
      ]
     },
     "execution_count": 2,
     "metadata": {},
     "output_type": "execute_result"
    }
   ],
   "source": [
    "from functools import partial\n",
    "\n",
    "DenseInit = partial(nn.Dense,\n",
    "                    kernel_init=nn.initializers.normal(0.01),\n",
    "                    bias_init=nn.initializers.zeros)\n",
    "\n",
    "net = nn.Sequential([DenseInit(8), nn.relu, DenseInit(1)])\n",
    "output, params = net.init_with_output(random.PRNGKey(2), X)\n",
    "params['params']['layers_0']['kernel'][0], params['params']['layers_0']['bias'][0]"
   ]
  },
  {
   "cell_type": "markdown",
   "id": "7c000844",
   "metadata": {
    "origin_pos": 12
   },
   "source": [
    "We can also initialize all the parameters\n",
    "to a given constant value (say, 1).\n"
   ]
  },
  {
   "cell_type": "code",
   "execution_count": 3,
   "id": "4f9642c5",
   "metadata": {
    "attributes": {
     "classes": [],
     "id": "",
     "n": "9"
    },
    "execution": {
     "iopub.execute_input": "2022-07-13T08:15:43.498352Z",
     "iopub.status.busy": "2022-07-13T08:15:43.497449Z",
     "iopub.status.idle": "2022-07-13T08:15:43.506540Z",
     "shell.execute_reply": "2022-07-13T08:15:43.505430Z"
    },
    "origin_pos": 14,
    "tab": [
     "pytorch"
    ]
   },
   "outputs": [
    {
     "data": {
      "text/plain": [
       "(DeviceArray([1., 1., 1., 1., 1., 1., 1., 1.], dtype=float32),\n",
       " DeviceArray(0., dtype=float32))"
      ]
     },
     "execution_count": 3,
     "metadata": {},
     "output_type": "execute_result"
    }
   ],
   "source": [
    "DenseConstant = partial(nn.Dense,\n",
    "                        kernel_init=nn.initializers.constant(1),\n",
    "                        bias_init=nn.initializers.zeros)\n",
    "\n",
    "net = nn.Sequential([DenseConstant(8), nn.relu, DenseConstant(1)])\n",
    "output, params = net.init_with_output(random.PRNGKey(3), X)\n",
    "params['params']['layers_0']['kernel'][0], params['params']['layers_0']['bias'][0]"
   ]
  },
  {
   "cell_type": "markdown",
   "id": "c2faac8f",
   "metadata": {
    "origin_pos": 16
   },
   "source": [
    "[**We can also apply different initializers for certain blocks.**]\n",
    "For example, below we initialize the first layer\n",
    "with the Xavier initializer\n",
    "and initialize the second layer\n",
    "to a constant value of 42.\n"
   ]
  },
  {
   "cell_type": "code",
   "execution_count": 4,
   "id": "67e31e56",
   "metadata": {
    "attributes": {
     "classes": [],
     "id": "",
     "n": "12"
    },
    "execution": {
     "iopub.execute_input": "2022-07-13T08:15:43.510706Z",
     "iopub.status.busy": "2022-07-13T08:15:43.509894Z",
     "iopub.status.idle": "2022-07-13T08:15:43.520470Z",
     "shell.execute_reply": "2022-07-13T08:15:43.519281Z"
    },
    "origin_pos": 18,
    "tab": [
     "pytorch"
    ]
   },
   "outputs": [
    {
     "name": "stdout",
     "output_type": "stream",
     "text": [
      "[ 0.6330256   0.31407022 -0.6485304   0.6649149  -0.2651401   0.05750887\n",
      "  0.3933842   0.5046952 ]\n",
      "[42. 42. 42. 42. 42. 42. 42. 42.]\n"
     ]
    }
   ],
   "source": [
    "net = nn.Sequential([nn.Dense(8, kernel_init=nn.initializers.xavier_uniform()),\n",
    "                     nn.relu,\n",
    "                     nn.Dense(8, kernel_init=nn.initializers.constant(42))])\n",
    "\n",
    "params = net.init(random.PRNGKey(4), X)\n",
    "\n",
    "print(params['params']['layers_0']['kernel'][0])\n",
    "print(params['params']['layers_2']['kernel'][0])"
   ]
  },
  {
   "cell_type": "markdown",
   "id": "a1257d2e",
   "metadata": {
    "origin_pos": 20
   },
   "source": [
    "### [**Custom Initialization**]\n",
    "\n",
    "Sometimes, the initialization methods we need\n",
    "are not provided by the deep learning framework.\n",
    "In the example below, we define an initializer\n",
    "for any weight parameter $w$ using the following strange distribution:\n",
    "\n",
    "$$\n",
    "\\begin{aligned}\n",
    "    w \\sim \\begin{cases}\n",
    "        U(5, 10) & \\text{ with probability } \\frac{1}{4} \\\\\n",
    "            0    & \\text{ with probability } \\frac{1}{2} \\\\\n",
    "        U(-10, -5) & \\text{ with probability } \\frac{1}{4}\n",
    "    \\end{cases}\n",
    "\\end{aligned}\n",
    "$$\n"
   ]
  },
  {
   "cell_type": "markdown",
   "id": "4b8868c1",
   "metadata": {
    "origin_pos": 22,
    "tab": [
     "pytorch"
    ]
   },
   "source": [
    "Again, we implement a `my_init` function to apply to `net`.\n"
   ]
  },
  {
   "cell_type": "code",
   "execution_count": 5,
   "id": "4d26766a",
   "metadata": {},
   "outputs": [
    {
     "name": "stdout",
     "output_type": "stream",
     "text": [
      "Init (4, 4) <class 'jax.numpy.float32'>\n"
     ]
    },
    {
     "data": {
      "text/plain": [
       "DeviceArray([[-0.       , -0.       , -9.521742 , -7.9924726],\n",
       "             [ 8.898151 , -0.       , -0.       ,  9.311113 ]],            dtype=float32)"
      ]
     },
     "execution_count": 5,
     "metadata": {},
     "output_type": "execute_result"
    }
   ],
   "source": [
    "def my_init(key, shape, dtype):\n",
    "    print('Init', shape, dtype)\n",
    "    data = random.uniform(key, shape, minval=-10, maxval=10)\n",
    "    factor = (jnp.abs(data) >= 5).astype(dtype)\n",
    "    return data * factor\n",
    "\n",
    "net = nn.Sequential([nn.Dense(4, kernel_init=my_init), nn.relu, nn.Dense(1)])\n",
    "params = net.init(random.PRNGKey(5), X)\n",
    "params['params']['layers_0']['kernel'][:2]"
   ]
  },
  {
   "cell_type": "markdown",
   "id": "f51f663d",
   "metadata": {
    "origin_pos": 27
   },
   "source": [
    "Note that we always have the option\n",
    "of setting parameters directly.\n"
   ]
  },
  {
   "cell_type": "code",
   "execution_count": 6,
   "id": "730da8fb",
   "metadata": {
    "attributes": {
     "classes": [],
     "id": "",
     "n": "18"
    },
    "execution": {
     "iopub.execute_input": "2022-07-13T08:15:43.537455Z",
     "iopub.status.busy": "2022-07-13T08:15:43.537155Z",
     "iopub.status.idle": "2022-07-13T08:15:43.545621Z",
     "shell.execute_reply": "2022-07-13T08:15:43.544453Z"
    },
    "origin_pos": 29,
    "tab": [
     "pytorch"
    ]
   },
   "outputs": [
    {
     "data": {
      "text/plain": [
       "DeviceArray([[42.       ,  1.       , -8.521742 , -6.9924726],\n",
       "             [ 9.898151 ,  1.       ,  1.       , 10.311113 ],\n",
       "             [ 1.       ,  1.       ,  1.       ,  1.       ],\n",
       "             [-5.4702964,  1.       , 10.669337 ,  8.386413 ]],            dtype=float32)"
      ]
     },
     "execution_count": 6,
     "metadata": {},
     "output_type": "execute_result"
    }
   ],
   "source": [
    "from flax.core import unfreeze, freeze\n",
    "\n",
    "params = unfreeze(params)\n",
    "kernel = params['params']['layers_0']['kernel']\n",
    "kernel = kernel.at[:].add(1)\n",
    "kernel = kernel.at[0, 0].set(42)\n",
    "\n",
    "params['params']['layers_0']['kernel'] = kernel\n",
    "params = freeze(params)\n",
    "\n",
    "params['params']['layers_0']['kernel']"
   ]
  },
  {
   "cell_type": "markdown",
   "id": "597dc732",
   "metadata": {
    "origin_pos": 31
   },
   "source": [
    "## Summary\n",
    "\n",
    "We can initialize parameters using built-in and custom initializers.\n",
    "\n",
    "## Exercises\n",
    "\n",
    "Look up the online documentation for more built-in initializers.\n"
   ]
  },
  {
   "cell_type": "markdown",
   "id": "2080b2e2",
   "metadata": {
    "origin_pos": 33,
    "tab": [
     "pytorch"
    ]
   },
   "source": [
    "[Discussions](https://discuss.d2l.ai/t/8090)\n"
   ]
  }
 ],
 "metadata": {
  "kernelspec": {
   "display_name": "Python 3.9.13 ('base')",
   "language": "python",
   "name": "python3"
  },
  "language_info": {
   "codemirror_mode": {
    "name": "ipython",
    "version": 3
   },
   "file_extension": ".py",
   "mimetype": "text/x-python",
   "name": "python",
   "nbconvert_exporter": "python",
   "pygments_lexer": "ipython3",
   "version": "3.9.13"
  },
  "vscode": {
   "interpreter": {
    "hash": "626d743d6476408aa1b36c3ff0d1f9d9d03e37c6879626ddfcdd13d658004bbf"
   }
  }
 },
 "nbformat": 4,
 "nbformat_minor": 5
}
