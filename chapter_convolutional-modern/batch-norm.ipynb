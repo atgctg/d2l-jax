{
 "cells": [
  {
   "cell_type": "markdown",
   "id": "39f9a99e",
   "metadata": {},
   "source": [
    "The following additional libraries are needed to run this\n",
    "notebook. Note that running on Colab is experimental, please report a Github\n",
    "issue if you have any problem."
   ]
  },
  {
   "cell_type": "code",
   "execution_count": 1,
   "id": "54feae21",
   "metadata": {},
   "outputs": [],
   "source": [
    "%%capture\n",
    "\n",
    "import sys\n",
    "sys.path.append('..')\n",
    "import mock_d2l_jax as d2l"
   ]
  },
  {
   "cell_type": "markdown",
   "id": "ab0f5aa4",
   "metadata": {
    "origin_pos": 1
   },
   "source": [
    "# Batch Normalization\n",
    ":label:`sec_batch_norm`\n",
    "\n",
    "Training deep neural networks is difficult.\n",
    "Getting them to converge in a reasonable amount of time can be tricky.\n",
    "In this section, we describe *batch normalization*, a popular and effective technique\n",
    "that consistently accelerates the convergence of deep networks :cite:`Ioffe.Szegedy.2015`.\n",
    "Together with residual blocks---covered later in :numref:`sec_resnet`---batch normalization\n",
    "has made it possible for practitioners to routinely train networks with over 100 layers.\n",
    "A secondary (serendipitous) benefit of batch normalization is its inherent regularization. \n",
    "\n",
    "## Training Deep Networks\n",
    "\n",
    "When working with data, we often preprocess before training. \n",
    "Choices regarding data preprocessing often make an enormous difference in the final results.\n",
    "Recall our application of MLPs to predicting house prices (:numref:`sec_kaggle_house`).\n",
    "Our first step when working with real data\n",
    "was to standardize our input features to have \n",
    "zero mean $\\mathbf{\\mu} = 0$ and unit variance $\\mathbf{\\Sigma} = \\mathbf{1}$ across multiple observations :cite:`friedman1987exploratory`.\n",
    "At a mimimum, one frequently rescales it such that the diagonal is unity, i.e., $\\Sigma_{ii} = 1$. \n",
    "Yet another strategy is to rescale vectors to unit length, possibly zero mean *per observation*. \n",
    "This can work well, e.g., for spatial sensor data. These preprocessing techniques and many more are \n",
    "beneficial to keep the estimation problem well controlled. See e.g., the articles in :cite:`guyon2008feature` for a review of feature selection and extraction techniques.\n",
    "\n",
    "Intuitively, this standardization plays nicely with our optimizers\n",
    "since it puts the parameters *a priori* at a similar scale.\n",
    "As such, it is only natural to ask whether a corresponding normalization step *inside* a deep network\n",
    "might not be beneficial. While this isn't quite the reasoning that led to the invention of batch normalization :cite:`Ioffe.Szegedy.2015`, it is a useful way of understanding it and its cousin, layer normalization :cite:`Ba.Kiros.Hinton.2016` within a unified framework. \n",
    "\n",
    "Second, for a typical MLP or CNN, as we train,\n",
    "the variables (e.g., affine transformation outputs in MLP)\n",
    "in intermediate layers \n",
    "may take values with widely varying magnitudes:\n",
    "both along the layers from the input to the output, across units in the same layer,\n",
    "and over time due to our updates to the model parameters.\n",
    "The inventors of batch normalization postulated informally\n",
    "that this drift in the distribution of such variables could hamper the convergence of the network.\n",
    "Intuitively, we might conjecture that if one\n",
    "layer has variable activations that are 100 times that of another layer,\n",
    "this might necessitate compensatory adjustments in the learning rates. Adaptive solvers \n",
    "such as AdaGrad :cite:`Duchi.Hazan.Singer.2011`, Adam :cite:`Kingma.Ba.2014`, and Yogi :cite:`Zaheer.Reddi.Sachan.ea.2018` aim to address this from the viewpoint of optimization. \n",
    "The alternative is to prevent the problem from occurring, simply by adaptive normalization.\n",
    "   \n",
    "Third, deeper networks are complex and tend to be more easily capable of overfitting.\n",
    "This means that regularization becomes more critical. A common technique for regularization is noise \n",
    "injection. This has been known for a long time, e.g., with regard to noise injection for the \n",
    "inputs :cite:`Bishop.1995`. It also forms the basis of dropout :numref:`sec_dropout`. As it turns out, quite serendipitously, batch normalization conveys all three benefits: preprocessing, numerical stability, and regularization. \n",
    "\n",
    "Batch normalization is applied to individual layers, or optionally, to all of them:\n",
    "In each training iteration,\n",
    "we first normalize the inputs (of batch normalization)\n",
    "by subtracting their mean and\n",
    "dividing by their standard deviation,\n",
    "where both are estimated based on the statistics of the current minibatch.\n",
    "Next, we apply a scale coefficient and an offset to recover the lost degrees \n",
    "of freedom. It is precisely due to this *normalization* based on *batch* statistics\n",
    "that *batch normalization* derives its name.\n",
    "\n",
    "Note that if we tried to apply batch normalization with minibatches of size 1,\n",
    "we would not be able to learn anything.\n",
    "That is because after subtracting the means,\n",
    "each hidden unit would take value 0.\n",
    "As you might guess, since we are devoting a whole section to batch normalization,\n",
    "with large enough minibatches, the approach proves effective and stable.\n",
    "One takeaway here is that when applying batch normalization,\n",
    "the choice of batch size is\n",
    "even more significant than without batch normalization, or at least, \n",
    "suitable calibration is needed as we might adjust it.\n",
    "\n",
    "Formally, denoting by $\\mathbf{x} \\in \\mathcal{B}$ an input to batch normalization ($\\mathrm{BN}$)\n",
    "that is from a minibatch $\\mathcal{B}$,\n",
    "batch normalization transforms $\\mathbf{x}$\n",
    "according to the following expression:\n",
    "\n",
    "$$\\mathrm{BN}(\\mathbf{x}) = \\boldsymbol{\\gamma} \\odot \\frac{\\mathbf{x} - \\hat{\\boldsymbol{\\mu}}_\\mathcal{B}}{\\hat{\\boldsymbol{\\sigma}}_\\mathcal{B}} + \\boldsymbol{\\beta}.$$\n",
    ":eqlabel:`eq_batchnorm`\n",
    "\n",
    "In :eqref:`eq_batchnorm`,\n",
    "$\\hat{\\boldsymbol{\\mu}}_\\mathcal{B}$ is the  sample mean\n",
    "and $\\hat{\\boldsymbol{\\sigma}}_\\mathcal{B}$ is the sample standard deviation of the minibatch $\\mathcal{B}$.\n",
    "After applying standardization,\n",
    "the resulting minibatch\n",
    "has zero mean and unit variance. \n",
    "The choice of unit variance\n",
    "(vs. some other magic number) is an arbitrary choice. We recover this degree of freedom\n",
    "by including an elementwise\n",
    "*scale parameter* $\\boldsymbol{\\gamma}$ and *shift parameter* $\\boldsymbol{\\beta}$\n",
    "that have the same shape as $\\mathbf{x}$. Both are parameters that \n",
    "need to be learned as part of model training.\n",
    "\n",
    "Consequently, the variable magnitudes\n",
    "for intermediate layers cannot diverge during training\n",
    "because batch normalization actively centers and rescales them back\n",
    "to a given mean and size (via $\\hat{\\boldsymbol{\\mu}}_\\mathcal{B}$ and ${\\hat{\\boldsymbol{\\sigma}}_\\mathcal{B}}$).\n",
    "Practical experience confirms that, as alluded when discussing feature rescaling, batch normalization seems to allow for more aggressive learning rates.\n",
    "Formally, \n",
    "we calculate $\\hat{\\boldsymbol{\\mu}}_\\mathcal{B}$ and ${\\hat{\\boldsymbol{\\sigma}}_\\mathcal{B}}$ in :eqref:`eq_batchnorm` as follows:\n",
    "\n",
    "$$\\hat{\\boldsymbol{\\mu}}_\\mathcal{B} = \\frac{1}{|\\mathcal{B}|} \\sum_{\\mathbf{x} \\in \\mathcal{B}} \\mathbf{x}\n",
    "\\text{ and }\n",
    "\\hat{\\boldsymbol{\\sigma}}_\\mathcal{B}^2 = \\frac{1}{|\\mathcal{B}|} \\sum_{\\mathbf{x} \\in \\mathcal{B}} (\\mathbf{x} - \\hat{\\boldsymbol{\\mu}}_{\\mathcal{B}})^2 + \\epsilon.$$\n",
    "\n",
    "Note that we add a small constant $\\epsilon > 0$\n",
    "to the variance estimate\n",
    "to ensure that we never attempt division by zero,\n",
    "even in cases where the empirical variance estimate might be very small or even vanish, leading to a division by zero.\n",
    "The estimates $\\hat{\\boldsymbol{\\mu}}_\\mathcal{B}$ and ${\\hat{\\boldsymbol{\\sigma}}_\\mathcal{B}}$ counteract the scaling issue\n",
    "by using noisy estimates of mean and variance.\n",
    "You might think that this noisiness should be a problem.\n",
    "As it turns out, this is actually beneficial.\n",
    "\n",
    "This turns out to be a recurring theme in deep learning.\n",
    "For reasons that are not yet well-characterized theoretically,\n",
    "various sources of noise in optimization\n",
    "often lead to faster training and less overfitting:\n",
    "this variation appears to act as a form of regularization.\n",
    ":cite:`Teye.Azizpour.Smith.2018` and :cite:`Luo.Wang.Shao.ea.2018`\n",
    "relate the properties of batch normalization to Bayesian priors and penalties respectively.\n",
    "In particular, this sheds some light on the puzzle\n",
    "of why batch normalization works best for moderate minibatches sizes in the $50 \\sim 100$ range. \n",
    "This particular size of minibatch seems to inject just the \"right amount\" of noise per layer: a \n",
    "larger minibatch regularizes less due to the more stable estimates, whereas tiny minibatches \n",
    "destroy useful signal due to high variance. Exploring this direction further, considering alternative types \n",
    "of preprocessing and filtering may yet lead to other effective types of regularization. \n",
    "\n",
    "Fixing a trained model, you might think\n",
    "that we would prefer using the entire dataset\n",
    "to estimate the mean and variance.\n",
    "Once training is complete, why would we want\n",
    "the same image to be classified differently,\n",
    "depending on the batch in which it happens to reside?\n",
    "During training, such exact calculation is infeasible\n",
    "because the intermediate variables\n",
    "for all data examples\n",
    "change every time we update our model.\n",
    "However, once the model is trained,\n",
    "we can calculate the means and variances\n",
    "of each layer's variables based on the entire dataset.\n",
    "Indeed this is standard practice for\n",
    "models employing batch normalization\n",
    "and thus batch normalization layers function differently\n",
    "in *training mode* (normalizing by minibatch statistics)\n",
    "and in *prediction mode* (normalizing by dataset statistics). \n",
    "In this form they closely resemble the behavior of dropout regularization of :numref:`sec_dropout`,\n",
    "where noise is only injected during training. \n",
    "\n",
    "\n",
    "## Batch Normalization Layers\n",
    "\n",
    "We are now ready to take a look at how batch normalization works in practice.\n",
    "Batch normalization implementations for fully connected layers\n",
    "and convolutional layers are slightly different.\n",
    "One key difference between batch normalization and other layers\n",
    "is that because batch normalization operates on a full minibatch at a time,\n",
    "we cannot just ignore the batch dimension\n",
    "as we did before when introducing other layers.\n",
    "\n",
    "### Fully Connected Layers\n",
    "\n",
    "When applying batch normalization to fully connected layers,\n",
    "the original paper inserted batch normalization after the affine transformation\n",
    "and before the nonlinear activation function. Later applications experimented with \n",
    "inserting batch normalization right after activation functions :cite:`Ioffe.Szegedy.2015`.\n",
    "Denoting the input to the fully connected layer by $\\mathbf{x}$,\n",
    "the affine transformation\n",
    "by $\\mathbf{W}\\mathbf{x} + \\mathbf{b}$ (with the weight parameter $\\mathbf{W}$ and the bias parameter $\\mathbf{b}$),\n",
    "and the activation function by $\\phi$,\n",
    "we can express the computation of a batch-normalization-enabled,\n",
    "fully connected layer output $\\mathbf{h}$ as follows:\n",
    "\n",
    "$$\\mathbf{h} = \\phi(\\mathrm{BN}(\\mathbf{W}\\mathbf{x} + \\mathbf{b}) ).$$\n",
    "\n",
    "Recall that mean and variance are computed\n",
    "on the *same* minibatch \n",
    "on which the transformation is applied.\n",
    "\n",
    "### Convolutional Layers\n",
    "\n",
    "Similarly, with convolutional layers,\n",
    "we can apply batch normalization after the convolution\n",
    "and before the nonlinear activation function. The key difference from batch normalization \n",
    "in fully connected layers is that we apply the operation on a per-channel basis \n",
    "*across all locations*. This is compatible with our assumption of translation \n",
    "invariance that led to convolutions: we assumed that the specific location of a pattern \n",
    "within an image was not critical for the purpose of understanding.\n",
    "\n",
    "Assume that our minibatches contain $m$ examples\n",
    "and that for each channel,\n",
    "the output of the convolution has height $p$ and width $q$.\n",
    "For convolutional layers, we carry out each batch normalization\n",
    "over the $m \\cdot p \\cdot q$ elements per output channel simultaneously.\n",
    "Thus, we collect the values over all spatial locations\n",
    "when computing the mean and variance\n",
    "and consequently \n",
    "apply the same mean and variance\n",
    "within a given channel\n",
    "to normalize the value at each spatial location.\n",
    "Each channel has its own scale and shift parameters,\n",
    "both of which are scalars.\n",
    "\n",
    "Note that in the context of convolutions the batch normalization is well-defined even for \n",
    "minibatches of size 1: after all, we have all the locations across an image to average. Consequently, \n",
    "mean and variance are well defined, even if it's just within a single observation. This consideration \n",
    "led :cite:`Ba.Kiros.Hinton.2016` to introduce the notion of the *layer norm*. It works just like \n",
    "a batch norm, just that it is applied one image at a time. There are cases where layer normalization improves the \n",
    "accuracy of a model. We skip further details and recommend the interested reader to consult the \n",
    "original paper. \n",
    "\n",
    "### Batch Normalization During Prediction\n",
    "\n",
    "As we mentioned earlier, batch normalization typically behaves differently\n",
    "in training mode and prediction mode.\n",
    "First, the noise in the sample mean and the sample variance\n",
    "arising from estimating each on minibatches\n",
    "are no longer desirable once we have trained the model.\n",
    "Second, we might not have the luxury\n",
    "of computing per-batch normalization statistics.\n",
    "For example,\n",
    "we might need to apply our model to make one prediction at a time.\n",
    "\n",
    "Typically, after training, we use the entire dataset\n",
    "to compute stable estimates of the variable statistics\n",
    "and then fix them at prediction time.\n",
    "Consequently, batch normalization behaves differently during training and at test time.\n",
    "Recall that dropout also exhibits this characteristic.\n",
    "\n",
    "## (**Implementation from Scratch**)\n",
    "\n",
    "To see how batch normalization works in practice, we implement one from scratch below.\n"
   ]
  },
  {
   "cell_type": "code",
   "execution_count": 2,
   "id": "ce78e934",
   "metadata": {
    "execution": {
     "iopub.execute_input": "2022-07-13T08:41:54.643000Z",
     "iopub.status.busy": "2022-07-13T08:41:54.642249Z",
     "iopub.status.idle": "2022-07-13T08:41:57.531607Z",
     "shell.execute_reply": "2022-07-13T08:41:57.530684Z"
    },
    "origin_pos": 3,
    "tab": [
     "pytorch"
    ]
   },
   "outputs": [],
   "source": [
    "import jax\n",
    "from jax import numpy as jnp, random, grad, vmap, jit\n",
    "from flax import linen as nn\n",
    "import optax\n",
    "# from d2l import jax as d2l\n",
    "\n",
    "\n",
    "def batch_norm(X, gamma, beta, moving_mean, moving_var, eps):\n",
    "    # Compute reciprocal of square root of the moving variance elementwise\n",
    "    inv = jax.lax.rsqrt(moving_var + eps).astype(X.dtype)\n",
    "    # Scale and shift\n",
    "    inv *= gamma\n",
    "    Y = X * inv + (beta - moving_mean * inv)\n",
    "    return Y"
   ]
  },
  {
   "cell_type": "markdown",
   "id": "ffe32818",
   "metadata": {
    "origin_pos": 5
   },
   "source": [
    "We can now [**create a proper `BatchNorm` layer.**]\n",
    "Our layer will maintain proper parameters\n",
    "for scale `gamma` and shift `beta`,\n",
    "both of which will be updated in the course of training.\n",
    "Additionally, our layer will maintain\n",
    "moving averages of the means and variances\n",
    "for subsequent use during model prediction.\n",
    "\n",
    "Putting aside the algorithmic details,\n",
    "note the design pattern underlying our implementation of the layer.\n",
    "Typically, we define the mathematics in a separate function, say `batch_norm`.\n",
    "We then integrate this functionality into a custom layer,\n",
    "whose code mostly addresses bookkeeping matters,\n",
    "such as moving data to the right device context,\n",
    "allocating and initializing any required variables,\n",
    "keeping track of moving averages (here for mean and variance), and so on.\n",
    "This pattern enables a clean separation of mathematics from boilerplate code.\n",
    "Also note that for the sake of convenience\n",
    "we did not worry about automatically inferring the input shape here,\n",
    "thus we need to specify the number of features throughout.\n",
    "By now all modern deep learning frameworks offer automatic detection of size and shape in the \n",
    "high-level batch normalization APIs (in practice we will use this instead).\n"
   ]
  },
  {
   "cell_type": "code",
   "execution_count": null,
   "id": "e33fe076",
   "metadata": {
    "execution": {
     "iopub.execute_input": "2022-07-13T08:41:57.536069Z",
     "iopub.status.busy": "2022-07-13T08:41:57.535424Z",
     "iopub.status.idle": "2022-07-13T08:41:57.542743Z",
     "shell.execute_reply": "2022-07-13T08:41:57.541943Z"
    },
    "origin_pos": 7,
    "tab": [
     "pytorch"
    ]
   },
   "outputs": [],
   "source": [
    "class BatchNorm(nn.Module):\n",
    "    input_shape: list\n",
    "\n",
    "    def setup(self):\n",
    "        weight_shape = [self.input_shape[-1], ]\n",
    "        # The scale parameter and the shift parameter (model parameters) are\n",
    "        # initialized to 1 and 0, respectively\n",
    "        self.gamma = self.param('gamma', nn.initializers.ones, weight_shape)\n",
    "        self.beta = self.param('beta', nn.initializers.zeros, weight_shape)\n",
    "        # The variables that are not model parameters are initialized to 0\n",
    "        self.moving_mean = self.variable('batch_stats', 'moving_mean', \n",
    "                                         nn.initializers.zeros, weight_shape)\n",
    "        self.moving_variance = self.variable('batch_stats', 'moving_variance',\n",
    "                                             nn.initializers.ones, weight_shape)\n",
    "\n",
    "    def assign_moving_average(self, variable, value):\n",
    "        momentum = 0.9\n",
    "        delta = variable * momentum + value * (1 - momentum)\n",
    "        return variable.assign(delta)\n",
    "\n",
    "    def __call__(self, inputs, training):\n",
    "        if training:\n",
    "            axes = list(range(len(inputs.shape) - 1))\n",
    "            batch_mean = jnp.mean(inputs, axes, keepdims=True)\n",
    "            batch_variance = jnp.mean((inputs - jnp.stop_gradient(batch_mean)) ** 2, axes, keepdims=True)\n",
    "            batch_mean = jnp.squeeze(batch_mean, axes)\n",
    "            batch_variance = jnp.squeeze(batch_variance, axes)\n",
    "            mean_update = self.assign_moving_average(\n",
    "                self.moving_mean, batch_mean)\n",
    "            variance_update = self.assign_moving_average(\n",
    "                self.moving_variance, batch_variance)\n",
    "            # self.add_update(mean_update) ???\n",
    "            # self.add_update(variance_update)\n",
    "            mean, variance = batch_mean, batch_variance\n",
    "        else:\n",
    "            mean, variance = self.moving_mean, self.moving_variance\n",
    "        output = batch_norm(inputs, moving_mean=mean, moving_var=variance,\n",
    "            beta=self.beta, gamma=self.gamma, eps=1e-5)\n",
    "        return output"
   ]
  },
  {
   "cell_type": "markdown",
   "id": "4ccc8b85",
   "metadata": {
    "origin_pos": 9
   },
   "source": [
    "Note that we used the variable `momentum` to govern the aggregation over past mean and variance estimates. This is somewhat of a misnomer as it has nothing whatsoever to do with the *momentum* term of optimization in :numref:`sec_momentum`. Nonetheless, it is the commonly adopted name for this term and in deference to API naming convention we use the same variable name in our code, too.\n",
    "\n",
    "## [**Applying Batch Normalization in LeNet**]\n",
    "\n",
    "To see how to apply `BatchNorm` in context,\n",
    "below we apply it to a traditional LeNet model (:numref:`sec_lenet`).\n",
    "Recall that batch normalization is applied\n",
    "after the convolutional layers or fully connected layers\n",
    "but before the corresponding activation functions.\n"
   ]
  },
  {
   "cell_type": "code",
   "execution_count": null,
   "id": "a04b64dd",
   "metadata": {
    "execution": {
     "iopub.execute_input": "2022-07-13T08:41:57.546291Z",
     "iopub.status.busy": "2022-07-13T08:41:57.545784Z",
     "iopub.status.idle": "2022-07-13T08:41:57.552629Z",
     "shell.execute_reply": "2022-07-13T08:41:57.551631Z"
    },
    "origin_pos": 10,
    "tab": [
     "pytorch"
    ]
   },
   "outputs": [],
   "source": [
    "class BNLeNetScratch(d2l.Classifier):\n",
    "    lr: float = 0.1\n",
    "    num_classes: int = 10\n",
    "\n",
    "    def setup(self):\n",
    "        avg_pool = lambda x: nn.avg_pool(x, kernel_size=(2, 2), strides=(2, 2))\n",
    "        self.net = nn.Sequential([\n",
    "            nn.Conv(6, kernel_size=(5, 5)), BatchNorm(6, num_dims=4),\n",
    "            nn.sigmoid, avg_pool,\n",
    "            nn.Conv(16, kernel_size=(5, 5)), BatchNorm(16, num_dims=4),\n",
    "            nn.sigmoid, avg_pool,\n",
    "            d2l.flatten, nn.Dense(120),\n",
    "            BatchNorm(120, num_dims=2), nn.sigmoid, nn.Dense(84),\n",
    "            BatchNorm(84, num_dims=2), nn.sigmoid,\n",
    "            nn.Dense(self.num_classes)])"
   ]
  },
  {
   "cell_type": "markdown",
   "id": "7ddbc193",
   "metadata": {
    "origin_pos": 11
   },
   "source": [
    "As before, we will [**train our network on the Fashion-MNIST dataset**].\n",
    "This code is virtually identical to that when we first trained LeNet (:numref:`sec_lenet`).\n"
   ]
  },
  {
   "cell_type": "code",
   "execution_count": null,
   "id": "4c7acd0f",
   "metadata": {
    "execution": {
     "iopub.execute_input": "2022-07-13T08:41:57.557669Z",
     "iopub.status.busy": "2022-07-13T08:41:57.557315Z",
     "iopub.status.idle": "2022-07-13T08:43:03.370041Z",
     "shell.execute_reply": "2022-07-13T08:43:03.369086Z"
    },
    "origin_pos": 12,
    "tab": [
     "pytorch"
    ]
   },
   "outputs": [],
   "source": [
    "trainer = d2l.Trainer(max_epochs=10, num_gpus=1)\n",
    "data = d2l.FashionMNIST(batch_size=128)\n",
    "model = BNLeNetScratch(lr=0.1)\n",
    "# model.apply_init([next(iter(data.get_dataloader(True)))[0]], d2l.init_cnn)\n",
    "trainer.fit(model, data) # TODO: make from scratch work"
   ]
  },
  {
   "cell_type": "markdown",
   "id": "02380da4",
   "metadata": {
    "origin_pos": 14
   },
   "source": [
    "Let's [**have a look at the scale parameter `gamma`\n",
    "and the shift parameter `beta`**] learned\n",
    "from the first batch normalization layer.\n"
   ]
  },
  {
   "cell_type": "code",
   "execution_count": null,
   "id": "c17cd6b9",
   "metadata": {
    "execution": {
     "iopub.execute_input": "2022-07-13T08:43:03.373931Z",
     "iopub.status.busy": "2022-07-13T08:43:03.373625Z",
     "iopub.status.idle": "2022-07-13T08:43:03.382852Z",
     "shell.execute_reply": "2022-07-13T08:43:03.382073Z"
    },
    "origin_pos": 16,
    "tab": [
     "pytorch"
    ]
   },
   "outputs": [],
   "source": [
    "model.net[1].gamma.reshape((-1,)), model.net[1].beta.reshape((-1,))"
   ]
  },
  {
   "cell_type": "markdown",
   "id": "3d87d4ee",
   "metadata": {
    "origin_pos": 18
   },
   "source": [
    "## [**Concise Implementation**]\n",
    "\n",
    "Compared with the `BatchNorm` class,\n",
    "which we just defined ourselves,\n",
    "we can use the `BatchNorm` class defined in high-level APIs from the deep learning framework directly.\n",
    "The code looks virtually identical\n",
    "to our implementation above, except that we no longer need to provide additional arguments for it to get the dimensions right.\n"
   ]
  },
  {
   "cell_type": "code",
   "execution_count": 20,
   "id": "2fa7d3ab",
   "metadata": {
    "execution": {
     "iopub.execute_input": "2022-07-13T08:43:03.386159Z",
     "iopub.status.busy": "2022-07-13T08:43:03.385862Z",
     "iopub.status.idle": "2022-07-13T08:43:03.392004Z",
     "shell.execute_reply": "2022-07-13T08:43:03.391231Z"
    },
    "origin_pos": 19,
    "tab": [
     "pytorch"
    ]
   },
   "outputs": [],
   "source": [
    "class BNLeNet(d2l.Classifier):\n",
    "    lr: float = 0.1\n",
    "    num_classes: int = 10\n",
    "    training: bool = True\n",
    "\n",
    "    def setup(self):\n",
    "        avg_pool = lambda x: nn.avg_pool(x, window_shape=(2, 2), strides=(2, 2))\n",
    "        use_running_average = not self.training\n",
    "        self.net = nn.Sequential([\n",
    "            nn.Conv(6, kernel_size=(5, 5)), nn.BatchNorm(use_running_average),\n",
    "            nn.sigmoid, avg_pool,\n",
    "            nn.Conv(16, kernel_size=(5, 5)), nn.BatchNorm(use_running_average),\n",
    "            nn.sigmoid, avg_pool,\n",
    "            d2l.flatten, nn.Dense(120), nn.BatchNorm(use_running_average),\n",
    "            nn.sigmoid, nn.Dense(84), nn.BatchNorm(use_running_average),\n",
    "            nn.sigmoid, nn.Dense(self.num_classes)])"
   ]
  },
  {
   "cell_type": "markdown",
   "id": "8415924b",
   "metadata": {
    "origin_pos": 20
   },
   "source": [
    "\n",
    "Below, we [**use the same hyperparameters to train our model.**]\n",
    "Note that as usual, the high-level API variant runs much faster\n",
    "because its code has been compiled to C++ or CUDA\n",
    "while our custom implementation must be interpreted by Python.\n"
   ]
  },
  {
   "cell_type": "code",
   "execution_count": null,
   "id": "1366600d",
   "metadata": {
    "execution": {
     "iopub.execute_input": "2022-07-13T08:43:03.395605Z",
     "iopub.status.busy": "2022-07-13T08:43:03.394939Z",
     "iopub.status.idle": "2022-07-13T08:43:59.693759Z",
     "shell.execute_reply": "2022-07-13T08:43:59.692522Z"
    },
    "origin_pos": 21,
    "tab": [
     "pytorch"
    ]
   },
   "outputs": [],
   "source": [
    "trainer = d2l.Trainer(max_epochs=10) # num_gpus=1\n",
    "data = d2l.FashionMNIST(batch_size=128)\n",
    "model = BNLeNet(lr=0.1)\n",
    "# model.apply_init([next(iter(data.get_dataloader(True)))[0]], d2l.init_cnn)\n",
    "trainer.fit(model, data, mutable=['batch_stats'])"
   ]
  },
  {
   "cell_type": "markdown",
   "id": "891221a0",
   "metadata": {
    "origin_pos": 23
   },
   "source": [
    "## Discussion\n",
    "\n",
    "Intuitively, batch normalization is thought\n",
    "to make the optimization landscape smoother. \n",
    "However, we must be careful to distinguish between\n",
    "speculative intuitions and true explanations\n",
    "for the phenomena that we observe when training deep models.\n",
    "Recall that we do not even know why simpler\n",
    "deep neural networks (MLPs and conventional CNNs)\n",
    "generalize well in the first place.\n",
    "Even with dropout and weight decay,\n",
    "they remain so flexible that their ability to generalize to unseen data\n",
    "likely needs significantly more refined learning-theoretic generalization guarantees.\n",
    "\n",
    "In the original paper proposing batch normalization,\n",
    "the authors, in addition to introducing a powerful and useful tool,\n",
    "offered an explanation for why it works:\n",
    "by reducing *internal covariate shift*.\n",
    "Presumably by *internal covariate shift* the authors\n",
    "meant something like the intuition expressed above---the\n",
    "notion that the distribution of variable values changes\n",
    "over the course of training.\n",
    "However, there were two problems with this explanation:\n",
    "i) This drift is very different from *covariate shift*,\n",
    "rendering the name a misnomer.\n",
    "ii) The explanation offers an under-specified intuition\n",
    "but leaves the question of *why precisely this technique works*\n",
    "an open question wanting for a rigorous explanation.\n",
    "Throughout this book, we aim to convey the intuitions that practitioners\n",
    "use to guide their development of deep neural networks.\n",
    "However, we believe that it is important\n",
    "to separate these guiding intuitions\n",
    "from established scientific fact.\n",
    "Eventually, when you master this material\n",
    "and start writing your own research papers\n",
    "you will want to be clear to delineate\n",
    "between technical claims and hunches.\n",
    "\n",
    "Following the success of batch normalization,\n",
    "its explanation in terms of *internal covariate shift*\n",
    "has repeatedly surfaced in debates in the technical literature\n",
    "and broader discourse about how to present machine learning research.\n",
    "In a memorable speech given while accepting a Test of Time Award\n",
    "at the 2017 NeurIPS conference,\n",
    "Ali Rahimi used *internal covariate shift*\n",
    "as a focal point in an argument likening\n",
    "the modern practice of deep learning to alchemy.\n",
    "Subsequently, the example was revisited in detail\n",
    "in a position paper outlining\n",
    "troubling trends in machine learning :cite:`Lipton.Steinhardt.2018`.\n",
    "Other authors\n",
    "have proposed alternative explanations for the success of batch normalization,\n",
    "some claiming that batch normalization's success comes despite exhibiting behavior\n",
    "that is in some ways opposite to those claimed in the original paper :cite:`Santurkar.Tsipras.Ilyas.ea.2018`.\n",
    "\n",
    "We note that the *internal covariate shift*\n",
    "is no more worthy of criticism than any of\n",
    "thousands of similarly vague claims\n",
    "made every year in the technical machine learning literature.\n",
    "Likely, its resonance as a focal point of these debates\n",
    "owes to its broad recognizability to the target audience.\n",
    "Batch normalization has proven an indispensable method,\n",
    "applied in nearly all deployed image classifiers,\n",
    "earning the paper that introduced the technique\n",
    "tens of thousands of citations. We conjecture, though, that the guiding principles \n",
    "of regularization through noise injection, acceleration through rescaling and lastly preprocessing\n",
    "may well lead to further inventions of layers and techniques in the future. \n",
    "\n",
    "On a more practical note, there are a number of aspects worth remembering about batch normalization: \n",
    "* During model training, batch normalization continuously adjusts the intermediate output of \n",
    "  the network by utilizing the mean and standard deviation of the minibatch, so that the \n",
    "  values of the intermediate output in each layer throughout the neural network are more stable.\n",
    "* Batch normalization for fully connected layers and convolutional layers are slightly different. In fact, \n",
    "  for convolutional layers, layer normalization can sometimes be used as an alternative. \n",
    "* Like a dropout layer, batch normalization layers have different behaviors \n",
    "  in training mode and prediction mode.\n",
    "* Batch normalization is useful for regularization and improving convergence in optimization. On the other hand, \n",
    "  the original motivation of reducing internal covariate shift seems not to be a valid explanation.\n",
    "\n",
    "## Exercises\n",
    "\n",
    "1. Can we remove the bias parameter from the fully connected layer or the convolutional layer before the batch normalization? Why?\n",
    "1. Compare the learning rates for LeNet with and without batch normalization.\n",
    "    1. Plot the increase in validation accuracy.\n",
    "    1. How large can you make the learning rate before the optimization fails in both cases?\n",
    "1. Do we need batch normalization in every layer? Experiment with it?\n",
    "1. Implement a \"lite\" version of batch normalization that only removes the mean, or alternatively one that \n",
    "   only removes the variance. How does it behave?\n",
    "1. Fix the parameters `beta` and `gamma`, and observe and analyze the results.\n",
    "1. Can you replace dropout by batch normalization? How does the behavior change?\n",
    "1. Review the online documentation for `BatchNorm` from the high-level APIs to see \n",
    "   some other use cases for it. \n",
    "1. Research ideas: think of other normalization transforms that you can apply:\n",
    "    1. Can you apply the probability integral transform? \n",
    "    1. Can you use a full rank covariance estimate? Why not?\n",
    "    1. Does a sparsification compression act as a regularizer?\n"
   ]
  },
  {
   "cell_type": "markdown",
   "id": "777f1cd8",
   "metadata": {
    "origin_pos": 25,
    "tab": [
     "pytorch"
    ]
   },
   "source": [
    "[Discussions](https://discuss.d2l.ai/t/84)\n"
   ]
  }
 ],
 "metadata": {
  "accelerator": "GPU",
  "kernelspec": {
   "display_name": "Python 3.9.13 ('base')",
   "language": "python",
   "name": "python3"
  },
  "language_info": {
   "codemirror_mode": {
    "name": "ipython",
    "version": 3
   },
   "file_extension": ".py",
   "mimetype": "text/x-python",
   "name": "python",
   "nbconvert_exporter": "python",
   "pygments_lexer": "ipython3",
   "version": "3.9.13"
  },
  "vscode": {
   "interpreter": {
    "hash": "626d743d6476408aa1b36c3ff0d1f9d9d03e37c6879626ddfcdd13d658004bbf"
   }
  }
 },
 "nbformat": 4,
 "nbformat_minor": 5
}
