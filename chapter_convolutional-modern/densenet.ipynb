{
 "cells": [
  {
   "cell_type": "markdown",
   "id": "a2fb6486",
   "metadata": {},
   "source": [
    "The following additional libraries are needed to run this\n",
    "notebook. Note that running on Colab is experimental, please report a Github\n",
    "issue if you have any problem."
   ]
  },
  {
   "cell_type": "code",
   "execution_count": 35,
   "id": "a0801aae",
   "metadata": {},
   "outputs": [],
   "source": [
    "%%capture\n",
    "\n",
    "import sys\n",
    "sys.path.append('..')\n",
    "import mock_d2l_jax as d2l"
   ]
  },
  {
   "cell_type": "markdown",
   "id": "25388a74",
   "metadata": {
    "origin_pos": 1
   },
   "source": [
    "# Densely Connected Networks (DenseNet)\n",
    ":label:`sec_densenet`\n",
    "\n",
    "ResNet significantly changed the view of how to parametrize the functions in deep networks. *DenseNet* (dense convolutional network) is to some extent the logical extension of this :cite:`Huang.Liu.Van-Der-Maaten.ea.2017`.\n",
    "As a result,\n",
    "DenseNet \n",
    "is characterized by\n",
    "both the connectivity pattern where\n",
    "each layer connects to all the preceding layers\n",
    "and the concatenation operation (rather than the addition operator in ResNet) to preserve and reuse features\n",
    "from earlier layers.\n",
    "To understand how to arrive at it, let's take a small detour to mathematics.\n",
    "\n",
    "\n",
    "## From ResNet to DenseNet\n",
    "\n",
    "Recall the Taylor expansion for functions. For the point $x = 0$ it can be written as\n",
    "\n",
    "$$f(x) = f(0) + f'(0) x + \\frac{f''(0)}{2!}  x^2 + \\frac{f'''(0)}{3!}  x^3 + \\ldots.$$\n",
    "\n",
    "\n",
    "The key point is that it decomposes a function into increasingly higher order terms. In a similar vein, ResNet decomposes functions into\n",
    "\n",
    "$$f(\\mathbf{x}) = \\mathbf{x} + g(\\mathbf{x}).$$\n",
    "\n",
    "That is, ResNet decomposes $f$ into a simple linear term and a more complex\n",
    "nonlinear one.\n",
    "What if we want to capture (not necessarily add) information beyond two terms?\n",
    "One solution was\n",
    "DenseNet :cite:`Huang.Liu.Van-Der-Maaten.ea.2017`.\n",
    "\n",
    "![The main difference between ResNet (left) and DenseNet (right) in cross-layer connections: use of addition and use of concatenation. ](../img/densenet-block.svg)\n",
    ":label:`fig_densenet_block`\n",
    "\n",
    "As shown in :numref:`fig_densenet_block`, the key difference between ResNet and DenseNet is that in the latter case outputs are *concatenated* (denoted by $[,]$) rather than added.\n",
    "As a result, we perform a mapping from $\\mathbf{x}$ to its values after applying an increasingly complex sequence of functions:\n",
    "\n",
    "$$\\mathbf{x} \\to \\left[\n",
    "\\mathbf{x},\n",
    "f_1(\\mathbf{x}),\n",
    "f_2([\\mathbf{x}, f_1(\\mathbf{x})]), f_3([\\mathbf{x}, f_1(\\mathbf{x}), f_2([\\mathbf{x}, f_1(\\mathbf{x})])]), \\ldots\\right].$$\n",
    "\n",
    "In the end, all these functions are combined in MLP to reduce the number of features again. In terms of implementation this is quite simple:\n",
    "rather than adding terms, we concatenate them. The name DenseNet arises from the fact that the dependency graph between variables becomes quite dense. The last layer of such a chain is densely connected to all previous layers. The dense connections are shown in :numref:`fig_densenet`.\n",
    "\n",
    "![Dense connections in DenseNet.](http://d2l.ai/_images/densenet.svg)\n",
    ":label:`fig_densenet`\n",
    "\n",
    "\n",
    "The main components that compose a DenseNet are *dense blocks* and *transition layers*. The former define how the inputs and outputs are concatenated, while the latter control the number of channels so that it is not too large.\n",
    "\n",
    "\n",
    "## [**Dense Blocks**]\n",
    "\n",
    "DenseNet uses the modified \"batch normalization, activation, and convolution\"\n",
    "structure of ResNet (see the exercise in :numref:`sec_resnet`).\n",
    "First, we implement this convolution block structure.\n"
   ]
  },
  {
   "cell_type": "code",
   "execution_count": 64,
   "id": "391d85d7",
   "metadata": {
    "execution": {
     "iopub.execute_input": "2022-07-13T08:50:04.490265Z",
     "iopub.status.busy": "2022-07-13T08:50:04.489934Z",
     "iopub.status.idle": "2022-07-13T08:50:06.973567Z",
     "shell.execute_reply": "2022-07-13T08:50:06.972698Z"
    },
    "origin_pos": 3,
    "tab": [
     "pytorch"
    ]
   },
   "outputs": [],
   "source": [
    "import jax\n",
    "from jax import numpy as jnp, random, grad, vmap, jit\n",
    "from flax import linen as nn\n",
    "import optax\n",
    "# from d2l import jax as d2l\n",
    "\n",
    "\n",
    "class ConvBlock(nn.Module):\n",
    "    num_channels: int\n",
    "\n",
    "    @nn.compact\n",
    "    def __call__(self, X):    \n",
    "        X = nn.BatchNorm(use_running_average=False)(X)\n",
    "        X =  nn.relu(X)\n",
    "        X = nn.Conv(self.num_channels, kernel_size=(3, 3), padding=(1, 1))(X)\n",
    "        return X"
   ]
  },
  {
   "cell_type": "markdown",
   "id": "e10d360a",
   "metadata": {
    "origin_pos": 5
   },
   "source": [
    "A *dense block* consists of multiple convolution blocks, each using the same number of output channels. In the forward propagation, however, we concatenate the input and output of each convolution block on the channel dimension.\n"
   ]
  },
  {
   "cell_type": "code",
   "execution_count": 65,
   "id": "3abf52cb",
   "metadata": {
    "execution": {
     "iopub.execute_input": "2022-07-13T08:50:07.014649Z",
     "iopub.status.busy": "2022-07-13T08:50:07.013684Z",
     "iopub.status.idle": "2022-07-13T08:50:07.019914Z",
     "shell.execute_reply": "2022-07-13T08:50:07.019094Z"
    },
    "origin_pos": 7,
    "tab": [
     "pytorch"
    ]
   },
   "outputs": [],
   "source": [
    "class DenseBlock(nn.Module):\n",
    "    num_convs: int\n",
    "    num_channels: int\n",
    "    \n",
    "    def setup(self):\n",
    "        layer = []\n",
    "        for i in range(self.num_convs):\n",
    "            layer.append(ConvBlock(self.num_channels))\n",
    "        self.net = nn.Sequential(layer)\n",
    "\n",
    "    def __call__(self, X):\n",
    "        params = self.variables['params']\n",
    "        for blk in self.net.layers:\n",
    "            Y = blk.apply(params, X) # TODO: how to call submodules? would need params from the self.net Sequential\n",
    "            params = blk.variables['params']\n",
    "            # Concatenate the input and output of each block on the channel\n",
    "            # dimension\n",
    "            X = jnp.concatenate((X, Y), axis=1)\n",
    "        return X"
   ]
  },
  {
   "cell_type": "markdown",
   "id": "81976bc5",
   "metadata": {
    "origin_pos": 9
   },
   "source": [
    "In the following example,\n",
    "we [**define a `DenseBlock` instance**] with 2 convolution blocks of 10 output channels.\n",
    "When using an input with 3 channels, we will get an output with  $3+2\\times 10=23$ channels. The number of convolution block channels controls the growth in the number of output channels relative to the number of input channels. This is also referred to as the *growth rate*.\n"
   ]
  },
  {
   "cell_type": "code",
   "execution_count": null,
   "id": "00f3da12",
   "metadata": {
    "execution": {
     "iopub.execute_input": "2022-07-13T08:50:07.024758Z",
     "iopub.status.busy": "2022-07-13T08:50:07.024202Z",
     "iopub.status.idle": "2022-07-13T08:50:07.064345Z",
     "shell.execute_reply": "2022-07-13T08:50:07.063288Z"
    },
    "origin_pos": 10,
    "tab": [
     "pytorch"
    ]
   },
   "outputs": [],
   "source": [
    "blk = DenseBlock(2, 10)\n",
    "X = random.normal(random.PRNGKey(0), (4, 8, 8, 3))\n",
    "Y = blk.init_with_output(random.PRNGKey(1), X)[0]\n",
    "Y.shape"
   ]
  },
  {
   "cell_type": "markdown",
   "id": "5bff95ec",
   "metadata": {
    "origin_pos": 11
   },
   "source": [
    "## [**Transition Layers**]\n",
    "\n",
    "Since each dense block will increase the number of channels, adding too many of them will lead to an excessively complex model. A *transition layer* is used to control the complexity of the model. It reduces the number of channels by using the $1\\times 1$ convolutional layer and halves the height and width of the average pooling layer with a stride of 2, further reducing the complexity of the model.\n"
   ]
  },
  {
   "cell_type": "code",
   "execution_count": 67,
   "id": "a1dbaf7f",
   "metadata": {
    "execution": {
     "iopub.execute_input": "2022-07-13T08:50:07.071653Z",
     "iopub.status.busy": "2022-07-13T08:50:07.070968Z",
     "iopub.status.idle": "2022-07-13T08:50:07.076529Z",
     "shell.execute_reply": "2022-07-13T08:50:07.075352Z"
    },
    "origin_pos": 13,
    "tab": [
     "pytorch"
    ]
   },
   "outputs": [],
   "source": [
    "class TransitionBlock(nn.Module):\n",
    "    num_channels: int\n",
    "\n",
    "    @nn.compact\n",
    "    def __call__(self, X):\n",
    "        X = nn.BatchNorm(use_running_average=False)(X)\n",
    "        X = nn.relu(X)\n",
    "        X = nn.Conv(self.num_channels, kernel_size=(1, 1))(X)\n",
    "        X = nn.avg_pool(X, kernel_size=(2, 2), strides=(2, 2))\n",
    "        return X"
   ]
  },
  {
   "cell_type": "markdown",
   "id": "5cb8a692",
   "metadata": {
    "origin_pos": 15
   },
   "source": [
    "[**Apply a transition layer**] with 10 channels to the output of the dense block in the previous example.  This reduces the number of output channels to 10, and halves the height and width.\n"
   ]
  },
  {
   "cell_type": "code",
   "execution_count": null,
   "id": "ca4c2997",
   "metadata": {
    "execution": {
     "iopub.execute_input": "2022-07-13T08:50:07.081812Z",
     "iopub.status.busy": "2022-07-13T08:50:07.080947Z",
     "iopub.status.idle": "2022-07-13T08:50:07.091709Z",
     "shell.execute_reply": "2022-07-13T08:50:07.090643Z"
    },
    "origin_pos": 17,
    "tab": [
     "pytorch"
    ]
   },
   "outputs": [],
   "source": [
    "blk = TransitionBlock(10)\n",
    "blk.init_with_output(d2l.default_key, Y)[0].shape"
   ]
  },
  {
   "cell_type": "markdown",
   "id": "7fec74f2",
   "metadata": {
    "origin_pos": 19
   },
   "source": [
    "## [**DenseNet Model**]\n",
    "\n",
    "Next, we will construct a DenseNet model. DenseNet first uses the same single convolutional layer and max-pooling layer as in ResNet.\n"
   ]
  },
  {
   "cell_type": "code",
   "execution_count": 69,
   "id": "45029249",
   "metadata": {
    "execution": {
     "iopub.execute_input": "2022-07-13T08:50:07.097432Z",
     "iopub.status.busy": "2022-07-13T08:50:07.096552Z",
     "iopub.status.idle": "2022-07-13T08:50:07.102405Z",
     "shell.execute_reply": "2022-07-13T08:50:07.101283Z"
    },
    "origin_pos": 20,
    "tab": [
     "pytorch"
    ]
   },
   "outputs": [],
   "source": [
    "def b1():\n",
    "    return [\n",
    "        nn.Conv(64, kernel_size=(7, 7), strides=(2, 2), padding=(3, 3)),\n",
    "        nn.BatchNorm(use_running_average=False),\n",
    "        nn.relu,\n",
    "        lambda x: nn.max_pool(x, window_shape=(3, 3), strides=(2, 2), padding='same')\n",
    "    ]"
   ]
  },
  {
   "cell_type": "code",
   "execution_count": 70,
   "id": "5fd5138a",
   "metadata": {},
   "outputs": [],
   "source": [
    "class DenseNet(d2l.Classifier):\n",
    "    num_channels: int = 64\n",
    "    growth_rate: int = 32\n",
    "    arch: tuple = (4, 4, 4, 4)\n",
    "    lr: float = 0.1\n",
    "    num_classes: int = 10"
   ]
  },
  {
   "cell_type": "markdown",
   "id": "c7195a4b",
   "metadata": {
    "origin_pos": 21
   },
   "source": [
    "Then, similar to the four modules made up of residual blocks that ResNet uses,\n",
    "DenseNet uses four dense blocks.\n",
    "Similar to ResNet, we can set the number of convolutional layers used in each dense block. Here, we set it to 4, consistent with the ResNet-18 model in :numref:`sec_resnet`. Furthermore, we set the number of channels (i.e., growth rate) for the convolutional layers in the dense block to 32, so 128 channels will be added to each dense block.\n",
    "\n",
    "In ResNet, the height and width are reduced between each module by a residual block with a stride of 2. Here, we use the transition layer to halve the height and width and halve the number of channels. Similar to ResNet, a global pooling layer and a fully connected layer are connected at the end to produce the output.\n"
   ]
  },
  {
   "cell_type": "code",
   "execution_count": 79,
   "id": "e40697c3",
   "metadata": {
    "execution": {
     "iopub.execute_input": "2022-07-13T08:50:07.107672Z",
     "iopub.status.busy": "2022-07-13T08:50:07.107060Z",
     "iopub.status.idle": "2022-07-13T08:50:07.114738Z",
     "shell.execute_reply": "2022-07-13T08:50:07.113620Z"
    },
    "origin_pos": 22,
    "tab": [
     "pytorch"
    ]
   },
   "outputs": [],
   "source": [
    "@d2l.add_to_class(DenseNet)\n",
    "def setup(self):\n",
    "    self.net = nn.Sequential(b1())\n",
    "    for i, num_convs in enumerate(self.arch):\n",
    "        # TODO: how to add to .net layers?\n",
    "        self.net.layers.append(DenseBlock(num_convs, self.growth_rate))\n",
    "\n",
    "        # The number of output channels in the previous dense block\n",
    "        self.num_channels += num_convs * self.growth_rate\n",
    "        # A transition layer that halves the number of channels is added\n",
    "        # between the dense blocks\n",
    "        if i != len(self.arch) - 1:\n",
    "            self.num_channels //= 2\n",
    "            self.net.layers.append(transition_block(self.num_channels))\n",
    "    self.net.layers.extend([\n",
    "        nn.BatchNorm(use_running_average=False), nn.relu,\n",
    "        nn.avg_pool, d2l.flatten, # TODO: adaptive average pooling\n",
    "        nn.Dense(self.num_classes)])\n",
    "    # self.net.apply(d2l.init_cnn)"
   ]
  },
  {
   "cell_type": "markdown",
   "id": "78dba954",
   "metadata": {
    "origin_pos": 23
   },
   "source": [
    "## [**Training**]\n",
    "\n",
    "Since we are using a deeper network here, in this section, we will reduce the input height and width from 224 to 96 to simplify the computation.\n"
   ]
  },
  {
   "cell_type": "code",
   "execution_count": null,
   "id": "1f3b6154",
   "metadata": {
    "execution": {
     "iopub.execute_input": "2022-07-13T08:50:07.120157Z",
     "iopub.status.busy": "2022-07-13T08:50:07.119380Z",
     "iopub.status.idle": "2022-07-13T08:52:33.265800Z",
     "shell.execute_reply": "2022-07-13T08:52:33.264478Z"
    },
    "origin_pos": 24,
    "tab": [
     "pytorch"
    ]
   },
   "outputs": [],
   "source": [
    "model = DenseNet(lr=0.01)\n",
    "trainer = d2l.Trainer(max_epochs=10, num_gpus=1)\n",
    "data = d2l.FashionMNIST(batch_size=128, resize=(96, 96))\n",
    "trainer.fit(model, data) # TODO: SetAttributeInModuleSetupError: Module construction attributes are frozen. (https://flax.readthedocs.io/en/latest/flax.errors.html#flax.errors.SetAttributeInModuleSetupError)"
   ]
  },
  {
   "cell_type": "markdown",
   "id": "5af39c3c",
   "metadata": {
    "origin_pos": 26
   },
   "source": [
    "## Summary and Discussion\n",
    "\n",
    "The main components that compose DenseNet are dense blocks and transition layers. For the latter, we need to keep the dimensionality under control when composing the network by adding transition layers that shrink the number of channels again.\n",
    "In terms of cross-layer connections, unlike ResNet, where inputs and outputs are added together, DenseNet concatenates inputs and outputs on the channel dimension.\n",
    "Although these concatenation operations\n",
    "reuse features to achieve computational efficiency,\n",
    "unfortunately they lead to heavy GPU memory consumption.\n",
    "As a result,\n",
    "applying DenseNet may require more complex memory-efficient implementations that may increase training time :cite:`pleiss2017memory`.\n",
    "\n",
    "\n",
    "## Exercises\n",
    "\n",
    "1. Why do we use average pooling rather than max-pooling in the transition layer?\n",
    "1. One of the advantages mentioned in the DenseNet paper is that its model parameters are smaller than those of ResNet. Why is this the case?\n",
    "1. One problem for which DenseNet has been criticized is its high memory consumption.\n",
    "    1. Is this really the case? Try to change the input shape to $224\\times 224$ to see the actual GPU memory consumption.\n",
    "    1. Can you think of an alternative means of reducing the memory consumption? How would you need to change the framework?\n",
    "1. Implement the various DenseNet versions presented in Table 1 of the DenseNet paper :cite:`Huang.Liu.Van-Der-Maaten.ea.2017`.\n",
    "1. Design an MLP-based model by applying the DenseNet idea. Apply it to the housing price prediction task in :numref:`sec_kaggle_house`.\n"
   ]
  },
  {
   "cell_type": "markdown",
   "id": "fb406236",
   "metadata": {
    "origin_pos": 28,
    "tab": [
     "pytorch"
    ]
   },
   "source": [
    "[Discussions](https://discuss.d2l.ai/t/88)\n"
   ]
  }
 ],
 "metadata": {
  "accelerator": "GPU",
  "kernelspec": {
   "display_name": "Python 3.9.13 ('base')",
   "language": "python",
   "name": "python3"
  },
  "language_info": {
   "codemirror_mode": {
    "name": "ipython",
    "version": 3
   },
   "file_extension": ".py",
   "mimetype": "text/x-python",
   "name": "python",
   "nbconvert_exporter": "python",
   "pygments_lexer": "ipython3",
   "version": "3.9.13"
  },
  "vscode": {
   "interpreter": {
    "hash": "626d743d6476408aa1b36c3ff0d1f9d9d03e37c6879626ddfcdd13d658004bbf"
   }
  }
 },
 "nbformat": 4,
 "nbformat_minor": 5
}
