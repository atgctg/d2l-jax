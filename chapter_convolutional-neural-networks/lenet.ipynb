{
  "cells": [
    {
      "cell_type": "markdown",
      "id": "f4bb17fb",
      "metadata": {},
      "source": [
        "The following additional libraries are needed to run this\n",
        "notebook. Note that running on Colab is experimental, please report a Github\n",
        "issue if you have any problem."
      ]
    },
    {
      "cell_type": "code",
      "execution_count": 78,
      "id": "87d5dfe9",
      "metadata": {},
      "outputs": [],
      "source": [
        "%%capture\n",
        "\n",
        "import sys\n",
        "sys.path.append('..')\n",
        "import mock_d2l_jax as d2l"
      ]
    },
    {
      "cell_type": "markdown",
      "id": "e3ce6efd",
      "metadata": {
        "origin_pos": 1
      },
      "source": [
        "# Convolutional Neural Networks (LeNet)\n",
        ":label:`sec_lenet`\n",
        "\n",
        "We now have all the ingredients required to assemble\n",
        "a fully-functional CNN.\n",
        "In our earlier encounter with image data, we applied\n",
        "a linear model with softmax regression (:numref:`sec_softmax_scratch`)\n",
        "and an MLP (:numref:`sec_mlp-implementation`)\n",
        "to pictures of clothing in the Fashion-MNIST dataset.\n",
        "To make such data amenable we first flattened each image from a $28\\times28$ matrix\n",
        "into a fixed-length $784$-dimensional vector,\n",
        "and thereafter processed them in fully connected layers.\n",
        "Now that we have a handle on convolutional layers,\n",
        "we can retain the spatial structure in our images.\n",
        "As an additional benefit of replacing fully connected layers with convolutional layers,\n",
        "we will enjoy more parsimonious models that require far fewer parameters.\n",
        "\n",
        "In this section, we will introduce *LeNet*,\n",
        "among the first published CNNs\n",
        "to capture wide attention for its performance on computer vision tasks.\n",
        "The model was introduced by (and named for) Yann LeCun,\n",
        "then a researcher at AT&T Bell Labs,\n",
        "for the purpose of recognizing handwritten digits in images :cite:`LeCun.Bottou.Bengio.ea.1998`.\n",
        "This work represented the culmination\n",
        "of a decade of research developing the technology.\n",
        "In 1989, LeCun's team published the first study to successfully\n",
        "train CNNs via backpropagation :cite:`LeCun.Boser.Denker.ea.1989`.\n",
        "\n",
        "At the time LeNet achieved outstanding results\n",
        "matching the performance of support vector machines,\n",
        "then a dominant approach in supervised learning, achieving an error rate of less than 1% per digit.\n",
        "LeNet was eventually adapted to recognize digits\n",
        "for processing deposits in ATM machines.\n",
        "To this day, some ATMs still run the code\n",
        "that Yann LeCun and his colleague Leon Bottou wrote in the 1990s!\n",
        "\n",
        "\n",
        "## LeNet\n",
        "\n",
        "At a high level, (**LeNet (LeNet-5) consists of two parts:\n",
        "(i) a convolutional encoder consisting of two convolutional layers; and\n",
        "(ii) a dense block consisting of three fully connected layers**);\n",
        "The architecture is summarized in :numref:`img_lenet`.\n",
        "\n",
        "![Data flow in LeNet. The input is a handwritten digit, the output a probability over 10 possible outcomes.](http://d2l.ai/_images/lenet.svg)\n",
        ":label:`img_lenet`\n",
        "\n",
        "The basic units in each convolutional block\n",
        "are a convolutional layer, a sigmoid activation function,\n",
        "and a subsequent average pooling operation.\n",
        "Note that while ReLUs and max-pooling work better,\n",
        "these discoveries had not yet been made at the time.\n",
        "Each convolutional layer uses a $5\\times 5$ kernel\n",
        "and a sigmoid activation function.\n",
        "These layers map spatially arranged inputs\n",
        "to a number of two-dimensional feature maps, typically\n",
        "increasing the number of channels.\n",
        "The first convolutional layer has 6 output channels,\n",
        "while the second has 16.\n",
        "Each $2\\times2$ pooling operation (stride 2)\n",
        "reduces dimensionality by a factor of $4$ via spatial downsampling.\n",
        "The convolutional block emits an output with shape given by\n",
        "(batch size, number of channel, height, width).\n",
        "\n",
        "In order to pass output from the convolutional block\n",
        "to the dense block,\n",
        "we must flatten each example in the minibatch.\n",
        "In other words, we take this four-dimensional input and transform it\n",
        "into the two-dimensional input expected by fully connected layers:\n",
        "as a reminder, the two-dimensional representation that we desire uses the first dimension to index examples in the minibatch\n",
        "and the second to give the flat vector representation of each example.\n",
        "LeNet's dense block has three fully connected layers,\n",
        "with 120, 84, and 10 outputs, respectively.\n",
        "Because we are still performing classification,\n",
        "the 10-dimensional output layer corresponds\n",
        "to the number of possible output classes.\n",
        "\n",
        "While getting to the point where you truly understand\n",
        "what is going on inside LeNet may have taken a bit of work,\n",
        "hopefully the following code snippet will convince you\n",
        "that implementing such models with modern deep learning frameworks\n",
        "is remarkably simple.\n",
        "We need only to instantiate a `Sequential` block\n",
        "and chain together the appropriate layers,\n",
        "using Xavier initialization as\n",
        "introduced in :numref:`subsec_xavier`.\n"
      ]
    },
    {
      "cell_type": "code",
      "execution_count": 79,
      "id": "cb02a622",
      "metadata": {
        "execution": {
          "iopub.execute_input": "2022-07-13T22:28:49.833914Z",
          "iopub.status.busy": "2022-07-13T22:28:49.833352Z",
          "iopub.status.idle": "2022-07-13T22:28:53.732057Z",
          "shell.execute_reply": "2022-07-13T22:28:53.731054Z"
        },
        "origin_pos": 3,
        "tab": [
          "pytorch"
        ]
      },
      "outputs": [],
      "source": [
        "import jax\n",
        "from jax import numpy as jnp, random, grad, vmap, jit\n",
        "from flax import linen as nn\n",
        "import optax\n",
        "# from d2l import jax as d2l"
      ]
    },
    {
      "cell_type": "code",
      "execution_count": 80,
      "id": "fdf7317e",
      "metadata": {},
      "outputs": [],
      "source": [
        "from functools import partial\n",
        "\n",
        "XaviarConv = partial(nn.Conv, kernel_init=nn.initializers.xavier_uniform()) # @save\n",
        "XaviarDense = partial(nn.Dense, kernel_init=nn.initializers.xavier_uniform()) # @save"
      ]
    },
    {
      "cell_type": "code",
      "execution_count": 81,
      "id": "216a3bed",
      "metadata": {
        "execution": {
          "iopub.execute_input": "2022-07-13T22:28:53.744158Z",
          "iopub.status.busy": "2022-07-13T22:28:53.743529Z",
          "iopub.status.idle": "2022-07-13T22:28:53.749396Z",
          "shell.execute_reply": "2022-07-13T22:28:53.748618Z"
        },
        "origin_pos": 6,
        "tab": [
          "pytorch"
        ]
      },
      "outputs": [],
      "source": [
        "class LeNet(d2l.Classifier):\n",
        "    lr: float = 0.1\n",
        "    num_classes: int = 10\n",
        "\n",
        "    def setup(self):\n",
        "        pool_2d = lambda x: nn.avg_pool(x, window_shape=(2, 2), strides=(2, 2))\n",
        "        \n",
        "        self.net = nn.Sequential([\n",
        "            XaviarConv(6, kernel_size=(5, 5), padding='same'), nn.sigmoid,\n",
        "            pool_2d,\n",
        "            XaviarConv(16, kernel_size=(5, 5), padding='valid'), nn.sigmoid,\n",
        "            pool_2d,\n",
        "            d2l.flatten,\n",
        "            XaviarDense(120), nn.sigmoid,\n",
        "            XaviarDense(84), nn.sigmoid,\n",
        "            XaviarDense(self.num_classes)\n",
        "        ])"
      ]
    },
    {
      "cell_type": "markdown",
      "id": "090d0e1e",
      "metadata": {
        "origin_pos": 7
      },
      "source": [
        "We take some liberty in the reproduction of LeNet insofar as we replace the Gaussian activation layer by\n",
        "a softmax layer. This greatly simplifies the implementation, not the least due to the\n",
        "fact that the Gaussian decoder is rarely used nowadays. Other than that, this network matches\n",
        "the original LeNet-5 architecture.\n",
        "\n",
        "Let's see what happens inside the network. By passing a\n",
        "single-channel (black and white)\n",
        "$28 \\times 28$ image through the network\n",
        "and printing the output shape at each layer,\n",
        "we can [**inspect the model**] to make sure\n",
        "that its operations line up with\n",
        "what we expect from :numref:`img_lenet_vert`.\n",
        "\n",
        "![Compressed notation for LeNet-5.](../img/lenet-vert.svg)\n",
        ":label:`img_lenet_vert`\n"
      ]
    },
    {
      "cell_type": "code",
      "execution_count": 82,
      "id": "accd80ed",
      "metadata": {},
      "outputs": [
        {
          "data": {
            "text/html": [
              "<pre style=\"white-space:pre;overflow-x:auto;line-height:normal;font-family:Menlo,'DejaVu Sans Mono',consolas,'Courier New',monospace\"><span style=\"font-style: italic\">                           LeNet Summary                           </span>\n",
              "┏━━━━━━━━━━━━━━━┳━━━━━━━━━━━━━━━━━━━━━┳━━━━━━━━━━━━━━━━━━━━━━━━━━━┓\n",
              "┃<span style=\"font-weight: bold\"> path          </span>┃<span style=\"font-weight: bold\"> outputs             </span>┃<span style=\"font-weight: bold\"> params                    </span>┃\n",
              "┡━━━━━━━━━━━━━━━╇━━━━━━━━━━━━━━━━━━━━━╇━━━━━━━━━━━━━━━━━━━━━━━━━━━┩\n",
              "│ Inputs        │ <span style=\"color: #7f7f7f; text-decoration-color: #7f7f7f\">float32</span>[1,28,28,1]  │                           │\n",
              "├───────────────┼─────────────────────┼───────────────────────────┤\n",
              "│ net/layers_0  │ <span style=\"color: #7f7f7f; text-decoration-color: #7f7f7f\">float32</span>[1,28,28,6]  │ bias: <span style=\"color: #7f7f7f; text-decoration-color: #7f7f7f\">float32</span>[6]          │\n",
              "│               │                     │ kernel: <span style=\"color: #7f7f7f; text-decoration-color: #7f7f7f\">float32</span>[5,5,1,6]  │\n",
              "│               │                     │                           │\n",
              "│               │                     │ <span style=\"font-weight: bold\">156 </span><span style=\"color: #7f7f7f; text-decoration-color: #7f7f7f; font-weight: bold\">(624 B)</span>               │\n",
              "├───────────────┼─────────────────────┼───────────────────────────┤\n",
              "│ net/layers_11 │ <span style=\"color: #7f7f7f; text-decoration-color: #7f7f7f\">float32</span>[1,10]       │ bias: <span style=\"color: #7f7f7f; text-decoration-color: #7f7f7f\">float32</span>[10]         │\n",
              "│               │                     │ kernel: <span style=\"color: #7f7f7f; text-decoration-color: #7f7f7f\">float32</span>[84,10]    │\n",
              "│               │                     │                           │\n",
              "│               │                     │ <span style=\"font-weight: bold\">850 </span><span style=\"color: #7f7f7f; text-decoration-color: #7f7f7f; font-weight: bold\">(3.4 KB)</span>              │\n",
              "├───────────────┼─────────────────────┼───────────────────────────┤\n",
              "│ net/layers_3  │ <span style=\"color: #7f7f7f; text-decoration-color: #7f7f7f\">float32</span>[1,10,10,16] │ bias: <span style=\"color: #7f7f7f; text-decoration-color: #7f7f7f\">float32</span>[16]         │\n",
              "│               │                     │ kernel: <span style=\"color: #7f7f7f; text-decoration-color: #7f7f7f\">float32</span>[5,5,6,16] │\n",
              "│               │                     │                           │\n",
              "│               │                     │ <span style=\"font-weight: bold\">2,416 </span><span style=\"color: #7f7f7f; text-decoration-color: #7f7f7f; font-weight: bold\">(9.7 KB)</span>            │\n",
              "├───────────────┼─────────────────────┼───────────────────────────┤\n",
              "│ net/layers_7  │ <span style=\"color: #7f7f7f; text-decoration-color: #7f7f7f\">float32</span>[1,120]      │ bias: <span style=\"color: #7f7f7f; text-decoration-color: #7f7f7f\">float32</span>[120]        │\n",
              "│               │                     │ kernel: <span style=\"color: #7f7f7f; text-decoration-color: #7f7f7f\">float32</span>[400,120]  │\n",
              "│               │                     │                           │\n",
              "│               │                     │ <span style=\"font-weight: bold\">48,120 </span><span style=\"color: #7f7f7f; text-decoration-color: #7f7f7f; font-weight: bold\">(192.5 KB)</span>         │\n",
              "├───────────────┼─────────────────────┼───────────────────────────┤\n",
              "│ net/layers_9  │ <span style=\"color: #7f7f7f; text-decoration-color: #7f7f7f\">float32</span>[1,84]       │ bias: <span style=\"color: #7f7f7f; text-decoration-color: #7f7f7f\">float32</span>[84]         │\n",
              "│               │                     │ kernel: <span style=\"color: #7f7f7f; text-decoration-color: #7f7f7f\">float32</span>[120,84]   │\n",
              "│               │                     │                           │\n",
              "│               │                     │ <span style=\"font-weight: bold\">10,164 </span><span style=\"color: #7f7f7f; text-decoration-color: #7f7f7f; font-weight: bold\">(40.7 KB)</span>          │\n",
              "├───────────────┼─────────────────────┼───────────────────────────┤\n",
              "│ net           │ <span style=\"color: #7f7f7f; text-decoration-color: #7f7f7f\">float32</span>[1,10]       │                           │\n",
              "├───────────────┼─────────────────────┼───────────────────────────┤\n",
              "│ LeNet         │ <span style=\"color: #7f7f7f; text-decoration-color: #7f7f7f\">float32</span>[1,10]       │                           │\n",
              "├───────────────┼─────────────────────┼───────────────────────────┤\n",
              "│<span style=\"font-weight: bold\">               </span>│<span style=\"font-weight: bold\">               Total </span>│<span style=\"font-weight: bold\"> 61,706 </span><span style=\"color: #7f7f7f; text-decoration-color: #7f7f7f; font-weight: bold\">(246.8 KB)</span><span style=\"font-weight: bold\">         </span>│\n",
              "└───────────────┴─────────────────────┴───────────────────────────┘\n",
              "<span style=\"font-weight: bold\">                                                                   </span>\n",
              "<span style=\"font-weight: bold\">                Total Parameters: 61,706 </span><span style=\"color: #7f7f7f; text-decoration-color: #7f7f7f; font-weight: bold\">(246.8 KB)</span><span style=\"font-weight: bold\">                </span>\n",
              "</pre>\n"
            ],
            "text/plain": [
              "\u001b[3m                           LeNet Summary                           \u001b[0m\n",
              "┏━━━━━━━━━━━━━━━┳━━━━━━━━━━━━━━━━━━━━━┳━━━━━━━━━━━━━━━━━━━━━━━━━━━┓\n",
              "┃\u001b[1m \u001b[0m\u001b[1mpath         \u001b[0m\u001b[1m \u001b[0m┃\u001b[1m \u001b[0m\u001b[1moutputs            \u001b[0m\u001b[1m \u001b[0m┃\u001b[1m \u001b[0m\u001b[1mparams                   \u001b[0m\u001b[1m \u001b[0m┃\n",
              "┡━━━━━━━━━━━━━━━╇━━━━━━━━━━━━━━━━━━━━━╇━━━━━━━━━━━━━━━━━━━━━━━━━━━┩\n",
              "│ Inputs        │ \u001b[2mfloat32\u001b[0m[1,28,28,1]  │                           │\n",
              "├───────────────┼─────────────────────┼───────────────────────────┤\n",
              "│ net/layers_0  │ \u001b[2mfloat32\u001b[0m[1,28,28,6]  │ bias: \u001b[2mfloat32\u001b[0m[6]          │\n",
              "│               │                     │ kernel: \u001b[2mfloat32\u001b[0m[5,5,1,6]  │\n",
              "│               │                     │                           │\n",
              "│               │                     │ \u001b[1m156 \u001b[0m\u001b[1;2m(624 B)\u001b[0m               │\n",
              "├───────────────┼─────────────────────┼───────────────────────────┤\n",
              "│ net/layers_11 │ \u001b[2mfloat32\u001b[0m[1,10]       │ bias: \u001b[2mfloat32\u001b[0m[10]         │\n",
              "│               │                     │ kernel: \u001b[2mfloat32\u001b[0m[84,10]    │\n",
              "│               │                     │                           │\n",
              "│               │                     │ \u001b[1m850 \u001b[0m\u001b[1;2m(3.4 KB)\u001b[0m              │\n",
              "├───────────────┼─────────────────────┼───────────────────────────┤\n",
              "│ net/layers_3  │ \u001b[2mfloat32\u001b[0m[1,10,10,16] │ bias: \u001b[2mfloat32\u001b[0m[16]         │\n",
              "│               │                     │ kernel: \u001b[2mfloat32\u001b[0m[5,5,6,16] │\n",
              "│               │                     │                           │\n",
              "│               │                     │ \u001b[1m2,416 \u001b[0m\u001b[1;2m(9.7 KB)\u001b[0m            │\n",
              "├───────────────┼─────────────────────┼───────────────────────────┤\n",
              "│ net/layers_7  │ \u001b[2mfloat32\u001b[0m[1,120]      │ bias: \u001b[2mfloat32\u001b[0m[120]        │\n",
              "│               │                     │ kernel: \u001b[2mfloat32\u001b[0m[400,120]  │\n",
              "│               │                     │                           │\n",
              "│               │                     │ \u001b[1m48,120 \u001b[0m\u001b[1;2m(192.5 KB)\u001b[0m         │\n",
              "├───────────────┼─────────────────────┼───────────────────────────┤\n",
              "│ net/layers_9  │ \u001b[2mfloat32\u001b[0m[1,84]       │ bias: \u001b[2mfloat32\u001b[0m[84]         │\n",
              "│               │                     │ kernel: \u001b[2mfloat32\u001b[0m[120,84]   │\n",
              "│               │                     │                           │\n",
              "│               │                     │ \u001b[1m10,164 \u001b[0m\u001b[1;2m(40.7 KB)\u001b[0m          │\n",
              "├───────────────┼─────────────────────┼───────────────────────────┤\n",
              "│ net           │ \u001b[2mfloat32\u001b[0m[1,10]       │                           │\n",
              "├───────────────┼─────────────────────┼───────────────────────────┤\n",
              "│ LeNet         │ \u001b[2mfloat32\u001b[0m[1,10]       │                           │\n",
              "├───────────────┼─────────────────────┼───────────────────────────┤\n",
              "│\u001b[1m \u001b[0m\u001b[1m             \u001b[0m\u001b[1m \u001b[0m│\u001b[1m \u001b[0m\u001b[1m              Total\u001b[0m\u001b[1m \u001b[0m│\u001b[1m \u001b[0m\u001b[1m61,706 \u001b[0m\u001b[1;2m(246.8 KB)\u001b[0m\u001b[1m        \u001b[0m\u001b[1m \u001b[0m│\n",
              "└───────────────┴─────────────────────┴───────────────────────────┘\n",
              "\u001b[1m                                                                   \u001b[0m\n",
              "\u001b[1m                Total Parameters: 61,706 \u001b[0m\u001b[1;2m(246.8 KB)\u001b[0m\u001b[1m                \u001b[0m\n"
            ]
          },
          "metadata": {},
          "output_type": "display_data"
        }
      ],
      "source": [
        "@d2l.add_to_class(d2l.Classifier)\n",
        "def layer_summary(self, X_shape, key=random.PRNGKey(42)):\n",
        "    # TODO: implement this\n",
        "    # for layer in self.net:\n",
        "    #     X = layer(X)\n",
        "    #     print(layer.__class__.__name__, 'output X_shape:\\t', X.shape)\n",
        "    # return X\n",
        "    self.tabulate(key, jnp.empty(X_shape))\n",
        "\n",
        "model = LeNet()\n",
        "model.layer_summary((1, 28, 28, 1))"
      ]
    },
    {
      "cell_type": "markdown",
      "id": "dd6df27f",
      "metadata": {
        "origin_pos": 10
      },
      "source": [
        "Note that the height and width of the representation\n",
        "at each layer throughout the convolutional block\n",
        "is reduced (compared with the previous layer).\n",
        "The first convolutional layer uses 2 pixels of padding\n",
        "to compensate for the reduction in height and width\n",
        "that would otherwise result from using a $5 \\times 5$ kernel.\n",
        "As an aside, the image size of $28 \\times 28$ pixels in the original\n",
        "MNIST OCR dataset is a result of *trimming* 2 pixel rows (and columns) from the\n",
        "original scans that measured $32 \\times 32$ pixels. This was done primarily to\n",
        "save space (a 30% reduction) at a time when Megabytes mattered.\n",
        "\n",
        "In contrast, the second convolutional layer forgoes padding,\n",
        "and thus the height and width are both reduced by 4 pixels.\n",
        "As we go up the stack of layers,\n",
        "the number of channels increases layer-over-layer\n",
        "from 1 in the input to 6 after the first convolutional layer\n",
        "and 16 after the second convolutional layer.\n",
        "However, each pooling layer halves the height and width.\n",
        "Finally, each fully connected layer reduces dimensionality,\n",
        "finally emitting an output whose dimension\n",
        "matches the number of classes.\n",
        "\n",
        "\n",
        "## Training\n",
        "\n",
        "Now that we have implemented the model,\n",
        "let's [**run an experiment to see how the LeNet-5 model fares on Fashion-MNIST**].\n",
        "\n",
        "While CNNs have fewer parameters,\n",
        "they can still be more expensive to compute\n",
        "than similarly deep MLPs\n",
        "because each parameter participates in many more\n",
        "multiplications.\n",
        "If you have access to a GPU, this might be a good time\n",
        "to put it into action to speed up training.\n",
        "Note that\n",
        "the `d2l.Trainer` class takes care of all details.\n",
        "By default, it initializes the model parameters on the\n",
        "available devices.\n",
        "Just as with MLPs, our loss function is cross-entropy,\n",
        "and we minimize it via minibatch stochastic gradient descent.\n"
      ]
    },
    {
      "cell_type": "code",
      "execution_count": null,
      "id": "4970d418",
      "metadata": {},
      "outputs": [],
      "source": [
        "trainer = d2l.Trainer(max_epochs=10, num_gpus=1)\n",
        "data = d2l.FashionMNIST(batch_size=128)\n",
        "model = LeNet(lr=0.1)\n",
        "trainer.fit(model, data)"
      ]
    },
    {
      "cell_type": "markdown",
      "id": "d0f23620",
      "metadata": {
        "origin_pos": 13
      },
      "source": [
        "## Summary\n",
        "\n",
        "In this chapter we made significant progress. We moved from the MLPs of the 1980s to the CNNs of the 1990s and early 2000s. The architectures proposed, e.g., in the form of LeNet-5 remain meaningful, even to this day. It is worth comparing the error rates on Fashion-MNIST achievable with LeNet-5 both to the very best possible with MLPs (:numref:`sec_mlp-implementation`) and those with significantly more advanced architectures such as ResNet (:numref:`sec_resnet`). LeNet is much more similar to the latter than to the former. One of the primary differences, as we shall see, is that greater amounts of computation afforded significantly more complex architectures.\n",
        "\n",
        "A second difference is the relative ease with which we were able to implement LeNet. What used to be an engineering challenge worth months of C++ and assembly code, engineering to improve SN, an early Lisp based deep learning tool :cite:`Bottou.Le-Cun.1988`, and finally experimentation with models can now be accomplished in minutes. It is this incredible productivity boost that has democratized deep learning model development tremendously. In the next chapter we will follow down this rabbit to hole to see where it takes us.\n",
        "\n",
        "## Exercises\n",
        "\n",
        "1. Let's modernize LeNet. Implement and test the following changes:\n",
        "    1. Replace the average pooling with max-pooling.\n",
        "    1. Replace the softmax layer with ReLU.\n",
        "1. Try to change the size of the LeNet style network to improve its accuracy in addition to max-pooling and ReLU.\n",
        "    1. Adjust the convolution window size.\n",
        "    1. Adjust the number of output channels.\n",
        "    1. Adjust the number of convolution layers.\n",
        "    1. Adjust the number of fully connected layers.\n",
        "    1. Adjust the learning rates and other training details (e.g., initialization and number of epochs.)\n",
        "1. Try out the improved network on the original MNIST dataset.\n",
        "1. Display the activations of the first and second layer of LeNet for different inputs (e.g., sweaters and coats).\n",
        "1. What happens to the activations when you feed significantly different images into the network (e.g., cats, cars, or even random noise)?\n"
      ]
    },
    {
      "cell_type": "markdown",
      "id": "d53d7722",
      "metadata": {
        "origin_pos": 15,
        "tab": [
          "pytorch"
        ]
      },
      "source": [
        "[Discussions](https://discuss.d2l.ai/t/74)\n"
      ]
    }
  ],
  "metadata": {
    "accelerator": "GPU",
    "kernelspec": {
      "display_name": "Python 3.9.13 ('base')",
      "language": "python",
      "name": "python3"
    },
    "language_info": {
      "codemirror_mode": {
        "name": "ipython",
        "version": 3
      },
      "file_extension": ".py",
      "mimetype": "text/x-python",
      "name": "python",
      "nbconvert_exporter": "python",
      "pygments_lexer": "ipython3",
      "version": "3.9.13"
    },
    "vscode": {
      "interpreter": {
        "hash": "626d743d6476408aa1b36c3ff0d1f9d9d03e37c6879626ddfcdd13d658004bbf"
      }
    }
  },
  "nbformat": 4,
  "nbformat_minor": 5
}
