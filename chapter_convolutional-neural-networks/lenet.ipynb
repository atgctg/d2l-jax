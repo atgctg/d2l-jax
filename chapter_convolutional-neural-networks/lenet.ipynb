{
 "cells": [
  {
   "cell_type": "markdown",
   "id": "f4bb17fb",
   "metadata": {},
   "source": [
    "The following additional libraries are needed to run this\n",
    "notebook. Note that running on Colab is experimental, please report a Github\n",
    "issue if you have any problem."
   ]
  },
  {
   "cell_type": "code",
   "execution_count": 4,
   "id": "87d5dfe9",
   "metadata": {},
   "outputs": [],
   "source": [
    "%%capture\n",
    "\n",
    "import sys\n",
    "sys.path.append('..')\n",
    "import mock_d2l_jax as d2l"
   ]
  },
  {
   "cell_type": "markdown",
   "id": "e3ce6efd",
   "metadata": {
    "origin_pos": 1
   },
   "source": [
    "# Convolutional Neural Networks (LeNet)\n",
    ":label:`sec_lenet`\n",
    "\n",
    "We now have all the ingredients required to assemble\n",
    "a fully-functional CNN.\n",
    "In our earlier encounter with image data, we applied\n",
    "a linear model with softmax regression (:numref:`sec_softmax_scratch`)\n",
    "and an MLP (:numref:`sec_mlp-implementation`)\n",
    "to pictures of clothing in the Fashion-MNIST dataset.\n",
    "To make such data amenable we first flattened each image from a $28\\times28$ matrix\n",
    "into a fixed-length $784$-dimensional vector,\n",
    "and thereafter processed them in fully connected layers.\n",
    "Now that we have a handle on convolutional layers,\n",
    "we can retain the spatial structure in our images.\n",
    "As an additional benefit of replacing fully connected layers with convolutional layers,\n",
    "we will enjoy more parsimonious models that require far fewer parameters.\n",
    "\n",
    "In this section, we will introduce *LeNet*,\n",
    "among the first published CNNs\n",
    "to capture wide attention for its performance on computer vision tasks.\n",
    "The model was introduced by (and named for) Yann LeCun,\n",
    "then a researcher at AT&T Bell Labs,\n",
    "for the purpose of recognizing handwritten digits in images :cite:`LeCun.Bottou.Bengio.ea.1998`.\n",
    "This work represented the culmination\n",
    "of a decade of research developing the technology.\n",
    "In 1989, LeCun's team published the first study to successfully\n",
    "train CNNs via backpropagation :cite:`LeCun.Boser.Denker.ea.1989`.\n",
    "\n",
    "At the time LeNet achieved outstanding results\n",
    "matching the performance of support vector machines,\n",
    "then a dominant approach in supervised learning, achieving an error rate of less than 1% per digit.\n",
    "LeNet was eventually adapted to recognize digits\n",
    "for processing deposits in ATM machines.\n",
    "To this day, some ATMs still run the code\n",
    "that Yann LeCun and his colleague Leon Bottou wrote in the 1990s!\n",
    "\n",
    "\n",
    "## LeNet\n",
    "\n",
    "At a high level, (**LeNet (LeNet-5) consists of two parts:\n",
    "(i) a convolutional encoder consisting of two convolutional layers; and\n",
    "(ii) a dense block consisting of three fully connected layers**);\n",
    "The architecture is summarized in :numref:`img_lenet`.\n",
    "\n",
    "![Data flow in LeNet. The input is a handwritten digit, the output a probability over 10 possible outcomes.](http://d2l.ai/_images/lenet.svg)\n",
    ":label:`img_lenet`\n",
    "\n",
    "The basic units in each convolutional block\n",
    "are a convolutional layer, a sigmoid activation function,\n",
    "and a subsequent average pooling operation.\n",
    "Note that while ReLUs and max-pooling work better,\n",
    "these discoveries had not yet been made at the time.\n",
    "Each convolutional layer uses a $5\\times 5$ kernel\n",
    "and a sigmoid activation function.\n",
    "These layers map spatially arranged inputs\n",
    "to a number of two-dimensional feature maps, typically\n",
    "increasing the number of channels.\n",
    "The first convolutional layer has 6 output channels,\n",
    "while the second has 16.\n",
    "Each $2\\times2$ pooling operation (stride 2)\n",
    "reduces dimensionality by a factor of $4$ via spatial downsampling.\n",
    "The convolutional block emits an output with shape given by\n",
    "(batch size, number of channel, height, width).\n",
    "\n",
    "In order to pass output from the convolutional block\n",
    "to the dense block,\n",
    "we must flatten each example in the minibatch.\n",
    "In other words, we take this four-dimensional input and transform it\n",
    "into the two-dimensional input expected by fully connected layers:\n",
    "as a reminder, the two-dimensional representation that we desire uses the first dimension to index examples in the minibatch\n",
    "and the second to give the flat vector representation of each example.\n",
    "LeNet's dense block has three fully connected layers,\n",
    "with 120, 84, and 10 outputs, respectively.\n",
    "Because we are still performing classification,\n",
    "the 10-dimensional output layer corresponds\n",
    "to the number of possible output classes.\n",
    "\n",
    "While getting to the point where you truly understand\n",
    "what is going on inside LeNet may have taken a bit of work,\n",
    "hopefully the following code snippet will convince you\n",
    "that implementing such models with modern deep learning frameworks\n",
    "is remarkably simple.\n",
    "We need only to instantiate a `Sequential` block\n",
    "and chain together the appropriate layers,\n",
    "using Xavier initialization as\n",
    "introduced in :numref:`subsec_xavier`.\n"
   ]
  },
  {
   "cell_type": "code",
   "execution_count": 5,
   "id": "cb02a622",
   "metadata": {
    "execution": {
     "iopub.execute_input": "2022-07-13T22:28:49.833914Z",
     "iopub.status.busy": "2022-07-13T22:28:49.833352Z",
     "iopub.status.idle": "2022-07-13T22:28:53.732057Z",
     "shell.execute_reply": "2022-07-13T22:28:53.731054Z"
    },
    "origin_pos": 3,
    "tab": [
     "pytorch"
    ]
   },
   "outputs": [],
   "source": [
    "import jax\n",
    "from jax import numpy as jnp, random, grad, vmap, jit\n",
    "from flax import linen as nn\n",
    "import optax\n",
    "# from d2l import jax as d2l"
   ]
  },
  {
   "cell_type": "code",
   "execution_count": 6,
   "id": "fdf7317e",
   "metadata": {},
   "outputs": [],
   "source": [
    "from functools import partial\n",
    "\n",
    "XaviarConv = partial(nn.Conv, kernel_init=nn.initializers.xavier_uniform()) # @save\n",
    "XaviarDense = partial(nn.Dense, kernel_init=nn.initializers.xavier_uniform()) # @save"
   ]
  },
  {
   "cell_type": "code",
   "execution_count": 7,
   "id": "216a3bed",
   "metadata": {
    "execution": {
     "iopub.execute_input": "2022-07-13T22:28:53.744158Z",
     "iopub.status.busy": "2022-07-13T22:28:53.743529Z",
     "iopub.status.idle": "2022-07-13T22:28:53.749396Z",
     "shell.execute_reply": "2022-07-13T22:28:53.748618Z"
    },
    "origin_pos": 6,
    "tab": [
     "pytorch"
    ]
   },
   "outputs": [],
   "source": [
    "class LeNet(d2l.Classifier):\n",
    "    lr: float = 0.1\n",
    "    num_classes: int = 10\n",
    "\n",
    "    def setup(self):\n",
    "        pool_2d = lambda x: nn.avg_pool(x, window_shape=(2, 2), strides=(2, 2))\n",
    "        flatten = lambda x: x.reshape((x.shape[0], -1))\n",
    "\n",
    "        self.net = [\n",
    "            XaviarConv(6, kernel_size=(5, 5), padding='same'), nn.sigmoid,\n",
    "            pool_2d,\n",
    "            XaviarConv(16, kernel_size=(5, 5), padding='valid'), nn.sigmoid,\n",
    "            pool_2d,\n",
    "            flatten,\n",
    "            XaviarDense(120), nn.sigmoid,\n",
    "            XaviarDense(84), nn.sigmoid,\n",
    "            XaviarDense(self.num_classes)\n",
    "        ]"
   ]
  },
  {
   "cell_type": "markdown",
   "id": "090d0e1e",
   "metadata": {
    "origin_pos": 7
   },
   "source": [
    "We take some liberty in the reproduction of LeNet insofar as we replace the Gaussian activation layer by\n",
    "a softmax layer. This greatly simplifies the implementation, not the least due to the\n",
    "fact that the Gaussian decoder is rarely used nowadays. Other than that, this network matches\n",
    "the original LeNet-5 architecture.\n",
    "\n",
    "Let's see what happens inside the network. By passing a\n",
    "single-channel (black and white)\n",
    "$28 \\times 28$ image through the network\n",
    "and printing the output shape at each layer,\n",
    "we can [**inspect the model**] to make sure\n",
    "that its operations line up with\n",
    "what we expect from :numref:`img_lenet_vert`.\n",
    "\n",
    "![Compressed notation for LeNet-5.](../img/lenet-vert.svg)\n",
    ":label:`img_lenet_vert`\n"
   ]
  },
  {
   "cell_type": "code",
   "execution_count": 8,
   "id": "accd80ed",
   "metadata": {},
   "outputs": [
    {
     "name": "stdout",
     "output_type": "stream",
     "text": [
      "Conv output shape:\t (1, 28, 28, 6)\n",
      "CompiledFunction output shape:\t (1, 28, 28, 6)\n",
      "function output shape:\t (1, 14, 14, 6)\n",
      "Conv output shape:\t (1, 10, 10, 16)\n",
      "CompiledFunction output shape:\t (1, 10, 10, 16)\n",
      "function output shape:\t (1, 5, 5, 16)\n",
      "function output shape:\t (1, 400)\n",
      "Dense output shape:\t (1, 120)\n",
      "CompiledFunction output shape:\t (1, 120)\n",
      "Dense output shape:\t (1, 84)\n",
      "CompiledFunction output shape:\t (1, 84)\n",
      "Dense output shape:\t (1, 10)\n"
     ]
    }
   ],
   "source": [
    "@d2l.add_to_class(LeNet)\n",
    "def __call__(self, X):\n",
    "    for layer in self.net:\n",
    "        X = layer(X)\n",
    "        print(layer.__class__.__name__, 'output shape:\\t', X.shape)\n",
    "    return X\n",
    "\n",
    "model = LeNet()\n",
    "dummy = jnp.empty((1, 28, 28, 1))\n",
    "params, out = model.init_with_output(random.PRNGKey(0), dummy)\n",
    "\n",
    "# using the tabulate function\n",
    "# LeNet().tabulate(random.PRNGKey(0), jnp.empty((1, 28, 28, 1)))"
   ]
  },
  {
   "cell_type": "markdown",
   "id": "dd6df27f",
   "metadata": {
    "origin_pos": 10
   },
   "source": [
    "Note that the height and width of the representation\n",
    "at each layer throughout the convolutional block\n",
    "is reduced (compared with the previous layer).\n",
    "The first convolutional layer uses 2 pixels of padding\n",
    "to compensate for the reduction in height and width\n",
    "that would otherwise result from using a $5 \\times 5$ kernel.\n",
    "As an aside, the image size of $28 \\times 28$ pixels in the original\n",
    "MNIST OCR dataset is a result of *trimming* 2 pixel rows (and columns) from the\n",
    "original scans that measured $32 \\times 32$ pixels. This was done primarily to\n",
    "save space (a 30% reduction) at a time when Megabytes mattered.\n",
    "\n",
    "In contrast, the second convolutional layer forgoes padding,\n",
    "and thus the height and width are both reduced by 4 pixels.\n",
    "As we go up the stack of layers,\n",
    "the number of channels increases layer-over-layer\n",
    "from 1 in the input to 6 after the first convolutional layer\n",
    "and 16 after the second convolutional layer.\n",
    "However, each pooling layer halves the height and width.\n",
    "Finally, each fully connected layer reduces dimensionality,\n",
    "finally emitting an output whose dimension\n",
    "matches the number of classes.\n",
    "\n",
    "\n",
    "## Training\n",
    "\n",
    "Now that we have implemented the model,\n",
    "let's [**run an experiment to see how the LeNet-5 model fares on Fashion-MNIST**].\n",
    "\n",
    "While CNNs have fewer parameters,\n",
    "they can still be more expensive to compute\n",
    "than similarly deep MLPs\n",
    "because each parameter participates in many more\n",
    "multiplications.\n",
    "If you have access to a GPU, this might be a good time\n",
    "to put it into action to speed up training.\n",
    "Note that\n",
    "the `d2l.Trainer` class takes care of all details.\n",
    "By default, it initializes the model parameters on the\n",
    "available devices.\n",
    "Just as with MLPs, our loss function is cross-entropy,\n",
    "and we minimize it via minibatch stochastic gradient descent.\n"
   ]
  },
  {
   "cell_type": "code",
   "execution_count": 9,
   "id": "4970d418",
   "metadata": {},
   "outputs": [
    {
     "data": {
      "image/svg+xml": "<?xml version=\"1.0\" encoding=\"utf-8\" standalone=\"no\"?>\n<!DOCTYPE svg PUBLIC \"-//W3C//DTD SVG 1.1//EN\"\n  \"http://www.w3.org/Graphics/SVG/1.1/DTD/svg11.dtd\">\n<svg xmlns:xlink=\"http://www.w3.org/1999/xlink\" width=\"238.965625pt\" height=\"180.65625pt\" viewBox=\"0 0 238.965625 180.65625\" xmlns=\"http://www.w3.org/2000/svg\" version=\"1.1\">\n <metadata>\n  <rdf:RDF xmlns:dc=\"http://purl.org/dc/elements/1.1/\" xmlns:cc=\"http://creativecommons.org/ns#\" xmlns:rdf=\"http://www.w3.org/1999/02/22-rdf-syntax-ns#\">\n   <cc:Work>\n    <dc:type rdf:resource=\"http://purl.org/dc/dcmitype/StillImage\"/>\n    <dc:date>2022-08-05T14:00:02.361118</dc:date>\n    <dc:format>image/svg+xml</dc:format>\n    <dc:creator>\n     <cc:Agent>\n      <dc:title>Matplotlib v3.5.1, https://matplotlib.org/</dc:title>\n     </cc:Agent>\n    </dc:creator>\n   </cc:Work>\n  </rdf:RDF>\n </metadata>\n <defs>\n  <style type=\"text/css\">*{stroke-linejoin: round; stroke-linecap: butt}</style>\n </defs>\n <g id=\"figure_1\">\n  <g id=\"patch_1\">\n   <path d=\"M 0 180.65625 \nL 238.965625 180.65625 \nL 238.965625 0 \nL 0 0 \nL 0 180.65625 \nz\n\" style=\"fill: none\"/>\n  </g>\n  <g id=\"axes_1\">\n   <g id=\"patch_2\">\n    <path d=\"M 30.103125 143.1 \nL 225.403125 143.1 \nL 225.403125 7.2 \nL 30.103125 7.2 \nz\n\" style=\"fill: #ffffff\"/>\n   </g>\n   <g id=\"matplotlib.axis_1\">\n    <g id=\"xtick_1\">\n     <g id=\"line2d_1\">\n      <defs>\n       <path id=\"m22bcc5421b\" d=\"M 0 0 \nL 0 3.5 \n\" style=\"stroke: #000000; stroke-width: 0.8\"/>\n      </defs>\n      <g>\n       <use xlink:href=\"#m22bcc5421b\" x=\"30.103125\" y=\"143.1\" style=\"stroke: #000000; stroke-width: 0.8\"/>\n      </g>\n     </g>\n     <g id=\"text_1\">\n      <!-- 0 -->\n      <g transform=\"translate(26.921875 157.698438)scale(0.1 -0.1)\">\n       <defs>\n        <path id=\"DejaVuSans-30\" d=\"M 2034 4250 \nQ 1547 4250 1301 3770 \nQ 1056 3291 1056 2328 \nQ 1056 1369 1301 889 \nQ 1547 409 2034 409 \nQ 2525 409 2770 889 \nQ 3016 1369 3016 2328 \nQ 3016 3291 2770 3770 \nQ 2525 4250 2034 4250 \nz\nM 2034 4750 \nQ 2819 4750 3233 4129 \nQ 3647 3509 3647 2328 \nQ 3647 1150 3233 529 \nQ 2819 -91 2034 -91 \nQ 1250 -91 836 529 \nQ 422 1150 422 2328 \nQ 422 3509 836 4129 \nQ 1250 4750 2034 4750 \nz\n\" transform=\"scale(0.015625)\"/>\n       </defs>\n       <use xlink:href=\"#DejaVuSans-30\"/>\n      </g>\n     </g>\n    </g>\n    <g id=\"xtick_2\">\n     <g id=\"line2d_2\">\n      <g>\n       <use xlink:href=\"#m22bcc5421b\" x=\"69.163125\" y=\"143.1\" style=\"stroke: #000000; stroke-width: 0.8\"/>\n      </g>\n     </g>\n     <g id=\"text_2\">\n      <!-- 2 -->\n      <g transform=\"translate(65.981875 157.698438)scale(0.1 -0.1)\">\n       <defs>\n        <path id=\"DejaVuSans-32\" d=\"M 1228 531 \nL 3431 531 \nL 3431 0 \nL 469 0 \nL 469 531 \nQ 828 903 1448 1529 \nQ 2069 2156 2228 2338 \nQ 2531 2678 2651 2914 \nQ 2772 3150 2772 3378 \nQ 2772 3750 2511 3984 \nQ 2250 4219 1831 4219 \nQ 1534 4219 1204 4116 \nQ 875 4013 500 3803 \nL 500 4441 \nQ 881 4594 1212 4672 \nQ 1544 4750 1819 4750 \nQ 2544 4750 2975 4387 \nQ 3406 4025 3406 3419 \nQ 3406 3131 3298 2873 \nQ 3191 2616 2906 2266 \nQ 2828 2175 2409 1742 \nQ 1991 1309 1228 531 \nz\n\" transform=\"scale(0.015625)\"/>\n       </defs>\n       <use xlink:href=\"#DejaVuSans-32\"/>\n      </g>\n     </g>\n    </g>\n    <g id=\"xtick_3\">\n     <g id=\"line2d_3\">\n      <g>\n       <use xlink:href=\"#m22bcc5421b\" x=\"108.223125\" y=\"143.1\" style=\"stroke: #000000; stroke-width: 0.8\"/>\n      </g>\n     </g>\n     <g id=\"text_3\">\n      <!-- 4 -->\n      <g transform=\"translate(105.041875 157.698438)scale(0.1 -0.1)\">\n       <defs>\n        <path id=\"DejaVuSans-34\" d=\"M 2419 4116 \nL 825 1625 \nL 2419 1625 \nL 2419 4116 \nz\nM 2253 4666 \nL 3047 4666 \nL 3047 1625 \nL 3713 1625 \nL 3713 1100 \nL 3047 1100 \nL 3047 0 \nL 2419 0 \nL 2419 1100 \nL 313 1100 \nL 313 1709 \nL 2253 4666 \nz\n\" transform=\"scale(0.015625)\"/>\n       </defs>\n       <use xlink:href=\"#DejaVuSans-34\"/>\n      </g>\n     </g>\n    </g>\n    <g id=\"xtick_4\">\n     <g id=\"line2d_4\">\n      <g>\n       <use xlink:href=\"#m22bcc5421b\" x=\"147.283125\" y=\"143.1\" style=\"stroke: #000000; stroke-width: 0.8\"/>\n      </g>\n     </g>\n     <g id=\"text_4\">\n      <!-- 6 -->\n      <g transform=\"translate(144.101875 157.698438)scale(0.1 -0.1)\">\n       <defs>\n        <path id=\"DejaVuSans-36\" d=\"M 2113 2584 \nQ 1688 2584 1439 2293 \nQ 1191 2003 1191 1497 \nQ 1191 994 1439 701 \nQ 1688 409 2113 409 \nQ 2538 409 2786 701 \nQ 3034 994 3034 1497 \nQ 3034 2003 2786 2293 \nQ 2538 2584 2113 2584 \nz\nM 3366 4563 \nL 3366 3988 \nQ 3128 4100 2886 4159 \nQ 2644 4219 2406 4219 \nQ 1781 4219 1451 3797 \nQ 1122 3375 1075 2522 \nQ 1259 2794 1537 2939 \nQ 1816 3084 2150 3084 \nQ 2853 3084 3261 2657 \nQ 3669 2231 3669 1497 \nQ 3669 778 3244 343 \nQ 2819 -91 2113 -91 \nQ 1303 -91 875 529 \nQ 447 1150 447 2328 \nQ 447 3434 972 4092 \nQ 1497 4750 2381 4750 \nQ 2619 4750 2861 4703 \nQ 3103 4656 3366 4563 \nz\n\" transform=\"scale(0.015625)\"/>\n       </defs>\n       <use xlink:href=\"#DejaVuSans-36\"/>\n      </g>\n     </g>\n    </g>\n    <g id=\"xtick_5\">\n     <g id=\"line2d_5\">\n      <g>\n       <use xlink:href=\"#m22bcc5421b\" x=\"186.343125\" y=\"143.1\" style=\"stroke: #000000; stroke-width: 0.8\"/>\n      </g>\n     </g>\n     <g id=\"text_5\">\n      <!-- 8 -->\n      <g transform=\"translate(183.161875 157.698438)scale(0.1 -0.1)\">\n       <defs>\n        <path id=\"DejaVuSans-38\" d=\"M 2034 2216 \nQ 1584 2216 1326 1975 \nQ 1069 1734 1069 1313 \nQ 1069 891 1326 650 \nQ 1584 409 2034 409 \nQ 2484 409 2743 651 \nQ 3003 894 3003 1313 \nQ 3003 1734 2745 1975 \nQ 2488 2216 2034 2216 \nz\nM 1403 2484 \nQ 997 2584 770 2862 \nQ 544 3141 544 3541 \nQ 544 4100 942 4425 \nQ 1341 4750 2034 4750 \nQ 2731 4750 3128 4425 \nQ 3525 4100 3525 3541 \nQ 3525 3141 3298 2862 \nQ 3072 2584 2669 2484 \nQ 3125 2378 3379 2068 \nQ 3634 1759 3634 1313 \nQ 3634 634 3220 271 \nQ 2806 -91 2034 -91 \nQ 1263 -91 848 271 \nQ 434 634 434 1313 \nQ 434 1759 690 2068 \nQ 947 2378 1403 2484 \nz\nM 1172 3481 \nQ 1172 3119 1398 2916 \nQ 1625 2713 2034 2713 \nQ 2441 2713 2670 2916 \nQ 2900 3119 2900 3481 \nQ 2900 3844 2670 4047 \nQ 2441 4250 2034 4250 \nQ 1625 4250 1398 4047 \nQ 1172 3844 1172 3481 \nz\n\" transform=\"scale(0.015625)\"/>\n       </defs>\n       <use xlink:href=\"#DejaVuSans-38\"/>\n      </g>\n     </g>\n    </g>\n    <g id=\"xtick_6\">\n     <g id=\"line2d_6\">\n      <g>\n       <use xlink:href=\"#m22bcc5421b\" x=\"225.403125\" y=\"143.1\" style=\"stroke: #000000; stroke-width: 0.8\"/>\n      </g>\n     </g>\n     <g id=\"text_6\">\n      <!-- 10 -->\n      <g transform=\"translate(219.040625 157.698438)scale(0.1 -0.1)\">\n       <defs>\n        <path id=\"DejaVuSans-31\" d=\"M 794 531 \nL 1825 531 \nL 1825 4091 \nL 703 3866 \nL 703 4441 \nL 1819 4666 \nL 2450 4666 \nL 2450 531 \nL 3481 531 \nL 3481 0 \nL 794 0 \nL 794 531 \nz\n\" transform=\"scale(0.015625)\"/>\n       </defs>\n       <use xlink:href=\"#DejaVuSans-31\"/>\n       <use xlink:href=\"#DejaVuSans-30\" x=\"63.623047\"/>\n      </g>\n     </g>\n    </g>\n    <g id=\"text_7\">\n     <!-- epoch -->\n     <g transform=\"translate(112.525 171.376563)scale(0.1 -0.1)\">\n      <defs>\n       <path id=\"DejaVuSans-65\" d=\"M 3597 1894 \nL 3597 1613 \nL 953 1613 \nQ 991 1019 1311 708 \nQ 1631 397 2203 397 \nQ 2534 397 2845 478 \nQ 3156 559 3463 722 \nL 3463 178 \nQ 3153 47 2828 -22 \nQ 2503 -91 2169 -91 \nQ 1331 -91 842 396 \nQ 353 884 353 1716 \nQ 353 2575 817 3079 \nQ 1281 3584 2069 3584 \nQ 2775 3584 3186 3129 \nQ 3597 2675 3597 1894 \nz\nM 3022 2063 \nQ 3016 2534 2758 2815 \nQ 2500 3097 2075 3097 \nQ 1594 3097 1305 2825 \nQ 1016 2553 972 2059 \nL 3022 2063 \nz\n\" transform=\"scale(0.015625)\"/>\n       <path id=\"DejaVuSans-70\" d=\"M 1159 525 \nL 1159 -1331 \nL 581 -1331 \nL 581 3500 \nL 1159 3500 \nL 1159 2969 \nQ 1341 3281 1617 3432 \nQ 1894 3584 2278 3584 \nQ 2916 3584 3314 3078 \nQ 3713 2572 3713 1747 \nQ 3713 922 3314 415 \nQ 2916 -91 2278 -91 \nQ 1894 -91 1617 61 \nQ 1341 213 1159 525 \nz\nM 3116 1747 \nQ 3116 2381 2855 2742 \nQ 2594 3103 2138 3103 \nQ 1681 3103 1420 2742 \nQ 1159 2381 1159 1747 \nQ 1159 1113 1420 752 \nQ 1681 391 2138 391 \nQ 2594 391 2855 752 \nQ 3116 1113 3116 1747 \nz\n\" transform=\"scale(0.015625)\"/>\n       <path id=\"DejaVuSans-6f\" d=\"M 1959 3097 \nQ 1497 3097 1228 2736 \nQ 959 2375 959 1747 \nQ 959 1119 1226 758 \nQ 1494 397 1959 397 \nQ 2419 397 2687 759 \nQ 2956 1122 2956 1747 \nQ 2956 2369 2687 2733 \nQ 2419 3097 1959 3097 \nz\nM 1959 3584 \nQ 2709 3584 3137 3096 \nQ 3566 2609 3566 1747 \nQ 3566 888 3137 398 \nQ 2709 -91 1959 -91 \nQ 1206 -91 779 398 \nQ 353 888 353 1747 \nQ 353 2609 779 3096 \nQ 1206 3584 1959 3584 \nz\n\" transform=\"scale(0.015625)\"/>\n       <path id=\"DejaVuSans-63\" d=\"M 3122 3366 \nL 3122 2828 \nQ 2878 2963 2633 3030 \nQ 2388 3097 2138 3097 \nQ 1578 3097 1268 2742 \nQ 959 2388 959 1747 \nQ 959 1106 1268 751 \nQ 1578 397 2138 397 \nQ 2388 397 2633 464 \nQ 2878 531 3122 666 \nL 3122 134 \nQ 2881 22 2623 -34 \nQ 2366 -91 2075 -91 \nQ 1284 -91 818 406 \nQ 353 903 353 1747 \nQ 353 2603 823 3093 \nQ 1294 3584 2113 3584 \nQ 2378 3584 2631 3529 \nQ 2884 3475 3122 3366 \nz\n\" transform=\"scale(0.015625)\"/>\n       <path id=\"DejaVuSans-68\" d=\"M 3513 2113 \nL 3513 0 \nL 2938 0 \nL 2938 2094 \nQ 2938 2591 2744 2837 \nQ 2550 3084 2163 3084 \nQ 1697 3084 1428 2787 \nQ 1159 2491 1159 1978 \nL 1159 0 \nL 581 0 \nL 581 4863 \nL 1159 4863 \nL 1159 2956 \nQ 1366 3272 1645 3428 \nQ 1925 3584 2291 3584 \nQ 2894 3584 3203 3211 \nQ 3513 2838 3513 2113 \nz\n\" transform=\"scale(0.015625)\"/>\n      </defs>\n      <use xlink:href=\"#DejaVuSans-65\"/>\n      <use xlink:href=\"#DejaVuSans-70\" x=\"61.523438\"/>\n      <use xlink:href=\"#DejaVuSans-6f\" x=\"125\"/>\n      <use xlink:href=\"#DejaVuSans-63\" x=\"186.181641\"/>\n      <use xlink:href=\"#DejaVuSans-68\" x=\"241.162109\"/>\n     </g>\n    </g>\n   </g>\n   <g id=\"matplotlib.axis_2\">\n    <g id=\"ytick_1\">\n     <g id=\"line2d_7\">\n      <defs>\n       <path id=\"me20f2629dd\" d=\"M 0 0 \nL -3.5 0 \n\" style=\"stroke: #000000; stroke-width: 0.8\"/>\n      </defs>\n      <g>\n       <use xlink:href=\"#me20f2629dd\" x=\"30.103125\" y=\"142.444644\" style=\"stroke: #000000; stroke-width: 0.8\"/>\n      </g>\n     </g>\n     <g id=\"text_8\">\n      <!-- 0.0 -->\n      <g transform=\"translate(7.2 146.243863)scale(0.1 -0.1)\">\n       <defs>\n        <path id=\"DejaVuSans-2e\" d=\"M 684 794 \nL 1344 794 \nL 1344 0 \nL 684 0 \nL 684 794 \nz\n\" transform=\"scale(0.015625)\"/>\n       </defs>\n       <use xlink:href=\"#DejaVuSans-30\"/>\n       <use xlink:href=\"#DejaVuSans-2e\" x=\"63.623047\"/>\n       <use xlink:href=\"#DejaVuSans-30\" x=\"95.410156\"/>\n      </g>\n     </g>\n    </g>\n    <g id=\"ytick_2\">\n     <g id=\"line2d_8\">\n      <g>\n       <use xlink:href=\"#me20f2629dd\" x=\"30.103125\" y=\"114.525831\" style=\"stroke: #000000; stroke-width: 0.8\"/>\n      </g>\n     </g>\n     <g id=\"text_9\">\n      <!-- 0.5 -->\n      <g transform=\"translate(7.2 118.32505)scale(0.1 -0.1)\">\n       <defs>\n        <path id=\"DejaVuSans-35\" d=\"M 691 4666 \nL 3169 4666 \nL 3169 4134 \nL 1269 4134 \nL 1269 2991 \nQ 1406 3038 1543 3061 \nQ 1681 3084 1819 3084 \nQ 2600 3084 3056 2656 \nQ 3513 2228 3513 1497 \nQ 3513 744 3044 326 \nQ 2575 -91 1722 -91 \nQ 1428 -91 1123 -41 \nQ 819 9 494 109 \nL 494 744 \nQ 775 591 1075 516 \nQ 1375 441 1709 441 \nQ 2250 441 2565 725 \nQ 2881 1009 2881 1497 \nQ 2881 1984 2565 2268 \nQ 2250 2553 1709 2553 \nQ 1456 2553 1204 2497 \nQ 953 2441 691 2322 \nL 691 4666 \nz\n\" transform=\"scale(0.015625)\"/>\n       </defs>\n       <use xlink:href=\"#DejaVuSans-30\"/>\n       <use xlink:href=\"#DejaVuSans-2e\" x=\"63.623047\"/>\n       <use xlink:href=\"#DejaVuSans-35\" x=\"95.410156\"/>\n      </g>\n     </g>\n    </g>\n    <g id=\"ytick_3\">\n     <g id=\"line2d_9\">\n      <g>\n       <use xlink:href=\"#me20f2629dd\" x=\"30.103125\" y=\"86.607019\" style=\"stroke: #000000; stroke-width: 0.8\"/>\n      </g>\n     </g>\n     <g id=\"text_10\">\n      <!-- 1.0 -->\n      <g transform=\"translate(7.2 90.406237)scale(0.1 -0.1)\">\n       <use xlink:href=\"#DejaVuSans-31\"/>\n       <use xlink:href=\"#DejaVuSans-2e\" x=\"63.623047\"/>\n       <use xlink:href=\"#DejaVuSans-30\" x=\"95.410156\"/>\n      </g>\n     </g>\n    </g>\n    <g id=\"ytick_4\">\n     <g id=\"line2d_10\">\n      <g>\n       <use xlink:href=\"#me20f2629dd\" x=\"30.103125\" y=\"58.688206\" style=\"stroke: #000000; stroke-width: 0.8\"/>\n      </g>\n     </g>\n     <g id=\"text_11\">\n      <!-- 1.5 -->\n      <g transform=\"translate(7.2 62.487424)scale(0.1 -0.1)\">\n       <use xlink:href=\"#DejaVuSans-31\"/>\n       <use xlink:href=\"#DejaVuSans-2e\" x=\"63.623047\"/>\n       <use xlink:href=\"#DejaVuSans-35\" x=\"95.410156\"/>\n      </g>\n     </g>\n    </g>\n    <g id=\"ytick_5\">\n     <g id=\"line2d_11\">\n      <g>\n       <use xlink:href=\"#me20f2629dd\" x=\"30.103125\" y=\"30.769393\" style=\"stroke: #000000; stroke-width: 0.8\"/>\n      </g>\n     </g>\n     <g id=\"text_12\">\n      <!-- 2.0 -->\n      <g transform=\"translate(7.2 34.568611)scale(0.1 -0.1)\">\n       <use xlink:href=\"#DejaVuSans-32\"/>\n       <use xlink:href=\"#DejaVuSans-2e\" x=\"63.623047\"/>\n       <use xlink:href=\"#DejaVuSans-30\" x=\"95.410156\"/>\n      </g>\n     </g>\n    </g>\n   </g>\n   <g id=\"line2d_12\">\n    <path d=\"M 34.954394 13.377273 \n\" clip-path=\"url(#pdcf9acd67b)\" style=\"fill: none; stroke: #1f77b4; stroke-width: 1.5; stroke-linecap: square\"/>\n   </g>\n   <g id=\"line2d_13\">\n    <path d=\"M 34.954394 13.377273 \nL 44.698573 13.591754 \n\" clip-path=\"url(#pdcf9acd67b)\" style=\"fill: none; stroke: #1f77b4; stroke-width: 1.5; stroke-linecap: square\"/>\n   </g>\n   <g id=\"line2d_14\">\n    <path d=\"M 34.954394 13.377273 \nL 44.698573 13.591754 \n\" clip-path=\"url(#pdcf9acd67b)\" style=\"fill: none; stroke: #1f77b4; stroke-width: 1.5; stroke-linecap: square\"/>\n   </g>\n   <g id=\"line2d_15\">\n    <path d=\"M 49.633125 13.65017 \n\" clip-path=\"url(#pdcf9acd67b)\" style=\"fill: none; stroke-dasharray: 5.55,2.4; stroke-dashoffset: 0; stroke: #ff7f0e; stroke-width: 1.5\"/>\n   </g>\n   <g id=\"line2d_16\"/>\n   <g id=\"line2d_17\">\n    <path d=\"M 34.954394 13.377273 \nL 44.698573 13.591754 \n\" clip-path=\"url(#pdcf9acd67b)\" style=\"fill: none; stroke: #1f77b4; stroke-width: 1.5; stroke-linecap: square\"/>\n   </g>\n   <g id=\"line2d_18\">\n    <path d=\"M 49.633125 13.65017 \n\" clip-path=\"url(#pdcf9acd67b)\" style=\"fill: none; stroke-dasharray: 5.55,2.4; stroke-dashoffset: 0; stroke: #ff7f0e; stroke-width: 1.5\"/>\n   </g>\n   <g id=\"line2d_19\">\n    <path d=\"M 49.633125 136.884074 \n\" clip-path=\"url(#pdcf9acd67b)\" style=\"fill: none; stroke-dasharray: 9.6,2.4,1.5,2.4; stroke-dashoffset: 0; stroke: #2ca02c; stroke-width: 1.5\"/>\n   </g>\n   <g id=\"line2d_20\">\n    <path d=\"M 34.954394 13.377273 \nL 44.698573 13.591754 \nL 54.442752 13.674945 \n\" clip-path=\"url(#pdcf9acd67b)\" style=\"fill: none; stroke: #1f77b4; stroke-width: 1.5; stroke-linecap: square\"/>\n   </g>\n   <g id=\"line2d_21\">\n    <path d=\"M 49.633125 13.65017 \n\" clip-path=\"url(#pdcf9acd67b)\" style=\"fill: none; stroke-dasharray: 5.55,2.4; stroke-dashoffset: 0; stroke: #ff7f0e; stroke-width: 1.5\"/>\n   </g>\n   <g id=\"line2d_22\">\n    <path d=\"M 49.633125 136.884074 \n\" clip-path=\"url(#pdcf9acd67b)\" style=\"fill: none; stroke-dasharray: 9.6,2.4,1.5,2.4; stroke-dashoffset: 0; stroke: #2ca02c; stroke-width: 1.5\"/>\n   </g>\n   <g id=\"line2d_23\">\n    <path d=\"M 34.954394 13.377273 \nL 44.698573 13.591754 \nL 54.442752 13.674945 \nL 64.186931 13.711875 \n\" clip-path=\"url(#pdcf9acd67b)\" style=\"fill: none; stroke: #1f77b4; stroke-width: 1.5; stroke-linecap: square\"/>\n   </g>\n   <g id=\"line2d_24\">\n    <path d=\"M 49.633125 13.65017 \n\" clip-path=\"url(#pdcf9acd67b)\" style=\"fill: none; stroke-dasharray: 5.55,2.4; stroke-dashoffset: 0; stroke: #ff7f0e; stroke-width: 1.5\"/>\n   </g>\n   <g id=\"line2d_25\">\n    <path d=\"M 49.633125 136.884074 \n\" clip-path=\"url(#pdcf9acd67b)\" style=\"fill: none; stroke-dasharray: 9.6,2.4,1.5,2.4; stroke-dashoffset: 0; stroke: #2ca02c; stroke-width: 1.5\"/>\n   </g>\n   <g id=\"line2d_26\">\n    <path d=\"M 34.954394 13.377273 \nL 44.698573 13.591754 \nL 54.442752 13.674945 \nL 64.186931 13.711875 \n\" clip-path=\"url(#pdcf9acd67b)\" style=\"fill: none; stroke: #1f77b4; stroke-width: 1.5; stroke-linecap: square\"/>\n   </g>\n   <g id=\"line2d_27\">\n    <path d=\"M 49.633125 13.65017 \nL 69.163125 13.888907 \n\" clip-path=\"url(#pdcf9acd67b)\" style=\"fill: none; stroke-dasharray: 5.55,2.4; stroke-dashoffset: 0; stroke: #ff7f0e; stroke-width: 1.5\"/>\n   </g>\n   <g id=\"line2d_28\">\n    <path d=\"M 49.633125 136.884074 \n\" clip-path=\"url(#pdcf9acd67b)\" style=\"fill: none; stroke-dasharray: 9.6,2.4,1.5,2.4; stroke-dashoffset: 0; stroke: #2ca02c; stroke-width: 1.5\"/>\n   </g>\n   <g id=\"line2d_29\">\n    <path d=\"M 34.954394 13.377273 \nL 44.698573 13.591754 \nL 54.442752 13.674945 \nL 64.186931 13.711875 \n\" clip-path=\"url(#pdcf9acd67b)\" style=\"fill: none; stroke: #1f77b4; stroke-width: 1.5; stroke-linecap: square\"/>\n   </g>\n   <g id=\"line2d_30\">\n    <path d=\"M 49.633125 13.65017 \nL 69.163125 13.888907 \n\" clip-path=\"url(#pdcf9acd67b)\" style=\"fill: none; stroke-dasharray: 5.55,2.4; stroke-dashoffset: 0; stroke: #ff7f0e; stroke-width: 1.5\"/>\n   </g>\n   <g id=\"line2d_31\">\n    <path d=\"M 49.633125 136.884074 \nL 69.163125 136.922727 \n\" clip-path=\"url(#pdcf9acd67b)\" style=\"fill: none; stroke-dasharray: 9.6,2.4,1.5,2.4; stroke-dashoffset: 0; stroke: #2ca02c; stroke-width: 1.5\"/>\n   </g>\n   <g id=\"line2d_32\">\n    <path d=\"M 34.954394 13.377273 \nL 44.698573 13.591754 \nL 54.442752 13.674945 \nL 64.186931 13.711875 \nL 73.93111 13.877232 \n\" clip-path=\"url(#pdcf9acd67b)\" style=\"fill: none; stroke: #1f77b4; stroke-width: 1.5; stroke-linecap: square\"/>\n   </g>\n   <g id=\"line2d_33\">\n    <path d=\"M 49.633125 13.65017 \nL 69.163125 13.888907 \n\" clip-path=\"url(#pdcf9acd67b)\" style=\"fill: none; stroke-dasharray: 5.55,2.4; stroke-dashoffset: 0; stroke: #ff7f0e; stroke-width: 1.5\"/>\n   </g>\n   <g id=\"line2d_34\">\n    <path d=\"M 49.633125 136.884074 \nL 69.163125 136.922727 \n\" clip-path=\"url(#pdcf9acd67b)\" style=\"fill: none; stroke-dasharray: 9.6,2.4,1.5,2.4; stroke-dashoffset: 0; stroke: #2ca02c; stroke-width: 1.5\"/>\n   </g>\n   <g id=\"line2d_35\">\n    <path d=\"M 34.954394 13.377273 \nL 44.698573 13.591754 \nL 54.442752 13.674945 \nL 64.186931 13.711875 \nL 73.93111 13.877232 \nL 83.675289 14.291844 \n\" clip-path=\"url(#pdcf9acd67b)\" style=\"fill: none; stroke: #1f77b4; stroke-width: 1.5; stroke-linecap: square\"/>\n   </g>\n   <g id=\"line2d_36\">\n    <path d=\"M 49.633125 13.65017 \nL 69.163125 13.888907 \n\" clip-path=\"url(#pdcf9acd67b)\" style=\"fill: none; stroke-dasharray: 5.55,2.4; stroke-dashoffset: 0; stroke: #ff7f0e; stroke-width: 1.5\"/>\n   </g>\n   <g id=\"line2d_37\">\n    <path d=\"M 49.633125 136.884074 \nL 69.163125 136.922727 \n\" clip-path=\"url(#pdcf9acd67b)\" style=\"fill: none; stroke-dasharray: 9.6,2.4,1.5,2.4; stroke-dashoffset: 0; stroke: #2ca02c; stroke-width: 1.5\"/>\n   </g>\n   <g id=\"line2d_38\">\n    <path d=\"M 34.954394 13.377273 \nL 44.698573 13.591754 \nL 54.442752 13.674945 \nL 64.186931 13.711875 \nL 73.93111 13.877232 \nL 83.675289 14.291844 \n\" clip-path=\"url(#pdcf9acd67b)\" style=\"fill: none; stroke: #1f77b4; stroke-width: 1.5; stroke-linecap: square\"/>\n   </g>\n   <g id=\"line2d_39\">\n    <path d=\"M 49.633125 13.65017 \nL 69.163125 13.888907 \nL 88.693125 14.618671 \n\" clip-path=\"url(#pdcf9acd67b)\" style=\"fill: none; stroke-dasharray: 5.55,2.4; stroke-dashoffset: 0; stroke: #ff7f0e; stroke-width: 1.5\"/>\n   </g>\n   <g id=\"line2d_40\">\n    <path d=\"M 49.633125 136.884074 \nL 69.163125 136.922727 \n\" clip-path=\"url(#pdcf9acd67b)\" style=\"fill: none; stroke-dasharray: 9.6,2.4,1.5,2.4; stroke-dashoffset: 0; stroke: #2ca02c; stroke-width: 1.5\"/>\n   </g>\n   <g id=\"line2d_41\">\n    <path d=\"M 34.954394 13.377273 \nL 44.698573 13.591754 \nL 54.442752 13.674945 \nL 64.186931 13.711875 \nL 73.93111 13.877232 \nL 83.675289 14.291844 \n\" clip-path=\"url(#pdcf9acd67b)\" style=\"fill: none; stroke: #1f77b4; stroke-width: 1.5; stroke-linecap: square\"/>\n   </g>\n   <g id=\"line2d_42\">\n    <path d=\"M 49.633125 13.65017 \nL 69.163125 13.888907 \nL 88.693125 14.618671 \n\" clip-path=\"url(#pdcf9acd67b)\" style=\"fill: none; stroke-dasharray: 5.55,2.4; stroke-dashoffset: 0; stroke: #ff7f0e; stroke-width: 1.5\"/>\n   </g>\n   <g id=\"line2d_43\">\n    <path d=\"M 49.633125 136.884074 \nL 69.163125 136.922727 \nL 88.693125 136.806767 \n\" clip-path=\"url(#pdcf9acd67b)\" style=\"fill: none; stroke-dasharray: 9.6,2.4,1.5,2.4; stroke-dashoffset: 0; stroke: #2ca02c; stroke-width: 1.5\"/>\n   </g>\n   <g id=\"line2d_44\">\n    <path d=\"M 34.954394 13.377273 \nL 44.698573 13.591754 \nL 54.442752 13.674945 \nL 64.186931 13.711875 \nL 73.93111 13.877232 \nL 83.675289 14.291844 \nL 93.419468 17.054008 \n\" clip-path=\"url(#pdcf9acd67b)\" style=\"fill: none; stroke: #1f77b4; stroke-width: 1.5; stroke-linecap: square\"/>\n   </g>\n   <g id=\"line2d_45\">\n    <path d=\"M 49.633125 13.65017 \nL 69.163125 13.888907 \nL 88.693125 14.618671 \n\" clip-path=\"url(#pdcf9acd67b)\" style=\"fill: none; stroke-dasharray: 5.55,2.4; stroke-dashoffset: 0; stroke: #ff7f0e; stroke-width: 1.5\"/>\n   </g>\n   <g id=\"line2d_46\">\n    <path d=\"M 49.633125 136.884074 \nL 69.163125 136.922727 \nL 88.693125 136.806767 \n\" clip-path=\"url(#pdcf9acd67b)\" style=\"fill: none; stroke-dasharray: 9.6,2.4,1.5,2.4; stroke-dashoffset: 0; stroke: #2ca02c; stroke-width: 1.5\"/>\n   </g>\n   <g id=\"line2d_47\">\n    <path d=\"M 34.954394 13.377273 \nL 44.698573 13.591754 \nL 54.442752 13.674945 \nL 64.186931 13.711875 \nL 73.93111 13.877232 \nL 83.675289 14.291844 \nL 93.419468 17.054008 \nL 103.163647 43.867146 \n\" clip-path=\"url(#pdcf9acd67b)\" style=\"fill: none; stroke: #1f77b4; stroke-width: 1.5; stroke-linecap: square\"/>\n   </g>\n   <g id=\"line2d_48\">\n    <path d=\"M 49.633125 13.65017 \nL 69.163125 13.888907 \nL 88.693125 14.618671 \n\" clip-path=\"url(#pdcf9acd67b)\" style=\"fill: none; stroke-dasharray: 5.55,2.4; stroke-dashoffset: 0; stroke: #ff7f0e; stroke-width: 1.5\"/>\n   </g>\n   <g id=\"line2d_49\">\n    <path d=\"M 49.633125 136.884074 \nL 69.163125 136.922727 \nL 88.693125 136.806767 \n\" clip-path=\"url(#pdcf9acd67b)\" style=\"fill: none; stroke-dasharray: 9.6,2.4,1.5,2.4; stroke-dashoffset: 0; stroke: #2ca02c; stroke-width: 1.5\"/>\n   </g>\n   <g id=\"line2d_50\">\n    <path d=\"M 34.954394 13.377273 \nL 44.698573 13.591754 \nL 54.442752 13.674945 \nL 64.186931 13.711875 \nL 73.93111 13.877232 \nL 83.675289 14.291844 \nL 93.419468 17.054008 \nL 103.163647 43.867146 \n\" clip-path=\"url(#pdcf9acd67b)\" style=\"fill: none; stroke: #1f77b4; stroke-width: 1.5; stroke-linecap: square\"/>\n   </g>\n   <g id=\"line2d_51\">\n    <path d=\"M 49.633125 13.65017 \nL 69.163125 13.888907 \nL 88.693125 14.618671 \nL 108.223125 63.371317 \n\" clip-path=\"url(#pdcf9acd67b)\" style=\"fill: none; stroke-dasharray: 5.55,2.4; stroke-dashoffset: 0; stroke: #ff7f0e; stroke-width: 1.5\"/>\n   </g>\n   <g id=\"line2d_52\">\n    <path d=\"M 49.633125 136.884074 \nL 69.163125 136.922727 \nL 88.693125 136.806767 \n\" clip-path=\"url(#pdcf9acd67b)\" style=\"fill: none; stroke-dasharray: 9.6,2.4,1.5,2.4; stroke-dashoffset: 0; stroke: #2ca02c; stroke-width: 1.5\"/>\n   </g>\n   <g id=\"line2d_53\">\n    <path d=\"M 34.954394 13.377273 \nL 44.698573 13.591754 \nL 54.442752 13.674945 \nL 64.186931 13.711875 \nL 73.93111 13.877232 \nL 83.675289 14.291844 \nL 93.419468 17.054008 \nL 103.163647 43.867146 \n\" clip-path=\"url(#pdcf9acd67b)\" style=\"fill: none; stroke: #1f77b4; stroke-width: 1.5; stroke-linecap: square\"/>\n   </g>\n   <g id=\"line2d_54\">\n    <path d=\"M 49.633125 13.65017 \nL 69.163125 13.888907 \nL 88.693125 14.618671 \nL 108.223125 63.371317 \n\" clip-path=\"url(#pdcf9acd67b)\" style=\"fill: none; stroke-dasharray: 5.55,2.4; stroke-dashoffset: 0; stroke: #ff7f0e; stroke-width: 1.5\"/>\n   </g>\n   <g id=\"line2d_55\">\n    <path d=\"M 49.633125 136.884074 \nL 69.163125 136.922727 \nL 88.693125 136.806767 \nL 108.223125 112.974173 \n\" clip-path=\"url(#pdcf9acd67b)\" style=\"fill: none; stroke-dasharray: 9.6,2.4,1.5,2.4; stroke-dashoffset: 0; stroke: #2ca02c; stroke-width: 1.5\"/>\n   </g>\n   <g id=\"line2d_56\">\n    <path d=\"M 34.954394 13.377273 \nL 44.698573 13.591754 \nL 54.442752 13.674945 \nL 64.186931 13.711875 \nL 73.93111 13.877232 \nL 83.675289 14.291844 \nL 93.419468 17.054008 \nL 103.163647 43.867146 \nL 112.907826 70.81841 \n\" clip-path=\"url(#pdcf9acd67b)\" style=\"fill: none; stroke: #1f77b4; stroke-width: 1.5; stroke-linecap: square\"/>\n   </g>\n   <g id=\"line2d_57\">\n    <path d=\"M 49.633125 13.65017 \nL 69.163125 13.888907 \nL 88.693125 14.618671 \nL 108.223125 63.371317 \n\" clip-path=\"url(#pdcf9acd67b)\" style=\"fill: none; stroke-dasharray: 5.55,2.4; stroke-dashoffset: 0; stroke: #ff7f0e; stroke-width: 1.5\"/>\n   </g>\n   <g id=\"line2d_58\">\n    <path d=\"M 49.633125 136.884074 \nL 69.163125 136.922727 \nL 88.693125 136.806767 \nL 108.223125 112.974173 \n\" clip-path=\"url(#pdcf9acd67b)\" style=\"fill: none; stroke-dasharray: 9.6,2.4,1.5,2.4; stroke-dashoffset: 0; stroke: #2ca02c; stroke-width: 1.5\"/>\n   </g>\n   <g id=\"line2d_59\">\n    <path d=\"M 34.954394 13.377273 \nL 44.698573 13.591754 \nL 54.442752 13.674945 \nL 64.186931 13.711875 \nL 73.93111 13.877232 \nL 83.675289 14.291844 \nL 93.419468 17.054008 \nL 103.163647 43.867146 \nL 112.907826 70.81841 \nL 122.652006 79.706999 \n\" clip-path=\"url(#pdcf9acd67b)\" style=\"fill: none; stroke: #1f77b4; stroke-width: 1.5; stroke-linecap: square\"/>\n   </g>\n   <g id=\"line2d_60\">\n    <path d=\"M 49.633125 13.65017 \nL 69.163125 13.888907 \nL 88.693125 14.618671 \nL 108.223125 63.371317 \n\" clip-path=\"url(#pdcf9acd67b)\" style=\"fill: none; stroke-dasharray: 5.55,2.4; stroke-dashoffset: 0; stroke: #ff7f0e; stroke-width: 1.5\"/>\n   </g>\n   <g id=\"line2d_61\">\n    <path d=\"M 49.633125 136.884074 \nL 69.163125 136.922727 \nL 88.693125 136.806767 \nL 108.223125 112.974173 \n\" clip-path=\"url(#pdcf9acd67b)\" style=\"fill: none; stroke-dasharray: 9.6,2.4,1.5,2.4; stroke-dashoffset: 0; stroke: #2ca02c; stroke-width: 1.5\"/>\n   </g>\n   <g id=\"line2d_62\">\n    <path d=\"M 34.954394 13.377273 \nL 44.698573 13.591754 \nL 54.442752 13.674945 \nL 64.186931 13.711875 \nL 73.93111 13.877232 \nL 83.675289 14.291844 \nL 93.419468 17.054008 \nL 103.163647 43.867146 \nL 112.907826 70.81841 \nL 122.652006 79.706999 \n\" clip-path=\"url(#pdcf9acd67b)\" style=\"fill: none; stroke: #1f77b4; stroke-width: 1.5; stroke-linecap: square\"/>\n   </g>\n   <g id=\"line2d_63\">\n    <path d=\"M 49.633125 13.65017 \nL 69.163125 13.888907 \nL 88.693125 14.618671 \nL 108.223125 63.371317 \nL 127.753125 83.42543 \n\" clip-path=\"url(#pdcf9acd67b)\" style=\"fill: none; stroke-dasharray: 5.55,2.4; stroke-dashoffset: 0; stroke: #ff7f0e; stroke-width: 1.5\"/>\n   </g>\n   <g id=\"line2d_64\">\n    <path d=\"M 49.633125 136.884074 \nL 69.163125 136.922727 \nL 88.693125 136.806767 \nL 108.223125 112.974173 \n\" clip-path=\"url(#pdcf9acd67b)\" style=\"fill: none; stroke-dasharray: 9.6,2.4,1.5,2.4; stroke-dashoffset: 0; stroke: #2ca02c; stroke-width: 1.5\"/>\n   </g>\n   <g id=\"line2d_65\">\n    <path d=\"M 34.954394 13.377273 \nL 44.698573 13.591754 \nL 54.442752 13.674945 \nL 64.186931 13.711875 \nL 73.93111 13.877232 \nL 83.675289 14.291844 \nL 93.419468 17.054008 \nL 103.163647 43.867146 \nL 112.907826 70.81841 \nL 122.652006 79.706999 \n\" clip-path=\"url(#pdcf9acd67b)\" style=\"fill: none; stroke: #1f77b4; stroke-width: 1.5; stroke-linecap: square\"/>\n   </g>\n   <g id=\"line2d_66\">\n    <path d=\"M 49.633125 13.65017 \nL 69.163125 13.888907 \nL 88.693125 14.618671 \nL 108.223125 63.371317 \nL 127.753125 83.42543 \n\" clip-path=\"url(#pdcf9acd67b)\" style=\"fill: none; stroke-dasharray: 5.55,2.4; stroke-dashoffset: 0; stroke: #ff7f0e; stroke-width: 1.5\"/>\n   </g>\n   <g id=\"line2d_67\">\n    <path d=\"M 49.633125 136.884074 \nL 69.163125 136.922727 \nL 88.693125 136.806767 \nL 108.223125 112.974173 \nL 127.753125 108.970783 \n\" clip-path=\"url(#pdcf9acd67b)\" style=\"fill: none; stroke-dasharray: 9.6,2.4,1.5,2.4; stroke-dashoffset: 0; stroke: #2ca02c; stroke-width: 1.5\"/>\n   </g>\n   <g id=\"line2d_68\">\n    <path d=\"M 34.954394 13.377273 \nL 44.698573 13.591754 \nL 54.442752 13.674945 \nL 64.186931 13.711875 \nL 73.93111 13.877232 \nL 83.675289 14.291844 \nL 93.419468 17.054008 \nL 103.163647 43.867146 \nL 112.907826 70.81841 \nL 122.652006 79.706999 \nL 132.396185 85.532082 \n\" clip-path=\"url(#pdcf9acd67b)\" style=\"fill: none; stroke: #1f77b4; stroke-width: 1.5; stroke-linecap: square\"/>\n   </g>\n   <g id=\"line2d_69\">\n    <path d=\"M 49.633125 13.65017 \nL 69.163125 13.888907 \nL 88.693125 14.618671 \nL 108.223125 63.371317 \nL 127.753125 83.42543 \n\" clip-path=\"url(#pdcf9acd67b)\" style=\"fill: none; stroke-dasharray: 5.55,2.4; stroke-dashoffset: 0; stroke: #ff7f0e; stroke-width: 1.5\"/>\n   </g>\n   <g id=\"line2d_70\">\n    <path d=\"M 49.633125 136.884074 \nL 69.163125 136.922727 \nL 88.693125 136.806767 \nL 108.223125 112.974173 \nL 127.753125 108.970783 \n\" clip-path=\"url(#pdcf9acd67b)\" style=\"fill: none; stroke-dasharray: 9.6,2.4,1.5,2.4; stroke-dashoffset: 0; stroke: #2ca02c; stroke-width: 1.5\"/>\n   </g>\n   <g id=\"line2d_71\">\n    <path d=\"M 34.954394 13.377273 \nL 44.698573 13.591754 \nL 54.442752 13.674945 \nL 64.186931 13.711875 \nL 73.93111 13.877232 \nL 83.675289 14.291844 \nL 93.419468 17.054008 \nL 103.163647 43.867146 \nL 112.907826 70.81841 \nL 122.652006 79.706999 \nL 132.396185 85.532082 \nL 142.140364 89.774499 \n\" clip-path=\"url(#pdcf9acd67b)\" style=\"fill: none; stroke: #1f77b4; stroke-width: 1.5; stroke-linecap: square\"/>\n   </g>\n   <g id=\"line2d_72\">\n    <path d=\"M 49.633125 13.65017 \nL 69.163125 13.888907 \nL 88.693125 14.618671 \nL 108.223125 63.371317 \nL 127.753125 83.42543 \n\" clip-path=\"url(#pdcf9acd67b)\" style=\"fill: none; stroke-dasharray: 5.55,2.4; stroke-dashoffset: 0; stroke: #ff7f0e; stroke-width: 1.5\"/>\n   </g>\n   <g id=\"line2d_73\">\n    <path d=\"M 49.633125 136.884074 \nL 69.163125 136.922727 \nL 88.693125 136.806767 \nL 108.223125 112.974173 \nL 127.753125 108.970783 \n\" clip-path=\"url(#pdcf9acd67b)\" style=\"fill: none; stroke-dasharray: 9.6,2.4,1.5,2.4; stroke-dashoffset: 0; stroke: #2ca02c; stroke-width: 1.5\"/>\n   </g>\n   <g id=\"line2d_74\">\n    <path d=\"M 34.954394 13.377273 \nL 44.698573 13.591754 \nL 54.442752 13.674945 \nL 64.186931 13.711875 \nL 73.93111 13.877232 \nL 83.675289 14.291844 \nL 93.419468 17.054008 \nL 103.163647 43.867146 \nL 112.907826 70.81841 \nL 122.652006 79.706999 \nL 132.396185 85.532082 \nL 142.140364 89.774499 \n\" clip-path=\"url(#pdcf9acd67b)\" style=\"fill: none; stroke: #1f77b4; stroke-width: 1.5; stroke-linecap: square\"/>\n   </g>\n   <g id=\"line2d_75\">\n    <path d=\"M 49.633125 13.65017 \nL 69.163125 13.888907 \nL 88.693125 14.618671 \nL 108.223125 63.371317 \nL 127.753125 83.42543 \nL 147.283125 90.954912 \n\" clip-path=\"url(#pdcf9acd67b)\" style=\"fill: none; stroke-dasharray: 5.55,2.4; stroke-dashoffset: 0; stroke: #ff7f0e; stroke-width: 1.5\"/>\n   </g>\n   <g id=\"line2d_76\">\n    <path d=\"M 49.633125 136.884074 \nL 69.163125 136.922727 \nL 88.693125 136.806767 \nL 108.223125 112.974173 \nL 127.753125 108.970783 \n\" clip-path=\"url(#pdcf9acd67b)\" style=\"fill: none; stroke-dasharray: 9.6,2.4,1.5,2.4; stroke-dashoffset: 0; stroke: #2ca02c; stroke-width: 1.5\"/>\n   </g>\n   <g id=\"line2d_77\">\n    <path d=\"M 34.954394 13.377273 \nL 44.698573 13.591754 \nL 54.442752 13.674945 \nL 64.186931 13.711875 \nL 73.93111 13.877232 \nL 83.675289 14.291844 \nL 93.419468 17.054008 \nL 103.163647 43.867146 \nL 112.907826 70.81841 \nL 122.652006 79.706999 \nL 132.396185 85.532082 \nL 142.140364 89.774499 \n\" clip-path=\"url(#pdcf9acd67b)\" style=\"fill: none; stroke: #1f77b4; stroke-width: 1.5; stroke-linecap: square\"/>\n   </g>\n   <g id=\"line2d_78\">\n    <path d=\"M 49.633125 13.65017 \nL 69.163125 13.888907 \nL 88.693125 14.618671 \nL 108.223125 63.371317 \nL 127.753125 83.42543 \nL 147.283125 90.954912 \n\" clip-path=\"url(#pdcf9acd67b)\" style=\"fill: none; stroke-dasharray: 5.55,2.4; stroke-dashoffset: 0; stroke: #ff7f0e; stroke-width: 1.5\"/>\n   </g>\n   <g id=\"line2d_79\">\n    <path d=\"M 49.633125 136.884074 \nL 69.163125 136.922727 \nL 88.693125 136.806767 \nL 108.223125 112.974173 \nL 127.753125 108.970783 \nL 147.283125 105.712853 \n\" clip-path=\"url(#pdcf9acd67b)\" style=\"fill: none; stroke-dasharray: 9.6,2.4,1.5,2.4; stroke-dashoffset: 0; stroke: #2ca02c; stroke-width: 1.5\"/>\n   </g>\n   <g id=\"line2d_80\">\n    <path d=\"M 34.954394 13.377273 \nL 44.698573 13.591754 \nL 54.442752 13.674945 \nL 64.186931 13.711875 \nL 73.93111 13.877232 \nL 83.675289 14.291844 \nL 93.419468 17.054008 \nL 103.163647 43.867146 \nL 112.907826 70.81841 \nL 122.652006 79.706999 \nL 132.396185 85.532082 \nL 142.140364 89.774499 \nL 151.884543 91.996084 \n\" clip-path=\"url(#pdcf9acd67b)\" style=\"fill: none; stroke: #1f77b4; stroke-width: 1.5; stroke-linecap: square\"/>\n   </g>\n   <g id=\"line2d_81\">\n    <path d=\"M 49.633125 13.65017 \nL 69.163125 13.888907 \nL 88.693125 14.618671 \nL 108.223125 63.371317 \nL 127.753125 83.42543 \nL 147.283125 90.954912 \n\" clip-path=\"url(#pdcf9acd67b)\" style=\"fill: none; stroke-dasharray: 5.55,2.4; stroke-dashoffset: 0; stroke: #ff7f0e; stroke-width: 1.5\"/>\n   </g>\n   <g id=\"line2d_82\">\n    <path d=\"M 49.633125 136.884074 \nL 69.163125 136.922727 \nL 88.693125 136.806767 \nL 108.223125 112.974173 \nL 127.753125 108.970783 \nL 147.283125 105.712853 \n\" clip-path=\"url(#pdcf9acd67b)\" style=\"fill: none; stroke-dasharray: 9.6,2.4,1.5,2.4; stroke-dashoffset: 0; stroke: #2ca02c; stroke-width: 1.5\"/>\n   </g>\n   <g id=\"line2d_83\">\n    <path d=\"M 34.954394 13.377273 \nL 44.698573 13.591754 \nL 54.442752 13.674945 \nL 64.186931 13.711875 \nL 73.93111 13.877232 \nL 83.675289 14.291844 \nL 93.419468 17.054008 \nL 103.163647 43.867146 \nL 112.907826 70.81841 \nL 122.652006 79.706999 \nL 132.396185 85.532082 \nL 142.140364 89.774499 \nL 151.884543 91.996084 \nL 161.628722 94.617773 \n\" clip-path=\"url(#pdcf9acd67b)\" style=\"fill: none; stroke: #1f77b4; stroke-width: 1.5; stroke-linecap: square\"/>\n   </g>\n   <g id=\"line2d_84\">\n    <path d=\"M 49.633125 13.65017 \nL 69.163125 13.888907 \nL 88.693125 14.618671 \nL 108.223125 63.371317 \nL 127.753125 83.42543 \nL 147.283125 90.954912 \n\" clip-path=\"url(#pdcf9acd67b)\" style=\"fill: none; stroke-dasharray: 5.55,2.4; stroke-dashoffset: 0; stroke: #ff7f0e; stroke-width: 1.5\"/>\n   </g>\n   <g id=\"line2d_85\">\n    <path d=\"M 49.633125 136.884074 \nL 69.163125 136.922727 \nL 88.693125 136.806767 \nL 108.223125 112.974173 \nL 127.753125 108.970783 \nL 147.283125 105.712853 \n\" clip-path=\"url(#pdcf9acd67b)\" style=\"fill: none; stroke-dasharray: 9.6,2.4,1.5,2.4; stroke-dashoffset: 0; stroke: #2ca02c; stroke-width: 1.5\"/>\n   </g>\n   <g id=\"line2d_86\">\n    <path d=\"M 34.954394 13.377273 \nL 44.698573 13.591754 \nL 54.442752 13.674945 \nL 64.186931 13.711875 \nL 73.93111 13.877232 \nL 83.675289 14.291844 \nL 93.419468 17.054008 \nL 103.163647 43.867146 \nL 112.907826 70.81841 \nL 122.652006 79.706999 \nL 132.396185 85.532082 \nL 142.140364 89.774499 \nL 151.884543 91.996084 \nL 161.628722 94.617773 \n\" clip-path=\"url(#pdcf9acd67b)\" style=\"fill: none; stroke: #1f77b4; stroke-width: 1.5; stroke-linecap: square\"/>\n   </g>\n   <g id=\"line2d_87\">\n    <path d=\"M 49.633125 13.65017 \nL 69.163125 13.888907 \nL 88.693125 14.618671 \nL 108.223125 63.371317 \nL 127.753125 83.42543 \nL 147.283125 90.954912 \nL 166.813125 95.054204 \n\" clip-path=\"url(#pdcf9acd67b)\" style=\"fill: none; stroke-dasharray: 5.55,2.4; stroke-dashoffset: 0; stroke: #ff7f0e; stroke-width: 1.5\"/>\n   </g>\n   <g id=\"line2d_88\">\n    <path d=\"M 49.633125 136.884074 \nL 69.163125 136.922727 \nL 88.693125 136.806767 \nL 108.223125 112.974173 \nL 127.753125 108.970783 \nL 147.283125 105.712853 \n\" clip-path=\"url(#pdcf9acd67b)\" style=\"fill: none; stroke-dasharray: 9.6,2.4,1.5,2.4; stroke-dashoffset: 0; stroke: #2ca02c; stroke-width: 1.5\"/>\n   </g>\n   <g id=\"line2d_89\">\n    <path d=\"M 34.954394 13.377273 \nL 44.698573 13.591754 \nL 54.442752 13.674945 \nL 64.186931 13.711875 \nL 73.93111 13.877232 \nL 83.675289 14.291844 \nL 93.419468 17.054008 \nL 103.163647 43.867146 \nL 112.907826 70.81841 \nL 122.652006 79.706999 \nL 132.396185 85.532082 \nL 142.140364 89.774499 \nL 151.884543 91.996084 \nL 161.628722 94.617773 \n\" clip-path=\"url(#pdcf9acd67b)\" style=\"fill: none; stroke: #1f77b4; stroke-width: 1.5; stroke-linecap: square\"/>\n   </g>\n   <g id=\"line2d_90\">\n    <path d=\"M 49.633125 13.65017 \nL 69.163125 13.888907 \nL 88.693125 14.618671 \nL 108.223125 63.371317 \nL 127.753125 83.42543 \nL 147.283125 90.954912 \nL 166.813125 95.054204 \n\" clip-path=\"url(#pdcf9acd67b)\" style=\"fill: none; stroke-dasharray: 5.55,2.4; stroke-dashoffset: 0; stroke: #ff7f0e; stroke-width: 1.5\"/>\n   </g>\n   <g id=\"line2d_91\">\n    <path d=\"M 49.633125 136.884074 \nL 69.163125 136.922727 \nL 88.693125 136.806767 \nL 108.223125 112.974173 \nL 127.753125 108.970783 \nL 147.283125 105.712853 \nL 166.813125 104.150148 \n\" clip-path=\"url(#pdcf9acd67b)\" style=\"fill: none; stroke-dasharray: 9.6,2.4,1.5,2.4; stroke-dashoffset: 0; stroke: #2ca02c; stroke-width: 1.5\"/>\n   </g>\n   <g id=\"line2d_92\">\n    <path d=\"M 34.954394 13.377273 \nL 44.698573 13.591754 \nL 54.442752 13.674945 \nL 64.186931 13.711875 \nL 73.93111 13.877232 \nL 83.675289 14.291844 \nL 93.419468 17.054008 \nL 103.163647 43.867146 \nL 112.907826 70.81841 \nL 122.652006 79.706999 \nL 132.396185 85.532082 \nL 142.140364 89.774499 \nL 151.884543 91.996084 \nL 161.628722 94.617773 \nL 171.372901 96.352388 \n\" clip-path=\"url(#pdcf9acd67b)\" style=\"fill: none; stroke: #1f77b4; stroke-width: 1.5; stroke-linecap: square\"/>\n   </g>\n   <g id=\"line2d_93\">\n    <path d=\"M 49.633125 13.65017 \nL 69.163125 13.888907 \nL 88.693125 14.618671 \nL 108.223125 63.371317 \nL 127.753125 83.42543 \nL 147.283125 90.954912 \nL 166.813125 95.054204 \n\" clip-path=\"url(#pdcf9acd67b)\" style=\"fill: none; stroke-dasharray: 5.55,2.4; stroke-dashoffset: 0; stroke: #ff7f0e; stroke-width: 1.5\"/>\n   </g>\n   <g id=\"line2d_94\">\n    <path d=\"M 49.633125 136.884074 \nL 69.163125 136.922727 \nL 88.693125 136.806767 \nL 108.223125 112.974173 \nL 127.753125 108.970783 \nL 147.283125 105.712853 \nL 166.813125 104.150148 \n\" clip-path=\"url(#pdcf9acd67b)\" style=\"fill: none; stroke-dasharray: 9.6,2.4,1.5,2.4; stroke-dashoffset: 0; stroke: #2ca02c; stroke-width: 1.5\"/>\n   </g>\n   <g id=\"line2d_95\">\n    <path d=\"M 34.954394 13.377273 \nL 44.698573 13.591754 \nL 54.442752 13.674945 \nL 64.186931 13.711875 \nL 73.93111 13.877232 \nL 83.675289 14.291844 \nL 93.419468 17.054008 \nL 103.163647 43.867146 \nL 112.907826 70.81841 \nL 122.652006 79.706999 \nL 132.396185 85.532082 \nL 142.140364 89.774499 \nL 151.884543 91.996084 \nL 161.628722 94.617773 \nL 171.372901 96.352388 \nL 181.11708 97.345384 \n\" clip-path=\"url(#pdcf9acd67b)\" style=\"fill: none; stroke: #1f77b4; stroke-width: 1.5; stroke-linecap: square\"/>\n   </g>\n   <g id=\"line2d_96\">\n    <path d=\"M 49.633125 13.65017 \nL 69.163125 13.888907 \nL 88.693125 14.618671 \nL 108.223125 63.371317 \nL 127.753125 83.42543 \nL 147.283125 90.954912 \nL 166.813125 95.054204 \n\" clip-path=\"url(#pdcf9acd67b)\" style=\"fill: none; stroke-dasharray: 5.55,2.4; stroke-dashoffset: 0; stroke: #ff7f0e; stroke-width: 1.5\"/>\n   </g>\n   <g id=\"line2d_97\">\n    <path d=\"M 49.633125 136.884074 \nL 69.163125 136.922727 \nL 88.693125 136.806767 \nL 108.223125 112.974173 \nL 127.753125 108.970783 \nL 147.283125 105.712853 \nL 166.813125 104.150148 \n\" clip-path=\"url(#pdcf9acd67b)\" style=\"fill: none; stroke-dasharray: 9.6,2.4,1.5,2.4; stroke-dashoffset: 0; stroke: #2ca02c; stroke-width: 1.5\"/>\n   </g>\n   <g id=\"line2d_98\">\n    <path d=\"M 34.954394 13.377273 \nL 44.698573 13.591754 \nL 54.442752 13.674945 \nL 64.186931 13.711875 \nL 73.93111 13.877232 \nL 83.675289 14.291844 \nL 93.419468 17.054008 \nL 103.163647 43.867146 \nL 112.907826 70.81841 \nL 122.652006 79.706999 \nL 132.396185 85.532082 \nL 142.140364 89.774499 \nL 151.884543 91.996084 \nL 161.628722 94.617773 \nL 171.372901 96.352388 \nL 181.11708 97.345384 \n\" clip-path=\"url(#pdcf9acd67b)\" style=\"fill: none; stroke: #1f77b4; stroke-width: 1.5; stroke-linecap: square\"/>\n   </g>\n   <g id=\"line2d_99\">\n    <path d=\"M 49.633125 13.65017 \nL 69.163125 13.888907 \nL 88.693125 14.618671 \nL 108.223125 63.371317 \nL 127.753125 83.42543 \nL 147.283125 90.954912 \nL 166.813125 95.054204 \nL 186.343125 97.604017 \n\" clip-path=\"url(#pdcf9acd67b)\" style=\"fill: none; stroke-dasharray: 5.55,2.4; stroke-dashoffset: 0; stroke: #ff7f0e; stroke-width: 1.5\"/>\n   </g>\n   <g id=\"line2d_100\">\n    <path d=\"M 49.633125 136.884074 \nL 69.163125 136.922727 \nL 88.693125 136.806767 \nL 108.223125 112.974173 \nL 127.753125 108.970783 \nL 147.283125 105.712853 \nL 166.813125 104.150148 \n\" clip-path=\"url(#pdcf9acd67b)\" style=\"fill: none; stroke-dasharray: 9.6,2.4,1.5,2.4; stroke-dashoffset: 0; stroke: #2ca02c; stroke-width: 1.5\"/>\n   </g>\n   <g id=\"line2d_101\">\n    <path d=\"M 34.954394 13.377273 \nL 44.698573 13.591754 \nL 54.442752 13.674945 \nL 64.186931 13.711875 \nL 73.93111 13.877232 \nL 83.675289 14.291844 \nL 93.419468 17.054008 \nL 103.163647 43.867146 \nL 112.907826 70.81841 \nL 122.652006 79.706999 \nL 132.396185 85.532082 \nL 142.140364 89.774499 \nL 151.884543 91.996084 \nL 161.628722 94.617773 \nL 171.372901 96.352388 \nL 181.11708 97.345384 \n\" clip-path=\"url(#pdcf9acd67b)\" style=\"fill: none; stroke: #1f77b4; stroke-width: 1.5; stroke-linecap: square\"/>\n   </g>\n   <g id=\"line2d_102\">\n    <path d=\"M 49.633125 13.65017 \nL 69.163125 13.888907 \nL 88.693125 14.618671 \nL 108.223125 63.371317 \nL 127.753125 83.42543 \nL 147.283125 90.954912 \nL 166.813125 95.054204 \nL 186.343125 97.604017 \n\" clip-path=\"url(#pdcf9acd67b)\" style=\"fill: none; stroke-dasharray: 5.55,2.4; stroke-dashoffset: 0; stroke: #ff7f0e; stroke-width: 1.5\"/>\n   </g>\n   <g id=\"line2d_103\">\n    <path d=\"M 49.633125 136.884074 \nL 69.163125 136.922727 \nL 88.693125 136.806767 \nL 108.223125 112.974173 \nL 127.753125 108.970783 \nL 147.283125 105.712853 \nL 166.813125 104.150148 \nL 186.343125 103.504085 \n\" clip-path=\"url(#pdcf9acd67b)\" style=\"fill: none; stroke-dasharray: 9.6,2.4,1.5,2.4; stroke-dashoffset: 0; stroke: #2ca02c; stroke-width: 1.5\"/>\n   </g>\n   <g id=\"line2d_104\">\n    <path d=\"M 34.954394 13.377273 \nL 44.698573 13.591754 \nL 54.442752 13.674945 \nL 64.186931 13.711875 \nL 73.93111 13.877232 \nL 83.675289 14.291844 \nL 93.419468 17.054008 \nL 103.163647 43.867146 \nL 112.907826 70.81841 \nL 122.652006 79.706999 \nL 132.396185 85.532082 \nL 142.140364 89.774499 \nL 151.884543 91.996084 \nL 161.628722 94.617773 \nL 171.372901 96.352388 \nL 181.11708 97.345384 \nL 190.861259 98.818694 \n\" clip-path=\"url(#pdcf9acd67b)\" style=\"fill: none; stroke: #1f77b4; stroke-width: 1.5; stroke-linecap: square\"/>\n   </g>\n   <g id=\"line2d_105\">\n    <path d=\"M 49.633125 13.65017 \nL 69.163125 13.888907 \nL 88.693125 14.618671 \nL 108.223125 63.371317 \nL 127.753125 83.42543 \nL 147.283125 90.954912 \nL 166.813125 95.054204 \nL 186.343125 97.604017 \n\" clip-path=\"url(#pdcf9acd67b)\" style=\"fill: none; stroke-dasharray: 5.55,2.4; stroke-dashoffset: 0; stroke: #ff7f0e; stroke-width: 1.5\"/>\n   </g>\n   <g id=\"line2d_106\">\n    <path d=\"M 49.633125 136.884074 \nL 69.163125 136.922727 \nL 88.693125 136.806767 \nL 108.223125 112.974173 \nL 127.753125 108.970783 \nL 147.283125 105.712853 \nL 166.813125 104.150148 \nL 186.343125 103.504085 \n\" clip-path=\"url(#pdcf9acd67b)\" style=\"fill: none; stroke-dasharray: 9.6,2.4,1.5,2.4; stroke-dashoffset: 0; stroke: #2ca02c; stroke-width: 1.5\"/>\n   </g>\n   <g id=\"line2d_107\">\n    <path d=\"M 34.954394 13.377273 \nL 44.698573 13.591754 \nL 54.442752 13.674945 \nL 64.186931 13.711875 \nL 73.93111 13.877232 \nL 83.675289 14.291844 \nL 93.419468 17.054008 \nL 103.163647 43.867146 \nL 112.907826 70.81841 \nL 122.652006 79.706999 \nL 132.396185 85.532082 \nL 142.140364 89.774499 \nL 151.884543 91.996084 \nL 161.628722 94.617773 \nL 171.372901 96.352388 \nL 181.11708 97.345384 \nL 190.861259 98.818694 \nL 200.605438 100.170704 \n\" clip-path=\"url(#pdcf9acd67b)\" style=\"fill: none; stroke: #1f77b4; stroke-width: 1.5; stroke-linecap: square\"/>\n   </g>\n   <g id=\"line2d_108\">\n    <path d=\"M 49.633125 13.65017 \nL 69.163125 13.888907 \nL 88.693125 14.618671 \nL 108.223125 63.371317 \nL 127.753125 83.42543 \nL 147.283125 90.954912 \nL 166.813125 95.054204 \nL 186.343125 97.604017 \n\" clip-path=\"url(#pdcf9acd67b)\" style=\"fill: none; stroke-dasharray: 5.55,2.4; stroke-dashoffset: 0; stroke: #ff7f0e; stroke-width: 1.5\"/>\n   </g>\n   <g id=\"line2d_109\">\n    <path d=\"M 49.633125 136.884074 \nL 69.163125 136.922727 \nL 88.693125 136.806767 \nL 108.223125 112.974173 \nL 127.753125 108.970783 \nL 147.283125 105.712853 \nL 166.813125 104.150148 \nL 186.343125 103.504085 \n\" clip-path=\"url(#pdcf9acd67b)\" style=\"fill: none; stroke-dasharray: 9.6,2.4,1.5,2.4; stroke-dashoffset: 0; stroke: #2ca02c; stroke-width: 1.5\"/>\n   </g>\n   <g id=\"line2d_110\">\n    <path d=\"M 34.954394 13.377273 \nL 44.698573 13.591754 \nL 54.442752 13.674945 \nL 64.186931 13.711875 \nL 73.93111 13.877232 \nL 83.675289 14.291844 \nL 93.419468 17.054008 \nL 103.163647 43.867146 \nL 112.907826 70.81841 \nL 122.652006 79.706999 \nL 132.396185 85.532082 \nL 142.140364 89.774499 \nL 151.884543 91.996084 \nL 161.628722 94.617773 \nL 171.372901 96.352388 \nL 181.11708 97.345384 \nL 190.861259 98.818694 \nL 200.605438 100.170704 \n\" clip-path=\"url(#pdcf9acd67b)\" style=\"fill: none; stroke: #1f77b4; stroke-width: 1.5; stroke-linecap: square\"/>\n   </g>\n   <g id=\"line2d_111\">\n    <path d=\"M 49.633125 13.65017 \nL 69.163125 13.888907 \nL 88.693125 14.618671 \nL 108.223125 63.371317 \nL 127.753125 83.42543 \nL 147.283125 90.954912 \nL 166.813125 95.054204 \nL 186.343125 97.604017 \nL 205.873125 100.213777 \n\" clip-path=\"url(#pdcf9acd67b)\" style=\"fill: none; stroke-dasharray: 5.55,2.4; stroke-dashoffset: 0; stroke: #ff7f0e; stroke-width: 1.5\"/>\n   </g>\n   <g id=\"line2d_112\">\n    <path d=\"M 49.633125 136.884074 \nL 69.163125 136.922727 \nL 88.693125 136.806767 \nL 108.223125 112.974173 \nL 127.753125 108.970783 \nL 147.283125 105.712853 \nL 166.813125 104.150148 \nL 186.343125 103.504085 \n\" clip-path=\"url(#pdcf9acd67b)\" style=\"fill: none; stroke-dasharray: 9.6,2.4,1.5,2.4; stroke-dashoffset: 0; stroke: #2ca02c; stroke-width: 1.5\"/>\n   </g>\n   <g id=\"line2d_113\">\n    <path d=\"M 34.954394 13.377273 \nL 44.698573 13.591754 \nL 54.442752 13.674945 \nL 64.186931 13.711875 \nL 73.93111 13.877232 \nL 83.675289 14.291844 \nL 93.419468 17.054008 \nL 103.163647 43.867146 \nL 112.907826 70.81841 \nL 122.652006 79.706999 \nL 132.396185 85.532082 \nL 142.140364 89.774499 \nL 151.884543 91.996084 \nL 161.628722 94.617773 \nL 171.372901 96.352388 \nL 181.11708 97.345384 \nL 190.861259 98.818694 \nL 200.605438 100.170704 \n\" clip-path=\"url(#pdcf9acd67b)\" style=\"fill: none; stroke: #1f77b4; stroke-width: 1.5; stroke-linecap: square\"/>\n   </g>\n   <g id=\"line2d_114\">\n    <path d=\"M 49.633125 13.65017 \nL 69.163125 13.888907 \nL 88.693125 14.618671 \nL 108.223125 63.371317 \nL 127.753125 83.42543 \nL 147.283125 90.954912 \nL 166.813125 95.054204 \nL 186.343125 97.604017 \nL 205.873125 100.213777 \n\" clip-path=\"url(#pdcf9acd67b)\" style=\"fill: none; stroke-dasharray: 5.55,2.4; stroke-dashoffset: 0; stroke: #ff7f0e; stroke-width: 1.5\"/>\n   </g>\n   <g id=\"line2d_115\">\n    <path d=\"M 49.633125 136.884074 \nL 69.163125 136.922727 \nL 88.693125 136.806767 \nL 108.223125 112.974173 \nL 127.753125 108.970783 \nL 147.283125 105.712853 \nL 166.813125 104.150148 \nL 186.343125 103.504085 \nL 205.873125 102.256133 \n\" clip-path=\"url(#pdcf9acd67b)\" style=\"fill: none; stroke-dasharray: 9.6,2.4,1.5,2.4; stroke-dashoffset: 0; stroke: #2ca02c; stroke-width: 1.5\"/>\n   </g>\n   <g id=\"line2d_116\">\n    <path d=\"M 34.954394 13.377273 \nL 44.698573 13.591754 \nL 54.442752 13.674945 \nL 64.186931 13.711875 \nL 73.93111 13.877232 \nL 83.675289 14.291844 \nL 93.419468 17.054008 \nL 103.163647 43.867146 \nL 112.907826 70.81841 \nL 122.652006 79.706999 \nL 132.396185 85.532082 \nL 142.140364 89.774499 \nL 151.884543 91.996084 \nL 161.628722 94.617773 \nL 171.372901 96.352388 \nL 181.11708 97.345384 \nL 190.861259 98.818694 \nL 200.605438 100.170704 \nL 210.349618 101.436718 \n\" clip-path=\"url(#pdcf9acd67b)\" style=\"fill: none; stroke: #1f77b4; stroke-width: 1.5; stroke-linecap: square\"/>\n   </g>\n   <g id=\"line2d_117\">\n    <path d=\"M 49.633125 13.65017 \nL 69.163125 13.888907 \nL 88.693125 14.618671 \nL 108.223125 63.371317 \nL 127.753125 83.42543 \nL 147.283125 90.954912 \nL 166.813125 95.054204 \nL 186.343125 97.604017 \nL 205.873125 100.213777 \n\" clip-path=\"url(#pdcf9acd67b)\" style=\"fill: none; stroke-dasharray: 5.55,2.4; stroke-dashoffset: 0; stroke: #ff7f0e; stroke-width: 1.5\"/>\n   </g>\n   <g id=\"line2d_118\">\n    <path d=\"M 49.633125 136.884074 \nL 69.163125 136.922727 \nL 88.693125 136.806767 \nL 108.223125 112.974173 \nL 127.753125 108.970783 \nL 147.283125 105.712853 \nL 166.813125 104.150148 \nL 186.343125 103.504085 \nL 205.873125 102.256133 \n\" clip-path=\"url(#pdcf9acd67b)\" style=\"fill: none; stroke-dasharray: 9.6,2.4,1.5,2.4; stroke-dashoffset: 0; stroke: #2ca02c; stroke-width: 1.5\"/>\n   </g>\n   <g id=\"line2d_119\">\n    <path d=\"M 34.954394 13.377273 \nL 44.698573 13.591754 \nL 54.442752 13.674945 \nL 64.186931 13.711875 \nL 73.93111 13.877232 \nL 83.675289 14.291844 \nL 93.419468 17.054008 \nL 103.163647 43.867146 \nL 112.907826 70.81841 \nL 122.652006 79.706999 \nL 132.396185 85.532082 \nL 142.140364 89.774499 \nL 151.884543 91.996084 \nL 161.628722 94.617773 \nL 171.372901 96.352388 \nL 181.11708 97.345384 \nL 190.861259 98.818694 \nL 200.605438 100.170704 \nL 210.349618 101.436718 \nL 220.093797 102.944551 \n\" clip-path=\"url(#pdcf9acd67b)\" style=\"fill: none; stroke: #1f77b4; stroke-width: 1.5; stroke-linecap: square\"/>\n   </g>\n   <g id=\"line2d_120\">\n    <path d=\"M 49.633125 13.65017 \nL 69.163125 13.888907 \nL 88.693125 14.618671 \nL 108.223125 63.371317 \nL 127.753125 83.42543 \nL 147.283125 90.954912 \nL 166.813125 95.054204 \nL 186.343125 97.604017 \nL 205.873125 100.213777 \n\" clip-path=\"url(#pdcf9acd67b)\" style=\"fill: none; stroke-dasharray: 5.55,2.4; stroke-dashoffset: 0; stroke: #ff7f0e; stroke-width: 1.5\"/>\n   </g>\n   <g id=\"line2d_121\">\n    <path d=\"M 49.633125 136.884074 \nL 69.163125 136.922727 \nL 88.693125 136.806767 \nL 108.223125 112.974173 \nL 127.753125 108.970783 \nL 147.283125 105.712853 \nL 166.813125 104.150148 \nL 186.343125 103.504085 \nL 205.873125 102.256133 \n\" clip-path=\"url(#pdcf9acd67b)\" style=\"fill: none; stroke-dasharray: 9.6,2.4,1.5,2.4; stroke-dashoffset: 0; stroke: #2ca02c; stroke-width: 1.5\"/>\n   </g>\n   <g id=\"line2d_122\">\n    <path d=\"M 34.954394 13.377273 \nL 44.698573 13.591754 \nL 54.442752 13.674945 \nL 64.186931 13.711875 \nL 73.93111 13.877232 \nL 83.675289 14.291844 \nL 93.419468 17.054008 \nL 103.163647 43.867146 \nL 112.907826 70.81841 \nL 122.652006 79.706999 \nL 132.396185 85.532082 \nL 142.140364 89.774499 \nL 151.884543 91.996084 \nL 161.628722 94.617773 \nL 171.372901 96.352388 \nL 181.11708 97.345384 \nL 190.861259 98.818694 \nL 200.605438 100.170704 \nL 210.349618 101.436718 \nL 220.093797 102.944551 \n\" clip-path=\"url(#pdcf9acd67b)\" style=\"fill: none; stroke: #1f77b4; stroke-width: 1.5; stroke-linecap: square\"/>\n   </g>\n   <g id=\"line2d_123\">\n    <path d=\"M 49.633125 13.65017 \nL 69.163125 13.888907 \nL 88.693125 14.618671 \nL 108.223125 63.371317 \nL 127.753125 83.42543 \nL 147.283125 90.954912 \nL 166.813125 95.054204 \nL 186.343125 97.604017 \nL 205.873125 100.213777 \nL 225.403125 102.36541 \n\" clip-path=\"url(#pdcf9acd67b)\" style=\"fill: none; stroke-dasharray: 5.55,2.4; stroke-dashoffset: 0; stroke: #ff7f0e; stroke-width: 1.5\"/>\n   </g>\n   <g id=\"line2d_124\">\n    <path d=\"M 49.633125 136.884074 \nL 69.163125 136.922727 \nL 88.693125 136.806767 \nL 108.223125 112.974173 \nL 127.753125 108.970783 \nL 147.283125 105.712853 \nL 166.813125 104.150148 \nL 186.343125 103.504085 \nL 205.873125 102.256133 \n\" clip-path=\"url(#pdcf9acd67b)\" style=\"fill: none; stroke-dasharray: 9.6,2.4,1.5,2.4; stroke-dashoffset: 0; stroke: #2ca02c; stroke-width: 1.5\"/>\n   </g>\n   <g id=\"line2d_125\">\n    <path d=\"M 34.954394 13.377273 \nL 44.698573 13.591754 \nL 54.442752 13.674945 \nL 64.186931 13.711875 \nL 73.93111 13.877232 \nL 83.675289 14.291844 \nL 93.419468 17.054008 \nL 103.163647 43.867146 \nL 112.907826 70.81841 \nL 122.652006 79.706999 \nL 132.396185 85.532082 \nL 142.140364 89.774499 \nL 151.884543 91.996084 \nL 161.628722 94.617773 \nL 171.372901 96.352388 \nL 181.11708 97.345384 \nL 190.861259 98.818694 \nL 200.605438 100.170704 \nL 210.349618 101.436718 \nL 220.093797 102.944551 \n\" clip-path=\"url(#pdcf9acd67b)\" style=\"fill: none; stroke: #1f77b4; stroke-width: 1.5; stroke-linecap: square\"/>\n   </g>\n   <g id=\"line2d_126\">\n    <path d=\"M 49.633125 13.65017 \nL 69.163125 13.888907 \nL 88.693125 14.618671 \nL 108.223125 63.371317 \nL 127.753125 83.42543 \nL 147.283125 90.954912 \nL 166.813125 95.054204 \nL 186.343125 97.604017 \nL 205.873125 100.213777 \nL 225.403125 102.36541 \n\" clip-path=\"url(#pdcf9acd67b)\" style=\"fill: none; stroke-dasharray: 5.55,2.4; stroke-dashoffset: 0; stroke: #ff7f0e; stroke-width: 1.5\"/>\n   </g>\n   <g id=\"line2d_127\">\n    <path d=\"M 49.633125 136.884074 \nL 69.163125 136.922727 \nL 88.693125 136.806767 \nL 108.223125 112.974173 \nL 127.753125 108.970783 \nL 147.283125 105.712853 \nL 166.813125 104.150148 \nL 186.343125 103.504085 \nL 205.873125 102.256133 \nL 225.403125 101.494106 \n\" clip-path=\"url(#pdcf9acd67b)\" style=\"fill: none; stroke-dasharray: 9.6,2.4,1.5,2.4; stroke-dashoffset: 0; stroke: #2ca02c; stroke-width: 1.5\"/>\n   </g>\n   <g id=\"patch_3\">\n    <path d=\"M 30.103125 143.1 \nL 30.103125 7.2 \n\" style=\"fill: none; stroke: #000000; stroke-width: 0.8; stroke-linejoin: miter; stroke-linecap: square\"/>\n   </g>\n   <g id=\"patch_4\">\n    <path d=\"M 225.403125 143.1 \nL 225.403125 7.2 \n\" style=\"fill: none; stroke: #000000; stroke-width: 0.8; stroke-linejoin: miter; stroke-linecap: square\"/>\n   </g>\n   <g id=\"patch_5\">\n    <path d=\"M 30.103125 143.1 \nL 225.403125 143.1 \n\" style=\"fill: none; stroke: #000000; stroke-width: 0.8; stroke-linejoin: miter; stroke-linecap: square\"/>\n   </g>\n   <g id=\"patch_6\">\n    <path d=\"M 30.103125 7.2 \nL 225.403125 7.2 \n\" style=\"fill: none; stroke: #000000; stroke-width: 0.8; stroke-linejoin: miter; stroke-linecap: square\"/>\n   </g>\n   <g id=\"legend_1\">\n    <g id=\"patch_7\">\n     <path d=\"M 138.8125 60.06875 \nL 218.403125 60.06875 \nQ 220.403125 60.06875 220.403125 58.06875 \nL 220.403125 14.2 \nQ 220.403125 12.2 218.403125 12.2 \nL 138.8125 12.2 \nQ 136.8125 12.2 136.8125 14.2 \nL 136.8125 58.06875 \nQ 136.8125 60.06875 138.8125 60.06875 \nz\n\" style=\"fill: #ffffff; opacity: 0.8; stroke: #cccccc; stroke-linejoin: miter\"/>\n    </g>\n    <g id=\"line2d_128\">\n     <path d=\"M 140.8125 20.298437 \nL 150.8125 20.298437 \nL 160.8125 20.298437 \n\" style=\"fill: none; stroke: #1f77b4; stroke-width: 1.5; stroke-linecap: square\"/>\n    </g>\n    <g id=\"text_13\">\n     <!-- train_loss -->\n     <g transform=\"translate(168.8125 23.798437)scale(0.1 -0.1)\">\n      <defs>\n       <path id=\"DejaVuSans-74\" d=\"M 1172 4494 \nL 1172 3500 \nL 2356 3500 \nL 2356 3053 \nL 1172 3053 \nL 1172 1153 \nQ 1172 725 1289 603 \nQ 1406 481 1766 481 \nL 2356 481 \nL 2356 0 \nL 1766 0 \nQ 1100 0 847 248 \nQ 594 497 594 1153 \nL 594 3053 \nL 172 3053 \nL 172 3500 \nL 594 3500 \nL 594 4494 \nL 1172 4494 \nz\n\" transform=\"scale(0.015625)\"/>\n       <path id=\"DejaVuSans-72\" d=\"M 2631 2963 \nQ 2534 3019 2420 3045 \nQ 2306 3072 2169 3072 \nQ 1681 3072 1420 2755 \nQ 1159 2438 1159 1844 \nL 1159 0 \nL 581 0 \nL 581 3500 \nL 1159 3500 \nL 1159 2956 \nQ 1341 3275 1631 3429 \nQ 1922 3584 2338 3584 \nQ 2397 3584 2469 3576 \nQ 2541 3569 2628 3553 \nL 2631 2963 \nz\n\" transform=\"scale(0.015625)\"/>\n       <path id=\"DejaVuSans-61\" d=\"M 2194 1759 \nQ 1497 1759 1228 1600 \nQ 959 1441 959 1056 \nQ 959 750 1161 570 \nQ 1363 391 1709 391 \nQ 2188 391 2477 730 \nQ 2766 1069 2766 1631 \nL 2766 1759 \nL 2194 1759 \nz\nM 3341 1997 \nL 3341 0 \nL 2766 0 \nL 2766 531 \nQ 2569 213 2275 61 \nQ 1981 -91 1556 -91 \nQ 1019 -91 701 211 \nQ 384 513 384 1019 \nQ 384 1609 779 1909 \nQ 1175 2209 1959 2209 \nL 2766 2209 \nL 2766 2266 \nQ 2766 2663 2505 2880 \nQ 2244 3097 1772 3097 \nQ 1472 3097 1187 3025 \nQ 903 2953 641 2809 \nL 641 3341 \nQ 956 3463 1253 3523 \nQ 1550 3584 1831 3584 \nQ 2591 3584 2966 3190 \nQ 3341 2797 3341 1997 \nz\n\" transform=\"scale(0.015625)\"/>\n       <path id=\"DejaVuSans-69\" d=\"M 603 3500 \nL 1178 3500 \nL 1178 0 \nL 603 0 \nL 603 3500 \nz\nM 603 4863 \nL 1178 4863 \nL 1178 4134 \nL 603 4134 \nL 603 4863 \nz\n\" transform=\"scale(0.015625)\"/>\n       <path id=\"DejaVuSans-6e\" d=\"M 3513 2113 \nL 3513 0 \nL 2938 0 \nL 2938 2094 \nQ 2938 2591 2744 2837 \nQ 2550 3084 2163 3084 \nQ 1697 3084 1428 2787 \nQ 1159 2491 1159 1978 \nL 1159 0 \nL 581 0 \nL 581 3500 \nL 1159 3500 \nL 1159 2956 \nQ 1366 3272 1645 3428 \nQ 1925 3584 2291 3584 \nQ 2894 3584 3203 3211 \nQ 3513 2838 3513 2113 \nz\n\" transform=\"scale(0.015625)\"/>\n       <path id=\"DejaVuSans-5f\" d=\"M 3263 -1063 \nL 3263 -1509 \nL -63 -1509 \nL -63 -1063 \nL 3263 -1063 \nz\n\" transform=\"scale(0.015625)\"/>\n       <path id=\"DejaVuSans-6c\" d=\"M 603 4863 \nL 1178 4863 \nL 1178 0 \nL 603 0 \nL 603 4863 \nz\n\" transform=\"scale(0.015625)\"/>\n       <path id=\"DejaVuSans-73\" d=\"M 2834 3397 \nL 2834 2853 \nQ 2591 2978 2328 3040 \nQ 2066 3103 1784 3103 \nQ 1356 3103 1142 2972 \nQ 928 2841 928 2578 \nQ 928 2378 1081 2264 \nQ 1234 2150 1697 2047 \nL 1894 2003 \nQ 2506 1872 2764 1633 \nQ 3022 1394 3022 966 \nQ 3022 478 2636 193 \nQ 2250 -91 1575 -91 \nQ 1294 -91 989 -36 \nQ 684 19 347 128 \nL 347 722 \nQ 666 556 975 473 \nQ 1284 391 1588 391 \nQ 1994 391 2212 530 \nQ 2431 669 2431 922 \nQ 2431 1156 2273 1281 \nQ 2116 1406 1581 1522 \nL 1381 1569 \nQ 847 1681 609 1914 \nQ 372 2147 372 2553 \nQ 372 3047 722 3315 \nQ 1072 3584 1716 3584 \nQ 2034 3584 2315 3537 \nQ 2597 3491 2834 3397 \nz\n\" transform=\"scale(0.015625)\"/>\n      </defs>\n      <use xlink:href=\"#DejaVuSans-74\"/>\n      <use xlink:href=\"#DejaVuSans-72\" x=\"39.208984\"/>\n      <use xlink:href=\"#DejaVuSans-61\" x=\"80.322266\"/>\n      <use xlink:href=\"#DejaVuSans-69\" x=\"141.601562\"/>\n      <use xlink:href=\"#DejaVuSans-6e\" x=\"169.384766\"/>\n      <use xlink:href=\"#DejaVuSans-5f\" x=\"232.763672\"/>\n      <use xlink:href=\"#DejaVuSans-6c\" x=\"282.763672\"/>\n      <use xlink:href=\"#DejaVuSans-6f\" x=\"310.546875\"/>\n      <use xlink:href=\"#DejaVuSans-73\" x=\"371.728516\"/>\n      <use xlink:href=\"#DejaVuSans-73\" x=\"423.828125\"/>\n     </g>\n    </g>\n    <g id=\"line2d_129\">\n     <path d=\"M 140.8125 35.254687 \nL 150.8125 35.254687 \nL 160.8125 35.254687 \n\" style=\"fill: none; stroke-dasharray: 5.55,2.4; stroke-dashoffset: 0; stroke: #ff7f0e; stroke-width: 1.5\"/>\n    </g>\n    <g id=\"text_14\">\n     <!-- val_loss -->\n     <g transform=\"translate(168.8125 38.754687)scale(0.1 -0.1)\">\n      <defs>\n       <path id=\"DejaVuSans-76\" d=\"M 191 3500 \nL 800 3500 \nL 1894 563 \nL 2988 3500 \nL 3597 3500 \nL 2284 0 \nL 1503 0 \nL 191 3500 \nz\n\" transform=\"scale(0.015625)\"/>\n      </defs>\n      <use xlink:href=\"#DejaVuSans-76\"/>\n      <use xlink:href=\"#DejaVuSans-61\" x=\"59.179688\"/>\n      <use xlink:href=\"#DejaVuSans-6c\" x=\"120.458984\"/>\n      <use xlink:href=\"#DejaVuSans-5f\" x=\"148.242188\"/>\n      <use xlink:href=\"#DejaVuSans-6c\" x=\"198.242188\"/>\n      <use xlink:href=\"#DejaVuSans-6f\" x=\"226.025391\"/>\n      <use xlink:href=\"#DejaVuSans-73\" x=\"287.207031\"/>\n      <use xlink:href=\"#DejaVuSans-73\" x=\"339.306641\"/>\n     </g>\n    </g>\n    <g id=\"line2d_130\">\n     <path d=\"M 140.8125 50.210937 \nL 150.8125 50.210937 \nL 160.8125 50.210937 \n\" style=\"fill: none; stroke-dasharray: 9.6,2.4,1.5,2.4; stroke-dashoffset: 0; stroke: #2ca02c; stroke-width: 1.5\"/>\n    </g>\n    <g id=\"text_15\">\n     <!-- val_acc -->\n     <g transform=\"translate(168.8125 53.710937)scale(0.1 -0.1)\">\n      <use xlink:href=\"#DejaVuSans-76\"/>\n      <use xlink:href=\"#DejaVuSans-61\" x=\"59.179688\"/>\n      <use xlink:href=\"#DejaVuSans-6c\" x=\"120.458984\"/>\n      <use xlink:href=\"#DejaVuSans-5f\" x=\"148.242188\"/>\n      <use xlink:href=\"#DejaVuSans-61\" x=\"198.242188\"/>\n      <use xlink:href=\"#DejaVuSans-63\" x=\"259.521484\"/>\n      <use xlink:href=\"#DejaVuSans-63\" x=\"314.501953\"/>\n     </g>\n    </g>\n   </g>\n  </g>\n </g>\n <defs>\n  <clipPath id=\"pdcf9acd67b\">\n   <rect x=\"30.103125\" y=\"7.2\" width=\"195.3\" height=\"135.9\"/>\n  </clipPath>\n </defs>\n</svg>\n",
      "text/plain": [
       "<Figure size 252x180 with 1 Axes>"
      ]
     },
     "metadata": {
      "needs_background": "light"
     },
     "output_type": "display_data"
    }
   ],
   "source": [
    "@d2l.add_to_class(LeNet)\n",
    "def __call__(self, X):\n",
    "    for layer in self.net:\n",
    "        X = layer(X)\n",
    "    return X\n",
    "\n",
    "trainer = d2l.Trainer(max_epochs=10, num_gpus=1)\n",
    "data = d2l.FashionMNIST(batch_size=128)\n",
    "model = LeNet(lr=0.1)\n",
    "trainer.fit(model, data)"
   ]
  },
  {
   "cell_type": "markdown",
   "id": "d0f23620",
   "metadata": {
    "origin_pos": 13
   },
   "source": [
    "## Summary\n",
    "\n",
    "In this chapter we made significant progress. We moved from the MLPs of the 1980s to the CNNs of the 1990s and early 2000s. The architectures proposed, e.g., in the form of LeNet-5 remain meaningful, even to this day. It is worth comparing the error rates on Fashion-MNIST achievable with LeNet-5 both to the very best possible with MLPs (:numref:`sec_mlp-implementation`) and those with significantly more advanced architectures such as ResNet (:numref:`sec_resnet`). LeNet is much more similar to the latter than to the former. One of the primary differences, as we shall see, is that greater amounts of computation afforded significantly more complex architectures.\n",
    "\n",
    "A second difference is the relative ease with which we were able to implement LeNet. What used to be an engineering challenge worth months of C++ and assembly code, engineering to improve SN, an early Lisp based deep learning tool :cite:`Bottou.Le-Cun.1988`, and finally experimentation with models can now be accomplished in minutes. It is this incredible productivity boost that has democratized deep learning model development tremendously. In the next chapter we will follow down this rabbit to hole to see where it takes us.\n",
    "\n",
    "## Exercises\n",
    "\n",
    "1. Let's modernize LeNet. Implement and test the following changes:\n",
    "    1. Replace the average pooling with max-pooling.\n",
    "    1. Replace the softmax layer with ReLU.\n",
    "1. Try to change the size of the LeNet style network to improve its accuracy in addition to max-pooling and ReLU.\n",
    "    1. Adjust the convolution window size.\n",
    "    1. Adjust the number of output channels.\n",
    "    1. Adjust the number of convolution layers.\n",
    "    1. Adjust the number of fully connected layers.\n",
    "    1. Adjust the learning rates and other training details (e.g., initialization and number of epochs.)\n",
    "1. Try out the improved network on the original MNIST dataset.\n",
    "1. Display the activations of the first and second layer of LeNet for different inputs (e.g., sweaters and coats).\n",
    "1. What happens to the activations when you feed significantly different images into the network (e.g., cats, cars, or even random noise)?\n"
   ]
  },
  {
   "cell_type": "markdown",
   "id": "d53d7722",
   "metadata": {
    "origin_pos": 15,
    "tab": [
     "pytorch"
    ]
   },
   "source": [
    "[Discussions](https://discuss.d2l.ai/t/74)\n"
   ]
  }
 ],
 "metadata": {
  "accelerator": "GPU",
  "kernelspec": {
   "display_name": "Python 3.9.13 ('base')",
   "language": "python",
   "name": "python3"
  },
  "language_info": {
   "codemirror_mode": {
    "name": "ipython",
    "version": 3
   },
   "file_extension": ".py",
   "mimetype": "text/x-python",
   "name": "python",
   "nbconvert_exporter": "python",
   "pygments_lexer": "ipython3",
   "version": "3.9.13"
  },
  "vscode": {
   "interpreter": {
    "hash": "626d743d6476408aa1b36c3ff0d1f9d9d03e37c6879626ddfcdd13d658004bbf"
   }
  }
 },
 "nbformat": 4,
 "nbformat_minor": 5
}
