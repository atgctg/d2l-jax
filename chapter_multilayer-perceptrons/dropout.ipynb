{
 "cells": [
  {
   "cell_type": "markdown",
   "id": "06c88fbd",
   "metadata": {},
   "source": [
    "The following additional libraries are needed to run this\n",
    "notebook. Note that running on Colab is experimental, please report a Github\n",
    "issue if you have any problem."
   ]
  },
  {
   "cell_type": "code",
   "execution_count": 1,
   "id": "1bb750f5",
   "metadata": {},
   "outputs": [],
   "source": [
    "%%capture\n",
    "\n",
    "import sys\n",
    "sys.path.append('..')\n",
    "import mock_d2l_jax as d2l"
   ]
  },
  {
   "cell_type": "markdown",
   "id": "682f4f60",
   "metadata": {
    "origin_pos": 1
   },
   "source": [
    "# Dropout\n",
    ":label:`sec_dropout`\n",
    "\n",
    "\n",
    "Let's think briefly about what we\n",
    "expect from a good predictive model.\n",
    "We want it to peform well on unseen data.\n",
    "Classical generalization theory\n",
    "suggests that to close the gap between\n",
    "train and test performance,\n",
    "we should aim for a simple model.\n",
    "Simplicity can come in the form\n",
    "of a small number of dimensions.\n",
    "We explored this when discussing the\n",
    "monomial basis functions of linear models\n",
    "in :numref:`sec_generalization_basics`.\n",
    "Additionally, as we saw when discussing weight decay\n",
    "($\\ell_2$ regularization) in :numref:`sec_weight_decay`,\n",
    "the (inverse) norm of the parameters also\n",
    "represents a useful measure of simplicity.\n",
    "Another useful notion of simplicity is smoothness,\n",
    "i.e., that the function should not be sensitive\n",
    "to small changes to its inputs.\n",
    "For instance, when we classify images,\n",
    "we would expect that adding some random noise\n",
    "to the pixels should be mostly harmless.\n",
    "\n",
    "In 1995, Christopher Bishop formalized\n",
    "this idea when he proved that training with input noise\n",
    "is equivalent to Tikhonov regularization :cite:`Bishop.1995`.\n",
    "This work drew a clear mathematical connection\n",
    "between the requirement that a function be smooth (and thus simple),\n",
    "and the requirement that it be resilient\n",
    "to perturbations in the input.\n",
    "\n",
    "Then, in 2014, Srivastava et al. :cite:`Srivastava.Hinton.Krizhevsky.ea.2014`\n",
    "developed a clever idea for how to apply Bishop's idea\n",
    "to the internal layers of a network, too.\n",
    "Their idea, called *dropout*, involves\n",
    "injecting noise while computing\n",
    "each internal layer during forward propagation,\n",
    "and it has become a standard technique\n",
    "for training neural networks.\n",
    "The method is called *dropout* because we literally\n",
    "*drop out* some neurons during training.\n",
    "Throughout training, on each iteration,\n",
    "standard dropout consists of zeroing out\n",
    "some fraction of the nodes in each layer\n",
    "before calculating the subsequent layer.\n",
    "\n",
    "To be clear, we are imposing\n",
    "our own narrative with the link to Bishop.\n",
    "The original paper on dropout\n",
    "offers intuition through a surprising\n",
    "analogy to sexual reproduction.\n",
    "The authors argue that neural network overfitting\n",
    "is characterized by a state in which\n",
    "each layer relies on a specific\n",
    "pattern of activations in the previous layer,\n",
    "calling this condition *co-adaptation*.\n",
    "dropout, they claim, breaks up co-adaptation\n",
    "just as sexual reproduction is argued to\n",
    "break up co-adapted genes.\n",
    "While the explanatory of this theory is certainly up for debate,\n",
    "the dropout technique itself has proved enduring,\n",
    "and various forms of dropout are implemented\n",
    "in most deep learning libraries. \n",
    "\n",
    "\n",
    "The key challenge is how to inject this noise.\n",
    "One idea is to inject the noise in an *unbiased* manner\n",
    "so that the expected value of each layer---while fixing\n",
    "the others---equals to the value it would have taken absent noise.\n",
    "In Bishop's work, he added Gaussian noise\n",
    "to the inputs to a linear model.\n",
    "At each training iteration, he added noise\n",
    "sampled from a distribution with mean zero\n",
    "$\\epsilon \\sim \\mathcal{N}(0,\\sigma^2)$ to the input $\\mathbf{x}$,\n",
    "yielding a perturbed point $\\mathbf{x}' = \\mathbf{x} + \\epsilon$.\n",
    "In expectation, $E[\\mathbf{x}'] = \\mathbf{x}$.\n",
    "\n",
    "In standard dropout regularization,\n",
    "one zeros out some fraction of the nodes in each layer\n",
    "and then *debiases* each layer by normalizing\n",
    "by the fraction of nodes that were retained (not dropped out).\n",
    "In other words,\n",
    "with *dropout probability* $p$,\n",
    "each intermediate activation $h$ is replaced by\n",
    "a random variable $h'$ as follows:\n",
    "\n",
    "$$\n",
    "\\begin{aligned}\n",
    "h' =\n",
    "\\begin{cases}\n",
    "    0 & \\text{ with probability } p \\\\\n",
    "    \\frac{h}{1-p} & \\text{ otherwise}\n",
    "\\end{cases}\n",
    "\\end{aligned}\n",
    "$$\n",
    "\n",
    "By design, the expectation remains unchanged, i.e., $E[h'] = h$.\n",
    "\n",
    "## Dropout in Practice\n",
    "\n",
    "Recall the MLP with a hidden layer and 5 hidden units\n",
    "in :numref:`fig_mlp`.\n",
    "When we apply dropout to a hidden layer,\n",
    "zeroing out each hidden unit with probability $p$,\n",
    "the result can be viewed as a network\n",
    "containing only a subset of the original neurons.\n",
    "In :numref:`fig_dropout2`, $h_2$ and $h_5$ are removed.\n",
    "Consequently, the calculation of the outputs\n",
    "no longer depends on $h_2$ or $h_5$\n",
    "and their respective gradient also vanishes\n",
    "when performing backpropagation.\n",
    "In this way, the calculation of the output layer\n",
    "cannot be overly dependent on any\n",
    "one element of $h_1, \\ldots, h_5$.\n",
    "\n",
    "![MLP before and after dropout.](http://d2l.ai/_images/dropout2.svg)\n",
    ":label:`fig_dropout2`\n",
    "\n",
    "Typically, we disable dropout at test time.\n",
    "Given a trained model and a new example,\n",
    "we do not drop out any nodes\n",
    "and thus do not need to normalize.\n",
    "However, there are some exceptions:\n",
    "some researchers use dropout at test time as a heuristic\n",
    "for estimating the *uncertainty* of neural network predictions:\n",
    "if the predictions agree across many different dropout masks,\n",
    "then we might say that the network is more confident.\n",
    "\n",
    "## Implementation from Scratch\n",
    "\n",
    "To implement the dropout function for a single layer,\n",
    "we must draw as many samples\n",
    "from a Bernoulli (binary) random variable\n",
    "as our layer has dimensions,\n",
    "where the random variable takes value $1$ (keep)\n",
    "with probability $1-p$ and $0$ (drop) with probability $p$.\n",
    "One easy way to implement this is to first draw samples\n",
    "from the uniform distribution $U[0, 1]$.\n",
    "Then we can keep those nodes for which the corresponding\n",
    "sample is greater than $p$, dropping the rest.\n",
    "\n",
    "In the following code, we (**implement a `dropout_layer` function\n",
    "that drops out the elements in the tensor input `X`\n",
    "with probability `dropout`**),\n",
    "rescaling the remainder as described above:\n",
    "dividing the survivors by `1.0-dropout`.\n"
   ]
  },
  {
   "cell_type": "code",
   "execution_count": 2,
   "id": "1978f111",
   "metadata": {
    "attributes": {
     "classes": [],
     "id": "",
     "n": "7"
    },
    "execution": {
     "iopub.execute_input": "2022-07-13T08:09:49.437930Z",
     "iopub.status.busy": "2022-07-13T08:09:49.437608Z",
     "iopub.status.idle": "2022-07-13T08:09:51.426416Z",
     "shell.execute_reply": "2022-07-13T08:09:51.425459Z"
    },
    "origin_pos": 3,
    "tab": [
     "pytorch"
    ]
   },
   "outputs": [],
   "source": [
    "import jax\n",
    "from jax import numpy as jnp, random, grad, vmap, jit\n",
    "from flax import linen as nn\n",
    "import optax\n",
    "# from d2l import jax as d2l\n",
    "\n",
    "def dropout_layer(X, dropout, key=random.PRNGKey(0)):\n",
    "    assert 0 <= dropout <= 1\n",
    "    if dropout == 1: return jnp.zeros_like(X)\n",
    "    mask = (random.uniform(key, X.shape) > dropout).astype(jnp.float32)\n",
    "    return mask * X / (1.0 - dropout)"
   ]
  },
  {
   "cell_type": "markdown",
   "id": "a9988f1c",
   "metadata": {
    "origin_pos": 5
   },
   "source": [
    "We can [**test out the `dropout_layer` function on a few examples**].\n",
    "In the following lines of code,\n",
    "we pass our input `X` through the dropout operation,\n",
    "with probabilities 0, 0.5, and 1, respectively.\n"
   ]
  },
  {
   "cell_type": "code",
   "execution_count": 3,
   "id": "07db3dfc",
   "metadata": {
    "attributes": {
     "classes": [],
     "id": "",
     "n": "6"
    },
    "execution": {
     "iopub.execute_input": "2022-07-13T08:09:51.430982Z",
     "iopub.status.busy": "2022-07-13T08:09:51.430294Z",
     "iopub.status.idle": "2022-07-13T08:09:51.457689Z",
     "shell.execute_reply": "2022-07-13T08:09:51.456866Z"
    },
    "origin_pos": 6,
    "tab": [
     "pytorch"
    ]
   },
   "outputs": [
    {
     "name": "stdout",
     "output_type": "stream",
     "text": [
      "dropout_p = 0: [[ 0.  1.  2.  3.  4.  5.  6.  7.]\n",
      " [ 8.  9. 10. 11. 12. 13. 14. 15.]]\n",
      "dropout_p = 0.5: [[ 0.  2.  4.  6.  8.  0. 12. 14.]\n",
      " [ 0.  0. 20. 22.  0.  0.  0. 30.]]\n",
      "dropout_p = 1: [[0. 0. 0. 0. 0. 0. 0. 0.]\n",
      " [0. 0. 0. 0. 0. 0. 0. 0.]]\n"
     ]
    }
   ],
   "source": [
    "X = jnp.arange(16, dtype=jnp.float32).reshape((2, 8))\n",
    "print('dropout_p = 0:', dropout_layer(X, 0))\n",
    "print('dropout_p = 0.5:', dropout_layer(X, 0.5))\n",
    "print('dropout_p = 1:', dropout_layer(X, 1))"
   ]
  },
  {
   "cell_type": "markdown",
   "id": "d015d710",
   "metadata": {
    "origin_pos": 7
   },
   "source": [
    "### Defining the Model\n",
    "\n",
    "The model below applies dropout to the output\n",
    "of each hidden layer (following the activation function).\n",
    "We can set dropout probabilities for each layer separately.\n",
    "A common trend is to set\n",
    "a lower dropout probability closer to the input layer.\n",
    "We ensure that dropout is only active during training.\n"
   ]
  },
  {
   "cell_type": "code",
   "execution_count": 4,
   "id": "18ea355c",
   "metadata": {
    "execution": {
     "iopub.execute_input": "2022-07-13T08:09:51.461563Z",
     "iopub.status.busy": "2022-07-13T08:09:51.461012Z",
     "iopub.status.idle": "2022-07-13T08:09:51.467547Z",
     "shell.execute_reply": "2022-07-13T08:09:51.466714Z"
    },
    "origin_pos": 9,
    "tab": [
     "pytorch"
    ]
   },
   "outputs": [],
   "source": [
    "class DropoutMLPScratch(d2l.Classifier):\n",
    "    num_hiddens_1: int\n",
    "    num_hiddens_2: int\n",
    "    num_outputs: int\n",
    "    dropout_1: float\n",
    "    dropout_2: float\n",
    "    lr: float\n",
    "    keys: list[random.PRNGKey]\n",
    "\n",
    "    def setup(self):\n",
    "        self.lin1 = nn.Dense(self.num_hiddens_1)\n",
    "        self.lin2 = nn.Dense(self.num_hiddens_2)\n",
    "        self.lin3 = nn.Dense(self.num_outputs)\n",
    "        self.relu = nn.relu\n",
    "        \n",
    "    def __call__(self, X):\n",
    "        H1 = self.relu(self.lin1(X.reshape((X.shape[0], -1))))\n",
    "        if self.training: # TODO: self.training is None here for some reason (same w/ concise below)\n",
    "            H1 = dropout_layer(H1, self.dropout_1, self.keys[0])\n",
    "        H2 = self.relu(self.lin2(H1))\n",
    "        if self.training:\n",
    "            H2 = dropout_layer(H2, self.dropout_2, self.keys[1])\n",
    "        return self.lin3(H2)"
   ]
  },
  {
   "cell_type": "markdown",
   "id": "029fac0d",
   "metadata": {
    "origin_pos": 11
   },
   "source": [
    "### [**Training**]\n",
    "\n",
    "The following is similar to the training of MLPs described previously.\n"
   ]
  },
  {
   "cell_type": "code",
   "execution_count": null,
   "id": "c95ff800",
   "metadata": {
    "execution": {
     "iopub.execute_input": "2022-07-13T08:09:51.471135Z",
     "iopub.status.busy": "2022-07-13T08:09:51.470684Z",
     "iopub.status.idle": "2022-07-13T08:10:41.977384Z",
     "shell.execute_reply": "2022-07-13T08:10:41.976358Z"
    },
    "origin_pos": 12,
    "tab": [
     "pytorch"
    ]
   },
   "outputs": [],
   "source": [
    "hparams = {'num_outputs':10, 'num_hiddens_1':256, 'num_hiddens_2':256,\n",
    "           'dropout_1':0.5, 'dropout_2':0.5, 'lr':0.1}\n",
    "model = DropoutMLPScratch(keys=random.split(random.PRNGKey(1)), **hparams)\n",
    "data = d2l.FashionMNIST(batch_size=256)\n",
    "trainer = d2l.Trainer(max_epochs=10)\n",
    "trainer.fit(model, data)"
   ]
  },
  {
   "cell_type": "markdown",
   "id": "1a3b098c",
   "metadata": {
    "origin_pos": 13
   },
   "source": [
    "## [**Concise Implementation**]\n",
    "\n",
    "With high-level APIs, all we need to do is add a `Dropout` layer\n",
    "after each fully connected layer,\n",
    "passing in the dropout probability\n",
    "as the only argument to its constructor.\n",
    "During training, the `Dropout` layer will randomly\n",
    "drop out outputs of the previous layer\n",
    "(or equivalently, the inputs to the subsequent layer)\n",
    "according to the specified dropout probability.\n",
    "When not in training mode,\n",
    "the `Dropout` layer simply passes the data through during testing.\n"
   ]
  },
  {
   "cell_type": "code",
   "execution_count": 11,
   "id": "10216b25",
   "metadata": {
    "execution": {
     "iopub.execute_input": "2022-07-13T08:10:41.981483Z",
     "iopub.status.busy": "2022-07-13T08:10:41.980811Z",
     "iopub.status.idle": "2022-07-13T08:10:41.986868Z",
     "shell.execute_reply": "2022-07-13T08:10:41.985941Z"
    },
    "origin_pos": 15,
    "tab": [
     "pytorch"
    ]
   },
   "outputs": [],
   "source": [
    "class DropoutMLP(d2l.Classifier):\n",
    "    num_hiddens_1: int\n",
    "    num_hiddens_2: int\n",
    "    num_outputs: int\n",
    "    dropout_1: float\n",
    "    dropout_2: float\n",
    "    lr: float\n",
    "    \n",
    "    @nn.compact\n",
    "    def __call__(self, X):\n",
    "        x = nn.relu(nn.Dense(self.num_hiddens_1)(X.reshape((X.shape[0], -1))))\n",
    "        x = nn.Dropout(self.dropout_1, deterministic=False)(x)\n",
    "        x = nn.relu(nn.Dense(self.num_hiddens_2)(x))\n",
    "        x = nn.Dropout(self.dropout_2, deterministic=False)(x)\n",
    "        return nn.Dense(self.num_outputs)(x)"
   ]
  },
  {
   "cell_type": "markdown",
   "id": "c85063c6",
   "metadata": {
    "origin_pos": 17
   },
   "source": [
    "Next, we [**train the model**].\n"
   ]
  },
  {
   "cell_type": "code",
   "execution_count": null,
   "id": "b8776a7f",
   "metadata": {
    "execution": {
     "iopub.execute_input": "2022-07-13T08:10:41.990362Z",
     "iopub.status.busy": "2022-07-13T08:10:41.989770Z",
     "iopub.status.idle": "2022-07-13T08:11:32.422394Z",
     "shell.execute_reply": "2022-07-13T08:11:32.421462Z"
    },
    "origin_pos": 18,
    "tab": [
     "pytorch"
    ]
   },
   "outputs": [],
   "source": [
    "model = DropoutMLP(**hparams)\n",
    "trainer.fit(model, data, rngs={'params': random.PRNGKey(0), 'dropout': random.PRNGKey(1)})"
   ]
  },
  {
   "cell_type": "markdown",
   "id": "a1a99695",
   "metadata": {
    "origin_pos": 19
   },
   "source": [
    "## Summary\n",
    "\n",
    "* Beyond controlling the number of dimensions and the size of the weight vector, dropout is yet another tool to avoid overfitting. Often they are used jointly.\n",
    "* Dropout replaces an activation $h$ with a random variable with expected value $h$.\n",
    "* Dropout is only used during training.\n",
    "\n",
    "\n",
    "## Exercises\n",
    "\n",
    "1. What happens if you change the dropout probabilities for the first and second layers? In particular, what happens if you switch the ones for both layers? Design an experiment to answer these questions, describe your results quantitatively, and summarize the qualitative takeaways.\n",
    "1. Increase the number of epochs and compare the results obtained when using dropout with those when not using it.\n",
    "1. What is the variance of the activations in each hidden layer when dropout is and is not applied? Draw a plot to show how this quantity evolves over time for both models.\n",
    "1. Why is dropout not typically used at test time?\n",
    "1. Using the model in this section as an example, compare the effects of using dropout and weight decay. What happens when dropout and weight decay are used at the same time? Are the results additive? Are there diminished returns (or worse)? Do they cancel each other out?\n",
    "1. What happens if we apply dropout to the individual weights of the weight matrix rather than the activations?\n",
    "1. Invent another technique for injecting random noise at each layer that is different from the standard dropout technique. Can you develop a method that outperforms dropout on the Fashion-MNIST dataset (for a fixed architecture)?\n"
   ]
  },
  {
   "cell_type": "markdown",
   "id": "415e9766",
   "metadata": {
    "origin_pos": 21,
    "tab": [
     "pytorch"
    ]
   },
   "source": [
    "[Discussions](https://discuss.d2l.ai/t/101)\n"
   ]
  }
 ],
 "metadata": {
  "kernelspec": {
   "display_name": "Python 3.9.13 ('base')",
   "language": "python",
   "name": "python3"
  },
  "language_info": {
   "codemirror_mode": {
    "name": "ipython",
    "version": 3
   },
   "file_extension": ".py",
   "mimetype": "text/x-python",
   "name": "python",
   "nbconvert_exporter": "python",
   "pygments_lexer": "ipython3",
   "version": "3.9.13"
  },
  "vscode": {
   "interpreter": {
    "hash": "626d743d6476408aa1b36c3ff0d1f9d9d03e37c6879626ddfcdd13d658004bbf"
   }
  }
 },
 "nbformat": 4,
 "nbformat_minor": 5
}
